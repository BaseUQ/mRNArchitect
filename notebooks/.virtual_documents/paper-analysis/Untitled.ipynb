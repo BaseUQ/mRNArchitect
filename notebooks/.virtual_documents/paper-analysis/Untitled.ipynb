import concurrent.futures
import dataclasses
import os
import pathlib
import random

from dnachisel.builtin_specifications import EnforceGCContent, EnforceTranslation
from dnachisel.builtin_specifications.codon_optimization import CodonOptimize
from dnachisel.DnaOptimizationProblem import DnaOptimizationProblem, NoSolutionError
import plotnine as p9
import polars as pl

from tools.organism import KAZUSA_HOMO_SAPIENS, load_organism
from tools.sequence import Sequence
from tools.utils.fasta import parse_fasta_file

DATA_DIR = pathlib.Path(os.getcwd()) / ".." / ".." /"_analysis"
OUTPUT_DIR = DATA_DIR / "output"


SUBSAMPLE_LIMIT = None

@dataclasses.dataclass
class InputSequence:
    source: str
    name: str
    sequence: Sequence | None

input_files = [path for path in DATA_DIR.iterdir() if path.is_file()]
sequences: list[InputSequence] = []
for file in input_files:
    next_sequences = [
        InputSequence(source=file.name, name=it[0], sequence=it[1])
        for it in parse_fasta_file(file)
    ]
    if SUBSAMPLE_LIMIT and SUBSAMPLE_LIMIT < len(next_sequences):
        next_sequences = random.sample(next_sequences, SUBSAMPLE_LIMIT)
    sequences.extend(next_sequences)
print(len(sequences))


from tools.constants import CODON_TO_AMINO_ACID_MAP

def _max_cai(s: str) -> str | None:
    if len(s) % 3 != 0:
        return None
    organism = load_organism(KAZUSA_HOMO_SAPIENS)
    sequence = Sequence.from_string(s)
    output_sequence: str = ""
    for codon in sequence.codons:
        amino_acid = CODON_TO_AMINO_ACID_MAP[codon]
        output_sequence += organism.max_codon(amino_acid).codon
    return output_sequence

df = pl.DataFrame({
    "source": [it.source for it in sequences],
    "name": [it.name for it in sequences],
    "sequence": [str(it.sequence) for it in sequences],
}).with_columns(
    max_cai_sequence = pl.col("sequence").map_elements(
        lambda x: _max_cai(x), return_dtype=str
    ),
)
df



