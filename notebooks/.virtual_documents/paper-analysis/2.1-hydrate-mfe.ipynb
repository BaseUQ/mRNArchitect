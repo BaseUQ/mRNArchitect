import concurrent.futures
import pathlib
import os

import polars as pl
import plotnine as p9

from tools.sequence.sequence import Sequence

DATA_DIR = pathlib.Path(os.getcwd()) / ".." /"_analysis"
OUTPUT_DIR = DATA_DIR / "output"


df = pl.read_csv(OUTPUT_DIR / "1-optimise.csv")
df


def _mfe(sequence: str) -> float | None:
    if not sequence:
        return None

    return Sequence.from_string(sequence).minimum_free_energy.energy

with concurrent.futures.ProcessPoolExecutor() as executor:
    df = df.with_columns(
        input_mfe=pl.Series(
            list(executor.map(_mfe, df["input_sequence"].to_list()))
        ),
        output_mfe=pl.Series(
            list(executor.map(_mfe, df["output_sequence"].to_list()))
        ),
    )

df.write_csv(output_dir / "2.1-hydrate-mfe.csv")


df.write_csv(OUTPUT_DIR / "2.1-hydrate-mfe.csv")



