import concurrent.futures
import pathlib
import os

import polars as pl
import plotnine as p9

from tools.sequence.sequence import Sequence


df = pl.read_csv(pathlib.Path(os.getcwd()) / ".." / "_analysis_data" / "output" / "1-optimised.csv")
df


def _mfe(sequence: str) -> float | None:
    if not sequence:
        return None

    return Sequence.from_string(sequence).minimum_free_energy()

with concurrent.futures.ProcessPoolExecutor() as executor:
    results = executor.map(_mfe, df["input_sequence"].to_list())
    df["input_mfe"] = pl.Series(results)

with concurrent.futures.ProcessPoolExecutor() as executor:
    results = executor.map(_mfe, df["output_sequence"].to_list())
    df["output_mfe"] = pl.Series(results)

df.write_csv(output_dir / "2.1-hydrate-mfe.csv")



