import csv
import os
import pathlib

import polars as pl
import plotnine as p9

from tools.sequence import Sequence


def _read_data():
    with open(pathlib.Path(os.getcwd()) / "gemorna" / "sequences.csv", "r") as f:
        sequences = pl.DataFrame(list(csv.DictReader(f)))
    with open(pathlib.Path(os.getcwd()) / "gemorna" / "cai.csv", "r") as f:
        cai = pl.DataFrame(list(csv.DictReader(f)))
    with open(pathlib.Path(os.getcwd()) / "gemorna" / "gc.csv", "r") as f:
        gc = pl.DataFrame(list(csv.DictReader(f)))
    with open(pathlib.Path(os.getcwd()) / "gemorna" / "normalized-mfe.csv", "r") as f:
        normalized_mfe = pl.DataFrame(list(csv.DictReader(f)))

    sequences = sequences.with_columns(
        natural_cai=cai["Natural"].cast(pl.Float64, strict=False),
        gemorna_cai=cai["GEMORNA"].cast(pl.Float64, strict=False),
        cai_cai=cai["CAI-optimized"].cast(pl.Float64, strict=False),
        lineardesign_cai=cai["LinearDesign (lambda=1)"].cast(pl.Float64, strict=False),
        random_cai=cai["Random"].cast(pl.Float64, strict=False),
        natural_gc=gc["Natural"].cast(pl.Float64, strict=False),
        gemorna_gc=gc["GEMORNA"].cast(pl.Float64, strict=False),
        cai_gc=gc["CAI-optimized"].cast(pl.Float64, strict=False),
        lineardesign_gc=gc["LinearDesign (lambda=1)"].cast(pl.Float64, strict=False),
        random_gc=gc["Random"].cast(pl.Float64, strict=False),
        natural_mfe=normalized_mfe["Natural"].cast(pl.Float64, strict=False),
        gemorna_mfe=normalized_mfe["GEMORNA"].cast(pl.Float64, strict=False),
        cai_mfe=normalized_mfe["CAI-optimized"].cast(pl.Float64, strict=False),
        lineardesign_mfe=normalized_mfe["LinearDesign (lambda=1)"].cast(
            pl.Float64, strict=False
        ),
        random_mfe=normalized_mfe["Random"].cast(pl.Float64, strict=False),
    )

    return sequences


df = _read_data()
df


df2 = (
    df.with_columns(
        natural_cai_2=pl.col("Natural").map_elements(
            lambda x: Sequence.from_string(x).codon_adaptation_index(),
            return_dtype=pl.Float64,
        ),
        gemorna_cai_2=pl.col("GEMORNA").map_elements(
            lambda x: Sequence.from_string(x).codon_adaptation_index(),
            return_dtype=pl.Float64,
        ),
        cai_cai_2=pl.col("CAI-optimized").map_elements(
            lambda x: Sequence.from_string(x).codon_adaptation_index(),
            return_dtype=pl.Float64,
        ),
        lineardesign_cai_2=pl.col("LinearDesign (lambda=1)").map_elements(
            lambda x: Sequence.from_string(x).codon_adaptation_index(),
            return_dtype=pl.Float64,
        ),
        random_cai_2=pl.col("Random").map_elements(
            lambda x: Sequence.from_string(x).codon_adaptation_index(),
            return_dtype=pl.Float64,
        ),
    )
    .with_columns(
        natural_cai_diff=pl.col("natural_cai") - pl.col("natural_cai_2"),
        gemorna_cai_diff=pl.col("gemorna_cai") - pl.col("gemorna_cai_2"),
        cai_cai_diff=pl.col("cai_cai") - pl.col("cai_cai_2"),
        lineardesign_cai_diff=pl.col("lineardesign_cai") - pl.col("lineardesign_cai_2"),
        random_cai_diff=pl.col("random_cai") - pl.col("random_cai_2"),
    )
    .with_row_index()
)
df2


df3 = df2.unpivot(
    index="index",
    on=[
        "natural_cai_diff",
        "gemorna_cai_diff",
        "cai_cai_diff",
        "lineardesign_cai_diff",
        "random_cai_diff",
    ],
    # on=["gemorna_cai_diff", "cai_cai_diff", "lineardesign_cai_diff"],
    variable_name="sequence_type",
    value_name="cai_diff",
)

plot = (
    p9.ggplot(df3, p9.aes(x="index", y="cai_diff", color="sequence_type"))
    + p9.geom_line()
    # + p9.geom_smooth(span=0.01)
    # Styling
    # + scale_x_datetime(date_breaks="10 years", date_labels="%Y")
    + p9.theme_538()
    + p9.theme(figure_size=(16, 8))
)
plot


df2.select(pl.mean("gemorna_cai_diff"), pl.mean("cai_cai_diff"))


df_gc = df2.unpivot(
    index="index",
    on=["natural_gc", "gemorna_gc", "cai_gc", "lineardesign_gc", "random_gc"],
    # on=["gemorna_cai_diff", "cai_cai_diff", "lineardesign_cai_diff"],
    variable_name="sequence_type",
    value_name="gc",
)

df_gc.head()


plot_gc = (
    p9.ggplot(df_gc, p9.aes(x="index", y="gc", color="sequence_type"))
    + p9.geom_line()
    # + p9.geom_smooth(span=0.01)
    # Styling
    # + scale_x_datetime(date_breaks="10 years", date_labels="%Y")
    + p9.theme_538()
    + p9.theme(figure_size=(16, 8))
)
plot_gc


mfe_base = pl.read_csv(pathlib.Path(os.getcwd()) / "gemorna" / "mfe-base.csv")

df_mfe = (
    df2.with_columns(
        natural_mfe_2=mfe_base["natural_mfe_normalized"],
        gemorna_mfe_2=mfe_base["gemorna_mfe_normalized"],
        cai_mfe_2=mfe_base["cai_mfe_normalized"],
        lineardesign_mfe_2=mfe_base["lineardesign_mfe_normalized"],
        random_mfe_2=mfe_base["random_mfe_normalized"],
    )
    .with_columns(
        natural_mfe_diff=pl.col("natural_mfe") - pl.col("natural_mfe_2"),
        gemorna_mfe_diff=pl.col("gemorna_mfe") - pl.col("gemorna_mfe_2"),
        cai_mfe_diff=pl.col("cai_mfe") - pl.col("cai_mfe_2"),
        lineardesign_mfe_diff=pl.col("lineardesign_mfe") - pl.col("lineardesign_mfe_2"),
        random_mfe_diff=pl.col("random_mfe") - pl.col("random_mfe_2"),
    )
    .unpivot(
        index="index",
        on=[
            "natural_mfe_diff",
            "gemorna_mfe_diff",
            "cai_mfe_diff",
            "lineardesign_mfe_diff",
            "random_mfe_diff",
        ],
        # on=["gemorna_mfe_diff", "lineardesign_mfe_diff"],
        variable_name="sequence_type",
        value_name="mfe_diff",
    )
)

df_mfe.head()


plot_gc = (
    p9.ggplot(df_mfe, p9.aes(x="index", y="mfe_diff", color="sequence_type"))
    + p9.geom_line()
    + p9.theme_538()
    + p9.theme(figure_size=(16, 8))
)
plot_gc



