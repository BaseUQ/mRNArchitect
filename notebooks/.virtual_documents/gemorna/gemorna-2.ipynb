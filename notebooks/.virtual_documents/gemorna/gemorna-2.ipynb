import polars as pl
import plotnine as p9

from tools.sequence import Sequence

METRICS = [
    "CAI",
    "GC content",
    "Rare codon per nt",
    "U percentage",
    "Normalized MFE",
    "Unwanted codon pair per nt",
    "Slippery site per nt",
    "Naturalness",
]
SOURCES = [
    "Natural",
    "GEMORNA",
    "CAI-optimized",
    "LinearDesign (lambda=1)",
    "Random",
    "mRNArchitect",
]

def _column_name(source, metric):
    return f"{source} - {metric}"


gemorna_sequences = pl.read_excel(
    "adr8470_Suppl. Excel_seq2_v1.xlsx", sheet_name="Sequences"
)

for metric in GEMORNA_METRICS:
    df = pl.read_excel("adr8470_Suppl. Excel_seq2_v1.xlsx", sheet_name=metric)
    for source in SOURCES:
        if source not in df.columns:
            continue
        gemorna_sequences = gemorna_sequences.with_columns(
            df[source].alias(_column_name(source, metric))
        )

mrnarchitect_sequences = pl.read_csv("mRNArchitect.csv")
sequences = pl.concat([gemorna_sequences, mrnarchitect_sequences], how="horizontal")
sequences


_SOURCES = SOURCES
# _METRICS = ["CAI", "GC content", "U percentage", "Normalized MFE"]
_METRICS = METRICS


def _bins(metric, n=100):
    import math

    print(metric)
    _min = min(
        sequences.select(pl.min(_column_name(source, metric))).item()
        for source in _SOURCES
    )
    _max = max(
        sequences.select(pl.max(_column_name(source, metric))).item()
        for source in _SOURCES
    )
    diff = _max - _min
    print(_min, _max)
    return [_min + diff * it / 100 for it in range(0, n + 1)]


_BINS = {metric: _bins(metric) for metric in _METRICS}

# _BINS = {
#     "CAI": [it / 100 for it in range(0, 101, 1)],
#     "GC content": [it / 100 for it in range(0, 101, 1)],
#     "U percentage": [it / 100 for it in range(0, 101, 1)],
#     "Normalized MFE": _bins("Normalized MFE"),
# }


# for metric in _METRICS:
#     _min = min(sequences.select(pl.min(_column_name(source, metric))).item() for source in _SOURCES)
#     _max = max(sequences.select(pl.max(_column_name(source, metric))).item() for source in _SOURCES)
#     _BOUNDS[metric] = (_min, _max)
# _BOUNDS


# plots = None
# for source in _SOURCES:
#     source_plots = None
#     for metric in _METRICS:
#         column = _column_name(source, metric)
#         hist = sequences[column].hist(bins=_BINS[metric])
#         plot = (
#             p9.ggplot(hist, p9.aes(x="breakpoint", y="count")) +
#             p9.geom_col() +
#             p9.theme_minimal() +
#             p9.labs(x=metric)
#         )
#         if not source_plots:
#             source_plots = plot
#         else:
#             source_plots |= plot
#     if not plots:
#         plots = source_plots
#     else:
#         plots /= source_plots
# plots

plots = None
for metric in _METRICS:
    df = pl.concat(
        [
            sequences[_column_name(source, metric)]
            .hist(bins=_BINS[metric])
            .with_columns(source=pl.lit(source))
            for source in _SOURCES
        ]
    )

    plot = (
        p9.ggplot(df, p9.aes("breakpoint", "count", color="source"))
        + p9.facet_wrap("source", ncol=1)
        + p9.geom_col(show_legend=False)
        + p9.labs(x=metric, y="")
        + p9.theme_minimal()
    )
    if not plots:
        plots = plot
    else:
        plots |= plot

plots += p9.theme(figure_size=(12, 6))
plots



