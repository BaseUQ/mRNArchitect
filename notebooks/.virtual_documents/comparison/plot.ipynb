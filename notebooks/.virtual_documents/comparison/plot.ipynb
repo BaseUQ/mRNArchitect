import polars as pl
import plotnine as p9

from tools.sequence.sequence import Sequence


df = pl.read_csv("combined.csv").with_columns(
    source=pl.when(pl.col("optimize_mfe").is_not_null())
    .then(pl.col("source") + pl.lit(" optimized mfe: ") + pl.col("optimize_mfe"))
    .otherwise(pl.col("source"))
)
df


df.select("name", "source", "time").group_by("name", "source").agg(
    pl.col("time").mean().alias("ave_time")
)


def _plot(name):
    return (
        p9.ggplot(df.filter(pl.col("name") == name), p9.aes("output_mfe", "output_cai"))
        + p9.geom_point(p9.aes(color="source"))
        + p9.facet_grid("name")
        + p9.theme_minimal()
        + p9.theme(figure_size=(8, 6))
    )


_plot("EGFP") / _plot("LUCIFERASE")


_plot("SARSCOV2_SPIKE") / _plot("CAS9_PE")



