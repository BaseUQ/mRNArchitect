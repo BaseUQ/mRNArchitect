{
 "cells": [
  {
   "cell_type": "code",
   "execution_count": 9,
   "id": "36507051-af33-4e9d-8449-bfbb79ceed1a",
   "metadata": {},
   "outputs": [],
   "source": [
    "import concurrent.futures\n",
    "import polars as pl\n",
    "\n",
    "from tools.sequence.sequence import Sequence"
   ]
  },
  {
   "cell_type": "code",
   "execution_count": 13,
   "id": "969fe392-7893-41f3-8bf0-19c8c654f2fe",
   "metadata": {},
   "outputs": [
    {
     "data": {
      "text/html": [
       "<div><style>\n",
       ".dataframe > thead > tr,\n",
       ".dataframe > tbody > tr {\n",
       "  text-align: right;\n",
       "  white-space: pre-wrap;\n",
       "}\n",
       "</style>\n",
       "<small>shape: (260, 7)</small><table border=\"1\" class=\"dataframe\"><thead><tr><th>name</th><th>cai_limit</th><th>output_sequence</th><th>optimize_mfe</th><th>time</th><th>output_cai</th><th>source</th></tr><tr><td>str</td><td>f64</td><td>str</td><td>str</td><td>f64</td><td>f64</td><td>str</td></tr></thead><tbody><tr><td>&quot;EGFP&quot;</td><td>0.06</td><td>&quot;ATGGTGAGCAAGGGCGAGGAGTTATTCACG…</td><td>null</td><td>0.066582</td><td>0.939103</td><td>&quot;genetic&quot;</td></tr><tr><td>&quot;SARSCOV2_SPIKE&quot;</td><td>0.06</td><td>&quot;ATGTTCGTGTTCCTGGTGCTGCTGCCCCTG…</td><td>null</td><td>1.104039</td><td>0.941502</td><td>&quot;genetic&quot;</td></tr><tr><td>&quot;SARSCOV2_SPIKE&quot;</td><td>0.04</td><td>&quot;ATGTTTGTGTTCCTGGTGCTGCTGCCTCTG…</td><td>&quot;MIN&quot;</td><td>17.647091</td><td>0.960153</td><td>&quot;genetic&quot;</td></tr><tr><td>&quot;LUCIFERASE&quot;</td><td>0.02</td><td>&quot;ATGGAGGACGCCAAGAACATCAAGAAGGGC…</td><td>null</td><td>0.064608</td><td>0.981588</td><td>&quot;genetic&quot;</td></tr><tr><td>&quot;SARSCOV2_SPIKE&quot;</td><td>0.04</td><td>&quot;ATGTTCGTGTTCCTGGTGCTGCTGCCCCTG…</td><td>&quot;MAX&quot;</td><td>14.588045</td><td>0.960056</td><td>&quot;genetic&quot;</td></tr><tr><td>&hellip;</td><td>&hellip;</td><td>&hellip;</td><td>&hellip;</td><td>&hellip;</td><td>&hellip;</td><td>&hellip;</td></tr><tr><td>&quot;LUCIFERASE&quot;</td><td>null</td><td>&quot;AUGGAGGACGCCAAGAACAUCAAGAAGGGG…</td><td>null</td><td>80.021719</td><td>0.984009</td><td>&quot;LinearDesign&quot;</td></tr><tr><td>&quot;EGFP&quot;</td><td>null</td><td>&quot;AUGGUGUCCAAGGGCGAGGAGCUCUUCACA…</td><td>null</td><td>12.717408</td><td>0.893123</td><td>&quot;LinearDesign&quot;</td></tr><tr><td>&quot;EGFP&quot;</td><td>null</td><td>&quot;AUGGUGAGCAAGGGCGAGGAGCUGUUCACC…</td><td>null</td><td>13.083948</td><td>0.990268</td><td>&quot;LinearDesign&quot;</td></tr><tr><td>&quot;SARSCOV2_SPIKE&quot;</td><td>null</td><td>&quot;AUGUUUGUGUUCCUGGUGCUGCUGCCCCUG…</td><td>null</td><td>816.229586</td><td>0.913387</td><td>&quot;LinearDesign&quot;</td></tr><tr><td>&quot;SARSCOV2_SPIKE&quot;</td><td>null</td><td>&quot;AUGUUCGUGUUUCUUGUCCUCCUUCCACUG…</td><td>null</td><td>871.528546</td><td>0.731501</td><td>&quot;LinearDesign&quot;</td></tr></tbody></table></div>"
      ],
      "text/plain": [
       "shape: (260, 7)\n",
       "┌───────────────┬───────────┬──────────────┬──────────────┬────────────┬────────────┬──────────────┐\n",
       "│ name          ┆ cai_limit ┆ output_seque ┆ optimize_mfe ┆ time       ┆ output_cai ┆ source       │\n",
       "│ ---           ┆ ---       ┆ nce          ┆ ---          ┆ ---        ┆ ---        ┆ ---          │\n",
       "│ str           ┆ f64       ┆ ---          ┆ str          ┆ f64        ┆ f64        ┆ str          │\n",
       "│               ┆           ┆ str          ┆              ┆            ┆            ┆              │\n",
       "╞═══════════════╪═══════════╪══════════════╪══════════════╪════════════╪════════════╪══════════════╡\n",
       "│ EGFP          ┆ 0.06      ┆ ATGGTGAGCAAG ┆ null         ┆ 0.066582   ┆ 0.939103   ┆ genetic      │\n",
       "│               ┆           ┆ GGCGAGGAGTTA ┆              ┆            ┆            ┆              │\n",
       "│               ┆           ┆ TTCACG…      ┆              ┆            ┆            ┆              │\n",
       "│ SARSCOV2_SPIK ┆ 0.06      ┆ ATGTTCGTGTTC ┆ null         ┆ 1.104039   ┆ 0.941502   ┆ genetic      │\n",
       "│ E             ┆           ┆ CTGGTGCTGCTG ┆              ┆            ┆            ┆              │\n",
       "│               ┆           ┆ CCCCTG…      ┆              ┆            ┆            ┆              │\n",
       "│ SARSCOV2_SPIK ┆ 0.04      ┆ ATGTTTGTGTTC ┆ MIN          ┆ 17.647091  ┆ 0.960153   ┆ genetic      │\n",
       "│ E             ┆           ┆ CTGGTGCTGCTG ┆              ┆            ┆            ┆              │\n",
       "│               ┆           ┆ CCTCTG…      ┆              ┆            ┆            ┆              │\n",
       "│ LUCIFERASE    ┆ 0.02      ┆ ATGGAGGACGCC ┆ null         ┆ 0.064608   ┆ 0.981588   ┆ genetic      │\n",
       "│               ┆           ┆ AAGAACATCAAG ┆              ┆            ┆            ┆              │\n",
       "│               ┆           ┆ AAGGGC…      ┆              ┆            ┆            ┆              │\n",
       "│ SARSCOV2_SPIK ┆ 0.04      ┆ ATGTTCGTGTTC ┆ MAX          ┆ 14.588045  ┆ 0.960056   ┆ genetic      │\n",
       "│ E             ┆           ┆ CTGGTGCTGCTG ┆              ┆            ┆            ┆              │\n",
       "│               ┆           ┆ CCCCTG…      ┆              ┆            ┆            ┆              │\n",
       "│ …             ┆ …         ┆ …            ┆ …            ┆ …          ┆ …          ┆ …            │\n",
       "│ LUCIFERASE    ┆ null      ┆ AUGGAGGACGCC ┆ null         ┆ 80.021719  ┆ 0.984009   ┆ LinearDesign │\n",
       "│               ┆           ┆ AAGAACAUCAAG ┆              ┆            ┆            ┆              │\n",
       "│               ┆           ┆ AAGGGG…      ┆              ┆            ┆            ┆              │\n",
       "│ EGFP          ┆ null      ┆ AUGGUGUCCAAG ┆ null         ┆ 12.717408  ┆ 0.893123   ┆ LinearDesign │\n",
       "│               ┆           ┆ GGCGAGGAGCUC ┆              ┆            ┆            ┆              │\n",
       "│               ┆           ┆ UUCACA…      ┆              ┆            ┆            ┆              │\n",
       "│ EGFP          ┆ null      ┆ AUGGUGAGCAAG ┆ null         ┆ 13.083948  ┆ 0.990268   ┆ LinearDesign │\n",
       "│               ┆           ┆ GGCGAGGAGCUG ┆              ┆            ┆            ┆              │\n",
       "│               ┆           ┆ UUCACC…      ┆              ┆            ┆            ┆              │\n",
       "│ SARSCOV2_SPIK ┆ null      ┆ AUGUUUGUGUUC ┆ null         ┆ 816.229586 ┆ 0.913387   ┆ LinearDesign │\n",
       "│ E             ┆           ┆ CUGGUGCUGCUG ┆              ┆            ┆            ┆              │\n",
       "│               ┆           ┆ CCCCUG…      ┆              ┆            ┆            ┆              │\n",
       "│ SARSCOV2_SPIK ┆ null      ┆ AUGUUCGUGUUU ┆ null         ┆ 871.528546 ┆ 0.731501   ┆ LinearDesign │\n",
       "│ E             ┆           ┆ CUUGUCCUCCUU ┆              ┆            ┆            ┆              │\n",
       "│               ┆           ┆ CCACUG…      ┆              ┆            ┆            ┆              │\n",
       "└───────────────┴───────────┴──────────────┴──────────────┴────────────┴────────────┴──────────────┘"
      ]
     },
     "execution_count": 13,
     "metadata": {},
     "output_type": "execute_result"
    }
   ],
   "source": [
    "genetic = pl.read_csv(\"genetic.csv\").with_columns(source=pl.lit(\"genetic\"))\n",
    "lineardesign = pl.read_csv(\"lineardesign.csv\").with_columns(\n",
    "    source=pl.lit(\"LinearDesign\")\n",
    ")\n",
    "\n",
    "df = pl.concat([genetic, lineardesign], how=\"diagonal\").with_columns(\n",
    "    output_cai=pl.col(\"output_sequence\").map_elements(\n",
    "        lambda s: Sequence.from_string(s).codon_adaptation_index(),\n",
    "        return_dtype=pl.Float64,\n",
    "    )\n",
    ")\n",
    "df"
   ]
  },
  {
   "cell_type": "code",
   "execution_count": 14,
   "id": "d46a63ff-6d7e-469b-9273-8542d953d501",
   "metadata": {},
   "outputs": [
    {
     "data": {
      "text/html": [
       "<div><style>\n",
       ".dataframe > thead > tr,\n",
       ".dataframe > tbody > tr {\n",
       "  text-align: right;\n",
       "  white-space: pre-wrap;\n",
       "}\n",
       "</style>\n",
       "<small>shape: (260, 8)</small><table border=\"1\" class=\"dataframe\"><thead><tr><th>name</th><th>cai_limit</th><th>output_sequence</th><th>optimize_mfe</th><th>time</th><th>output_cai</th><th>source</th><th>output_mfe</th></tr><tr><td>str</td><td>f64</td><td>str</td><td>str</td><td>f64</td><td>f64</td><td>str</td><td>f64</td></tr></thead><tbody><tr><td>&quot;EGFP&quot;</td><td>0.06</td><td>&quot;ATGGTGAGCAAGGGCGAGGAGTTATTCACG…</td><td>null</td><td>0.066582</td><td>0.939103</td><td>&quot;genetic&quot;</td><td>-239.899994</td></tr><tr><td>&quot;SARSCOV2_SPIKE&quot;</td><td>0.06</td><td>&quot;ATGTTCGTGTTCCTGGTGCTGCTGCCCCTG…</td><td>null</td><td>1.104039</td><td>0.941502</td><td>&quot;genetic&quot;</td><td>-1320.400024</td></tr><tr><td>&quot;SARSCOV2_SPIKE&quot;</td><td>0.04</td><td>&quot;ATGTTTGTGTTCCTGGTGCTGCTGCCTCTG…</td><td>&quot;MIN&quot;</td><td>17.647091</td><td>0.960153</td><td>&quot;genetic&quot;</td><td>-1448.199951</td></tr><tr><td>&quot;LUCIFERASE&quot;</td><td>0.02</td><td>&quot;ATGGAGGACGCCAAGAACATCAAGAAGGGC…</td><td>null</td><td>0.064608</td><td>0.981588</td><td>&quot;genetic&quot;</td><td>-632.700012</td></tr><tr><td>&quot;SARSCOV2_SPIKE&quot;</td><td>0.04</td><td>&quot;ATGTTCGTGTTCCTGGTGCTGCTGCCCCTG…</td><td>&quot;MAX&quot;</td><td>14.588045</td><td>0.960056</td><td>&quot;genetic&quot;</td><td>-1277.199951</td></tr><tr><td>&hellip;</td><td>&hellip;</td><td>&hellip;</td><td>&hellip;</td><td>&hellip;</td><td>&hellip;</td><td>&hellip;</td><td>&hellip;</td></tr><tr><td>&quot;LUCIFERASE&quot;</td><td>null</td><td>&quot;AUGGAGGACGCCAAGAACAUCAAGAAGGGG…</td><td>null</td><td>80.021719</td><td>0.984009</td><td>&quot;LinearDesign&quot;</td><td>-817.700012</td></tr><tr><td>&quot;EGFP&quot;</td><td>null</td><td>&quot;AUGGUGUCCAAGGGCGAGGAGCUCUUCACA…</td><td>null</td><td>12.717408</td><td>0.893123</td><td>&quot;LinearDesign&quot;</td><td>-420.0</td></tr><tr><td>&quot;EGFP&quot;</td><td>null</td><td>&quot;AUGGUGAGCAAGGGCGAGGAGCUGUUCACC…</td><td>null</td><td>13.083948</td><td>0.990268</td><td>&quot;LinearDesign&quot;</td><td>-299.299988</td></tr><tr><td>&quot;SARSCOV2_SPIKE&quot;</td><td>null</td><td>&quot;AUGUUUGUGUUCCUGGUGCUGCUGCCCCUG…</td><td>null</td><td>816.229586</td><td>0.913387</td><td>&quot;LinearDesign&quot;</td><td>-2256.0</td></tr><tr><td>&quot;SARSCOV2_SPIKE&quot;</td><td>null</td><td>&quot;AUGUUCGUGUUUCUUGUCCUCCUUCCACUG…</td><td>null</td><td>871.528546</td><td>0.731501</td><td>&quot;LinearDesign&quot;</td><td>-2554.600098</td></tr></tbody></table></div>"
      ],
      "text/plain": [
       "shape: (260, 8)\n",
       "┌────────────┬───────────┬────────────┬────────────┬───────────┬───────────┬───────────┬───────────┐\n",
       "│ name       ┆ cai_limit ┆ output_seq ┆ optimize_m ┆ time      ┆ output_ca ┆ source    ┆ output_mf │\n",
       "│ ---        ┆ ---       ┆ uence      ┆ fe         ┆ ---       ┆ i         ┆ ---       ┆ e         │\n",
       "│ str        ┆ f64       ┆ ---        ┆ ---        ┆ f64       ┆ ---       ┆ str       ┆ ---       │\n",
       "│            ┆           ┆ str        ┆ str        ┆           ┆ f64       ┆           ┆ f64       │\n",
       "╞════════════╪═══════════╪════════════╪════════════╪═══════════╪═══════════╪═══════════╪═══════════╡\n",
       "│ EGFP       ┆ 0.06      ┆ ATGGTGAGCA ┆ null       ┆ 0.066582  ┆ 0.939103  ┆ genetic   ┆ -239.8999 │\n",
       "│            ┆           ┆ AGGGCGAGGA ┆            ┆           ┆           ┆           ┆ 94        │\n",
       "│            ┆           ┆ GTTATTCACG ┆            ┆           ┆           ┆           ┆           │\n",
       "│            ┆           ┆ …          ┆            ┆           ┆           ┆           ┆           │\n",
       "│ SARSCOV2_S ┆ 0.06      ┆ ATGTTCGTGT ┆ null       ┆ 1.104039  ┆ 0.941502  ┆ genetic   ┆ -1320.400 │\n",
       "│ PIKE       ┆           ┆ TCCTGGTGCT ┆            ┆           ┆           ┆           ┆ 024       │\n",
       "│            ┆           ┆ GCTGCCCCTG ┆            ┆           ┆           ┆           ┆           │\n",
       "│            ┆           ┆ …          ┆            ┆           ┆           ┆           ┆           │\n",
       "│ SARSCOV2_S ┆ 0.04      ┆ ATGTTTGTGT ┆ MIN        ┆ 17.647091 ┆ 0.960153  ┆ genetic   ┆ -1448.199 │\n",
       "│ PIKE       ┆           ┆ TCCTGGTGCT ┆            ┆           ┆           ┆           ┆ 951       │\n",
       "│            ┆           ┆ GCTGCCTCTG ┆            ┆           ┆           ┆           ┆           │\n",
       "│            ┆           ┆ …          ┆            ┆           ┆           ┆           ┆           │\n",
       "│ LUCIFERASE ┆ 0.02      ┆ ATGGAGGACG ┆ null       ┆ 0.064608  ┆ 0.981588  ┆ genetic   ┆ -632.7000 │\n",
       "│            ┆           ┆ CCAAGAACAT ┆            ┆           ┆           ┆           ┆ 12        │\n",
       "│            ┆           ┆ CAAGAAGGGC ┆            ┆           ┆           ┆           ┆           │\n",
       "│            ┆           ┆ …          ┆            ┆           ┆           ┆           ┆           │\n",
       "│ SARSCOV2_S ┆ 0.04      ┆ ATGTTCGTGT ┆ MAX        ┆ 14.588045 ┆ 0.960056  ┆ genetic   ┆ -1277.199 │\n",
       "│ PIKE       ┆           ┆ TCCTGGTGCT ┆            ┆           ┆           ┆           ┆ 951       │\n",
       "│            ┆           ┆ GCTGCCCCTG ┆            ┆           ┆           ┆           ┆           │\n",
       "│            ┆           ┆ …          ┆            ┆           ┆           ┆           ┆           │\n",
       "│ …          ┆ …         ┆ …          ┆ …          ┆ …         ┆ …         ┆ …         ┆ …         │\n",
       "│ LUCIFERASE ┆ null      ┆ AUGGAGGACG ┆ null       ┆ 80.021719 ┆ 0.984009  ┆ LinearDes ┆ -817.7000 │\n",
       "│            ┆           ┆ CCAAGAACAU ┆            ┆           ┆           ┆ ign       ┆ 12        │\n",
       "│            ┆           ┆ CAAGAAGGGG ┆            ┆           ┆           ┆           ┆           │\n",
       "│            ┆           ┆ …          ┆            ┆           ┆           ┆           ┆           │\n",
       "│ EGFP       ┆ null      ┆ AUGGUGUCCA ┆ null       ┆ 12.717408 ┆ 0.893123  ┆ LinearDes ┆ -420.0    │\n",
       "│            ┆           ┆ AGGGCGAGGA ┆            ┆           ┆           ┆ ign       ┆           │\n",
       "│            ┆           ┆ GCUCUUCACA ┆            ┆           ┆           ┆           ┆           │\n",
       "│            ┆           ┆ …          ┆            ┆           ┆           ┆           ┆           │\n",
       "│ EGFP       ┆ null      ┆ AUGGUGAGCA ┆ null       ┆ 13.083948 ┆ 0.990268  ┆ LinearDes ┆ -299.2999 │\n",
       "│            ┆           ┆ AGGGCGAGGA ┆            ┆           ┆           ┆ ign       ┆ 88        │\n",
       "│            ┆           ┆ GCUGUUCACC ┆            ┆           ┆           ┆           ┆           │\n",
       "│            ┆           ┆ …          ┆            ┆           ┆           ┆           ┆           │\n",
       "│ SARSCOV2_S ┆ null      ┆ AUGUUUGUGU ┆ null       ┆ 816.22958 ┆ 0.913387  ┆ LinearDes ┆ -2256.0   │\n",
       "│ PIKE       ┆           ┆ UCCUGGUGCU ┆            ┆ 6         ┆           ┆ ign       ┆           │\n",
       "│            ┆           ┆ GCUGCCCCUG ┆            ┆           ┆           ┆           ┆           │\n",
       "│            ┆           ┆ …          ┆            ┆           ┆           ┆           ┆           │\n",
       "│ SARSCOV2_S ┆ null      ┆ AUGUUCGUGU ┆ null       ┆ 871.52854 ┆ 0.731501  ┆ LinearDes ┆ -2554.600 │\n",
       "│ PIKE       ┆           ┆ UUCUUGUCCU ┆            ┆ 6         ┆           ┆ ign       ┆ 098       │\n",
       "│            ┆           ┆ CCUUCCACUG ┆            ┆           ┆           ┆           ┆           │\n",
       "│            ┆           ┆ …          ┆            ┆           ┆           ┆           ┆           │\n",
       "└────────────┴───────────┴────────────┴────────────┴───────────┴───────────┴───────────┴───────────┘"
      ]
     },
     "execution_count": 14,
     "metadata": {},
     "output_type": "execute_result"
    }
   ],
   "source": [
    "def _mfe(s: str) -> float:\n",
    "    return Sequence.from_string(s).minimum_free_energy.energy\n",
    "\n",
    "\n",
    "with concurrent.futures.ProcessPoolExecutor() as executor:\n",
    "    df = df.with_columns(\n",
    "        output_mfe=pl.Series(\n",
    "            \"output_mfe\", executor.map(_mfe, df[\"output_sequence\"].to_list())\n",
    "        )\n",
    "    )\n",
    "df"
   ]
  },
  {
   "cell_type": "code",
   "execution_count": 15,
   "id": "39abb269-256d-464d-8f9b-ba0bac4f2d8d",
   "metadata": {},
   "outputs": [],
   "source": [
    "df.write_csv(\"combined.csv\")"
   ]
  },
  {
   "cell_type": "code",
   "execution_count": null,
   "id": "86b32d8b-21c3-4ff7-bcaa-fbb388c245d6",
   "metadata": {},
   "outputs": [],
   "source": []
  }
 ],
 "metadata": {
  "kernelspec": {
   "display_name": "Python 3 (ipykernel)",
   "language": "python",
   "name": "python3"
  },
  "language_info": {
   "codemirror_mode": {
    "name": "ipython",
    "version": 3
   },
   "file_extension": ".py",
   "mimetype": "text/x-python",
   "name": "python",
   "nbconvert_exporter": "python",
   "pygments_lexer": "ipython3",
   "version": "3.13.7"
  }
 },
 "nbformat": 4,
 "nbformat_minor": 5
}
