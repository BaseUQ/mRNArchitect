{
 "cells": [
  {
   "cell_type": "code",
   "execution_count": 1,
   "id": "fe4e5674-b533-4c96-83e1-1447bdcb58fa",
   "metadata": {},
   "outputs": [],
   "source": [
    "import concurrent.futures\n",
    "import polars as pl\n",
    "\n",
    "from tools.sequence.sequence import Sequence"
   ]
  },
  {
   "cell_type": "code",
   "execution_count": 2,
   "id": "a45d1091-23b9-47c3-b74d-f96e8d1d125e",
   "metadata": {},
   "outputs": [
    {
     "data": {
      "text/html": [
       "<div><style>\n",
       ".dataframe > thead > tr,\n",
       ".dataframe > tbody > tr {\n",
       "  text-align: right;\n",
       "  white-space: pre-wrap;\n",
       "}\n",
       "</style>\n",
       "<small>shape: (50_542, 3)</small><table border=\"1\" class=\"dataframe\"><thead><tr><th>source</th><th>name</th><th>sequence</th></tr><tr><td>str</td><td>str</td><td>str</td></tr></thead><tbody><tr><td>&quot;antibody_monoclonal_aa_seqs.fa…</td><td>&quot;RituximabTargetAnti-CD20v_heav…</td><td>&quot;CAGGTGCAGCTGCAGCAGCCCGGCGCCGAG…</td></tr><tr><td>&quot;antibody_monoclonal_aa_seqs.fa…</td><td>&quot;RituximabTargetAnti-CD20v_ligh…</td><td>&quot;CAGATCGTGCTGAGCCAGAGCCCCGCCATC…</td></tr><tr><td>&quot;antibody_monoclonal_aa_seqs.fa…</td><td>&quot;TrastuzumabTargetAnti-HER2_Lig…</td><td>&quot;GACATCCAGATGACCCAGAGCCCCAGCAGC…</td></tr><tr><td>&quot;antibody_monoclonal_aa_seqs.fa…</td><td>&quot;TrastuzumabTargetAnti-HER2_Hea…</td><td>&quot;GAGGTGCAGCTGGTGGAGAGCGGCGGCGGC…</td></tr><tr><td>&quot;antibody_monoclonal_aa_seqs.fa…</td><td>&quot;Bevacizumab_light_chain&quot;</td><td>&quot;GACATCCAGATGACCCAGAGCCCCAGCAGC…</td></tr><tr><td>&hellip;</td><td>&hellip;</td><td>&hellip;</td></tr><tr><td>&quot;iedb_antigen_aa_seqs.fa&quot;</td><td>&quot;sp|Q8IX19|MCEM1_HUMAN Mast cel…</td><td>&quot;ATGGAGGTGGAGGAGATCTACAAGCACCAG…</td></tr><tr><td>&quot;iedb_antigen_aa_seqs.fa&quot;</td><td>&quot;sp|Q9D287|SPF27_MOUSE Pre-mRNA…</td><td>&quot;ATGGCCGGCACCGGCCTGGTGGCCGGCGAG…</td></tr><tr><td>&quot;iedb_antigen_aa_seqs.fa&quot;</td><td>&quot;tr|Q4CN05|Q4CN05_TRYCC Trans-s…</td><td>&quot;ATGAGCAGACACCTGTTCTACAGCGCCGTG…</td></tr><tr><td>&quot;iedb_antigen_aa_seqs.fa&quot;</td><td>&quot;tr|Q5NG75|Q5NG75_FRATT Amino-a…</td><td>&quot;ATGGACAACAACCAGGACAAGCTGAAGAGA…</td></tr><tr><td>&quot;iedb_antigen_aa_seqs.fa&quot;</td><td>&quot;sp|P14902|I23O1_HUMAN Indoleam…</td><td>&quot;ATGGCCCACGCCATGGAGAACAGCTGGACC…</td></tr></tbody></table></div>"
      ],
      "text/plain": [
       "shape: (50_542, 3)\n",
       "┌────────────────────────────────┬────────────────────────────────┬────────────────────────────────┐\n",
       "│ source                         ┆ name                           ┆ sequence                       │\n",
       "│ ---                            ┆ ---                            ┆ ---                            │\n",
       "│ str                            ┆ str                            ┆ str                            │\n",
       "╞════════════════════════════════╪════════════════════════════════╪════════════════════════════════╡\n",
       "│ antibody_monoclonal_aa_seqs.fa ┆ RituximabTargetAnti-CD20v_heav ┆ CAGGTGCAGCTGCAGCAGCCCGGCGCCGAG │\n",
       "│ …                              ┆ …                              ┆ …                              │\n",
       "│ antibody_monoclonal_aa_seqs.fa ┆ RituximabTargetAnti-CD20v_ligh ┆ CAGATCGTGCTGAGCCAGAGCCCCGCCATC │\n",
       "│ …                              ┆ …                              ┆ …                              │\n",
       "│ antibody_monoclonal_aa_seqs.fa ┆ TrastuzumabTargetAnti-HER2_Lig ┆ GACATCCAGATGACCCAGAGCCCCAGCAGC │\n",
       "│ …                              ┆ …                              ┆ …                              │\n",
       "│ antibody_monoclonal_aa_seqs.fa ┆ TrastuzumabTargetAnti-HER2_Hea ┆ GAGGTGCAGCTGGTGGAGAGCGGCGGCGGC │\n",
       "│ …                              ┆ …                              ┆ …                              │\n",
       "│ antibody_monoclonal_aa_seqs.fa ┆ Bevacizumab_light_chain        ┆ GACATCCAGATGACCCAGAGCCCCAGCAGC │\n",
       "│ …                              ┆                                ┆ …                              │\n",
       "│ …                              ┆ …                              ┆ …                              │\n",
       "│ iedb_antigen_aa_seqs.fa        ┆ sp|Q8IX19|MCEM1_HUMAN Mast     ┆ ATGGAGGTGGAGGAGATCTACAAGCACCAG │\n",
       "│                                ┆ cel…                           ┆ …                              │\n",
       "│ iedb_antigen_aa_seqs.fa        ┆ sp|Q9D287|SPF27_MOUSE          ┆ ATGGCCGGCACCGGCCTGGTGGCCGGCGAG │\n",
       "│                                ┆ Pre-mRNA…                      ┆ …                              │\n",
       "│ iedb_antigen_aa_seqs.fa        ┆ tr|Q4CN05|Q4CN05_TRYCC         ┆ ATGAGCAGACACCTGTTCTACAGCGCCGTG │\n",
       "│                                ┆ Trans-s…                       ┆ …                              │\n",
       "│ iedb_antigen_aa_seqs.fa        ┆ tr|Q5NG75|Q5NG75_FRATT         ┆ ATGGACAACAACCAGGACAAGCTGAAGAGA │\n",
       "│                                ┆ Amino-a…                       ┆ …                              │\n",
       "│ iedb_antigen_aa_seqs.fa        ┆ sp|P14902|I23O1_HUMAN          ┆ ATGGCCCACGCCATGGAGAACAGCTGGACC │\n",
       "│                                ┆ Indoleam…                      ┆ …                              │\n",
       "└────────────────────────────────┴────────────────────────────────┴────────────────────────────────┘"
      ]
     },
     "execution_count": 2,
     "metadata": {},
     "output_type": "execute_result"
    }
   ],
   "source": [
    "df = pl.read_csv(\"raw-dataset.csv\")\n",
    "df\n"
   ]
  },
  {
   "cell_type": "code",
   "execution_count": 3,
   "id": "41cd95a9-6ccc-4f38-ba40-5233fc532f84",
   "metadata": {},
   "outputs": [
    {
     "ename": "KeyboardInterrupt",
     "evalue": "",
     "output_type": "error",
     "traceback": [
      "\u001b[31m---------------------------------------------------------------------------\u001b[39m",
      "\u001b[31mKeyboardInterrupt\u001b[39m                         Traceback (most recent call last)",
      "\u001b[36mCell\u001b[39m\u001b[36m \u001b[39m\u001b[32mIn[3]\u001b[39m\u001b[32m, line 10\u001b[39m\n\u001b[32m      7\u001b[39m \u001b[38;5;28;01mdef\u001b[39;00m\u001b[38;5;250m \u001b[39m\u001b[34m_windowed_mfe\u001b[39m(s: \u001b[38;5;28mstr\u001b[39m):\n\u001b[32m      8\u001b[39m     \u001b[38;5;28;01mreturn\u001b[39;00m Sequence.create(s).windowed_minimum_free_energy\n\u001b[32m---> \u001b[39m\u001b[32m10\u001b[39m \u001b[38;5;28;43;01mwith\u001b[39;49;00m\u001b[43m \u001b[49m\u001b[43mconcurrent\u001b[49m\u001b[43m.\u001b[49m\u001b[43mfutures\u001b[49m\u001b[43m.\u001b[49m\u001b[43mProcessPoolExecutor\u001b[49m\u001b[43m(\u001b[49m\u001b[43m)\u001b[49m\u001b[43m \u001b[49m\u001b[38;5;28;43;01mas\u001b[39;49;00m\u001b[43m \u001b[49m\u001b[43mexecutor\u001b[49m\u001b[43m:\u001b[49m\n\u001b[32m     11\u001b[39m \u001b[43m    \u001b[49m\u001b[43mmfes\u001b[49m\u001b[43m \u001b[49m\u001b[43m=\u001b[49m\u001b[43m \u001b[49m\u001b[43mexecutor\u001b[49m\u001b[43m.\u001b[49m\u001b[43mmap\u001b[49m\u001b[43m(\u001b[49m\u001b[43m_mfe\u001b[49m\u001b[43m,\u001b[49m\u001b[43m \u001b[49m\u001b[43mdf\u001b[49m\u001b[43m[\u001b[49m\u001b[33;43m\"\u001b[39;49m\u001b[33;43msequence\u001b[39;49m\u001b[33;43m\"\u001b[39;49m\u001b[43m]\u001b[49m\u001b[43m.\u001b[49m\u001b[43mto_list\u001b[49m\u001b[43m(\u001b[49m\u001b[43m)\u001b[49m\u001b[43m)\u001b[49m\n\u001b[32m     12\u001b[39m \u001b[43m    \u001b[49m\u001b[43mpseudo_mfes\u001b[49m\u001b[43m \u001b[49m\u001b[43m=\u001b[49m\u001b[43m \u001b[49m\u001b[43mexecutor\u001b[49m\u001b[43m.\u001b[49m\u001b[43mmap\u001b[49m\u001b[43m(\u001b[49m\u001b[43m_pseudo_mfe\u001b[49m\u001b[43m,\u001b[49m\u001b[43m \u001b[49m\u001b[43mdf\u001b[49m\u001b[43m[\u001b[49m\u001b[33;43m\"\u001b[39;49m\u001b[33;43msequence\u001b[39;49m\u001b[33;43m\"\u001b[39;49m\u001b[43m]\u001b[49m\u001b[43m.\u001b[49m\u001b[43mto_list\u001b[49m\u001b[43m(\u001b[49m\u001b[43m)\u001b[49m\u001b[43m)\u001b[49m\n",
      "\u001b[36mFile \u001b[39m\u001b[32m/usr/lib/python3.13/concurrent/futures/_base.py:647\u001b[39m, in \u001b[36mExecutor.__exit__\u001b[39m\u001b[34m(self, exc_type, exc_val, exc_tb)\u001b[39m\n\u001b[32m    646\u001b[39m \u001b[38;5;28;01mdef\u001b[39;00m\u001b[38;5;250m \u001b[39m\u001b[34m__exit__\u001b[39m(\u001b[38;5;28mself\u001b[39m, exc_type, exc_val, exc_tb):\n\u001b[32m--> \u001b[39m\u001b[32m647\u001b[39m     \u001b[38;5;28;43mself\u001b[39;49m\u001b[43m.\u001b[49m\u001b[43mshutdown\u001b[49m\u001b[43m(\u001b[49m\u001b[43mwait\u001b[49m\u001b[43m=\u001b[49m\u001b[38;5;28;43;01mTrue\u001b[39;49;00m\u001b[43m)\u001b[49m\n\u001b[32m    648\u001b[39m     \u001b[38;5;28;01mreturn\u001b[39;00m \u001b[38;5;28;01mFalse\u001b[39;00m\n",
      "\u001b[36mFile \u001b[39m\u001b[32m/usr/lib/python3.13/concurrent/futures/process.py:851\u001b[39m, in \u001b[36mProcessPoolExecutor.shutdown\u001b[39m\u001b[34m(self, wait, cancel_futures)\u001b[39m\n\u001b[32m    848\u001b[39m         \u001b[38;5;28mself\u001b[39m._executor_manager_thread_wakeup.wakeup()\n\u001b[32m    850\u001b[39m \u001b[38;5;28;01mif\u001b[39;00m \u001b[38;5;28mself\u001b[39m._executor_manager_thread \u001b[38;5;129;01mis\u001b[39;00m \u001b[38;5;129;01mnot\u001b[39;00m \u001b[38;5;28;01mNone\u001b[39;00m \u001b[38;5;129;01mand\u001b[39;00m wait:\n\u001b[32m--> \u001b[39m\u001b[32m851\u001b[39m     \u001b[38;5;28;43mself\u001b[39;49m\u001b[43m.\u001b[49m\u001b[43m_executor_manager_thread\u001b[49m\u001b[43m.\u001b[49m\u001b[43mjoin\u001b[49m\u001b[43m(\u001b[49m\u001b[43m)\u001b[49m\n\u001b[32m    852\u001b[39m \u001b[38;5;66;03m# To reduce the risk of opening too many files, remove references to\u001b[39;00m\n\u001b[32m    853\u001b[39m \u001b[38;5;66;03m# objects that use file descriptors.\u001b[39;00m\n\u001b[32m    854\u001b[39m \u001b[38;5;28mself\u001b[39m._executor_manager_thread = \u001b[38;5;28;01mNone\u001b[39;00m\n",
      "\u001b[36mFile \u001b[39m\u001b[32m/usr/lib/python3.13/threading.py:1094\u001b[39m, in \u001b[36mThread.join\u001b[39m\u001b[34m(self, timeout)\u001b[39m\n\u001b[32m   1091\u001b[39m \u001b[38;5;28;01mif\u001b[39;00m timeout \u001b[38;5;129;01mis\u001b[39;00m \u001b[38;5;129;01mnot\u001b[39;00m \u001b[38;5;28;01mNone\u001b[39;00m:\n\u001b[32m   1092\u001b[39m     timeout = \u001b[38;5;28mmax\u001b[39m(timeout, \u001b[32m0\u001b[39m)\n\u001b[32m-> \u001b[39m\u001b[32m1094\u001b[39m \u001b[38;5;28;43mself\u001b[39;49m\u001b[43m.\u001b[49m\u001b[43m_handle\u001b[49m\u001b[43m.\u001b[49m\u001b[43mjoin\u001b[49m\u001b[43m(\u001b[49m\u001b[43mtimeout\u001b[49m\u001b[43m)\u001b[49m\n",
      "\u001b[31mKeyboardInterrupt\u001b[39m: "
     ]
    }
   ],
   "source": [
    "def _mfe(s: str):\n",
    "    return Sequence.from_string(s).minimum_free_energy\n",
    "\n",
    "def _pseudo_mfe(s: str):\n",
    "    return Sequence.create(s).pseudo_minimum_free_energy\n",
    "\n",
    "def _windowed_mfe(s: str):\n",
    "    return Sequence.create(s).windowed_minimum_free_energy\n",
    "\n",
    "with concurrent.futures.ProcessPoolExecutor() as executor:\n",
    "    mfes = executor.map(_mfe, df[\"sequence\"].to_list())\n",
    "    pseudo_mfes = executor.map(_pseudo_mfe, df[\"sequence\"].to_list())\n",
    "    windowed_mfes = executor.map(_windowed_mfe, df[\"sequence\"].to_list())\n",
    "\n",
    "df = df.with_columns(\n",
    "    pl.Series(\"MFE\", [it.energy for it in mfes]),\n",
    "    pl.Series(\"Average MFE\", [it.average_energy for it in mfes]),\n",
    "    pl.Series(\"MFE Structure\", [it.structure for it in mfes]),\n",
    "    pl.Series(\"Pseudo-MFE\", pseduo_mfes),\n",
    "    pl.Series(\"Mean windowed MFE\", [it.mean_energy for it in windowed_mfes]),\n",
    ")\n",
    "df"
   ]
  },
  {
   "cell_type": "code",
   "execution_count": 7,
   "id": "6c399b17-a4c3-43be-8095-bbad760a05fd",
   "metadata": {},
   "outputs": [],
   "source": [
    "df.write_csv(\"ensemble-ccds-with-mfe.csv\")"
   ]
  },
  {
   "cell_type": "code",
   "execution_count": null,
   "id": "ba51f14f-6e82-4011-83c3-ad3b6d5cd39a",
   "metadata": {},
   "outputs": [],
   "source": []
  }
 ],
 "metadata": {
  "kernelspec": {
   "display_name": "Python 3 (ipykernel)",
   "language": "python",
   "name": "python3"
  },
  "language_info": {
   "codemirror_mode": {
    "name": "ipython",
    "version": 3
   },
   "file_extension": ".py",
   "mimetype": "text/x-python",
   "name": "python",
   "nbconvert_exporter": "python",
   "pygments_lexer": "ipython3",
   "version": "3.13.7"
  }
 },
 "nbformat": 4,
 "nbformat_minor": 5
}
