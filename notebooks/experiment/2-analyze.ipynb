{
 "cells": [
  {
   "cell_type": "code",
   "execution_count": 1,
   "id": "fe4e5674-b533-4c96-83e1-1447bdcb58fa",
   "metadata": {},
   "outputs": [],
   "source": [
    "import concurrent.futures\n",
    "import polars as pl\n",
    "\n",
    "from tools.sequence.sequence import Sequence"
   ]
  },
  {
   "cell_type": "code",
   "execution_count": 8,
   "id": "a45d1091-23b9-47c3-b74d-f96e8d1d125e",
   "metadata": {},
   "outputs": [
    {
     "data": {
      "text/html": [
       "<div><style>\n",
       ".dataframe > thead > tr,\n",
       ".dataframe > tbody > tr {\n",
       "  text-align: right;\n",
       "  white-space: pre-wrap;\n",
       "}\n",
       "</style>\n",
       "<small>shape: (50_542, 3)</small><table border=\"1\" class=\"dataframe\"><thead><tr><th>source</th><th>name</th><th>sequence</th></tr><tr><td>str</td><td>str</td><td>str</td></tr></thead><tbody><tr><td>&quot;antibody_monoclonal_aa_seqs.fa…</td><td>&quot;RituximabTargetAnti-CD20v_heav…</td><td>&quot;CAGGTGCAGCTGCAGCAGCCCGGCGCCGAG…</td></tr><tr><td>&quot;antibody_monoclonal_aa_seqs.fa…</td><td>&quot;RituximabTargetAnti-CD20v_ligh…</td><td>&quot;CAGATCGTGCTGAGCCAGAGCCCCGCCATC…</td></tr><tr><td>&quot;antibody_monoclonal_aa_seqs.fa…</td><td>&quot;TrastuzumabTargetAnti-HER2_Lig…</td><td>&quot;GACATCCAGATGACCCAGAGCCCCAGCAGC…</td></tr><tr><td>&quot;antibody_monoclonal_aa_seqs.fa…</td><td>&quot;TrastuzumabTargetAnti-HER2_Hea…</td><td>&quot;GAGGTGCAGCTGGTGGAGAGCGGCGGCGGC…</td></tr><tr><td>&quot;antibody_monoclonal_aa_seqs.fa…</td><td>&quot;Bevacizumab_light_chain&quot;</td><td>&quot;GACATCCAGATGACCCAGAGCCCCAGCAGC…</td></tr><tr><td>&hellip;</td><td>&hellip;</td><td>&hellip;</td></tr><tr><td>&quot;iedb_antigen_aa_seqs.fa&quot;</td><td>&quot;sp|Q8IX19|MCEM1_HUMAN Mast cel…</td><td>&quot;ATGGAGGTGGAGGAGATCTACAAGCACCAG…</td></tr><tr><td>&quot;iedb_antigen_aa_seqs.fa&quot;</td><td>&quot;sp|Q9D287|SPF27_MOUSE Pre-mRNA…</td><td>&quot;ATGGCCGGCACCGGCCTGGTGGCCGGCGAG…</td></tr><tr><td>&quot;iedb_antigen_aa_seqs.fa&quot;</td><td>&quot;tr|Q4CN05|Q4CN05_TRYCC Trans-s…</td><td>&quot;ATGAGCAGACACCTGTTCTACAGCGCCGTG…</td></tr><tr><td>&quot;iedb_antigen_aa_seqs.fa&quot;</td><td>&quot;tr|Q5NG75|Q5NG75_FRATT Amino-a…</td><td>&quot;ATGGACAACAACCAGGACAAGCTGAAGAGA…</td></tr><tr><td>&quot;iedb_antigen_aa_seqs.fa&quot;</td><td>&quot;sp|P14902|I23O1_HUMAN Indoleam…</td><td>&quot;ATGGCCCACGCCATGGAGAACAGCTGGACC…</td></tr></tbody></table></div>"
      ],
      "text/plain": [
       "shape: (50_542, 3)\n",
       "┌────────────────────────────────┬────────────────────────────────┬────────────────────────────────┐\n",
       "│ source                         ┆ name                           ┆ sequence                       │\n",
       "│ ---                            ┆ ---                            ┆ ---                            │\n",
       "│ str                            ┆ str                            ┆ str                            │\n",
       "╞════════════════════════════════╪════════════════════════════════╪════════════════════════════════╡\n",
       "│ antibody_monoclonal_aa_seqs.fa ┆ RituximabTargetAnti-CD20v_heav ┆ CAGGTGCAGCTGCAGCAGCCCGGCGCCGAG │\n",
       "│ …                              ┆ …                              ┆ …                              │\n",
       "│ antibody_monoclonal_aa_seqs.fa ┆ RituximabTargetAnti-CD20v_ligh ┆ CAGATCGTGCTGAGCCAGAGCCCCGCCATC │\n",
       "│ …                              ┆ …                              ┆ …                              │\n",
       "│ antibody_monoclonal_aa_seqs.fa ┆ TrastuzumabTargetAnti-HER2_Lig ┆ GACATCCAGATGACCCAGAGCCCCAGCAGC │\n",
       "│ …                              ┆ …                              ┆ …                              │\n",
       "│ antibody_monoclonal_aa_seqs.fa ┆ TrastuzumabTargetAnti-HER2_Hea ┆ GAGGTGCAGCTGGTGGAGAGCGGCGGCGGC │\n",
       "│ …                              ┆ …                              ┆ …                              │\n",
       "│ antibody_monoclonal_aa_seqs.fa ┆ Bevacizumab_light_chain        ┆ GACATCCAGATGACCCAGAGCCCCAGCAGC │\n",
       "│ …                              ┆                                ┆ …                              │\n",
       "│ …                              ┆ …                              ┆ …                              │\n",
       "│ iedb_antigen_aa_seqs.fa        ┆ sp|Q8IX19|MCEM1_HUMAN Mast     ┆ ATGGAGGTGGAGGAGATCTACAAGCACCAG │\n",
       "│                                ┆ cel…                           ┆ …                              │\n",
       "│ iedb_antigen_aa_seqs.fa        ┆ sp|Q9D287|SPF27_MOUSE          ┆ ATGGCCGGCACCGGCCTGGTGGCCGGCGAG │\n",
       "│                                ┆ Pre-mRNA…                      ┆ …                              │\n",
       "│ iedb_antigen_aa_seqs.fa        ┆ tr|Q4CN05|Q4CN05_TRYCC         ┆ ATGAGCAGACACCTGTTCTACAGCGCCGTG │\n",
       "│                                ┆ Trans-s…                       ┆ …                              │\n",
       "│ iedb_antigen_aa_seqs.fa        ┆ tr|Q5NG75|Q5NG75_FRATT         ┆ ATGGACAACAACCAGGACAAGCTGAAGAGA │\n",
       "│                                ┆ Amino-a…                       ┆ …                              │\n",
       "│ iedb_antigen_aa_seqs.fa        ┆ sp|P14902|I23O1_HUMAN          ┆ ATGGCCCACGCCATGGAGAACAGCTGGACC │\n",
       "│                                ┆ Indoleam…                      ┆ …                              │\n",
       "└────────────────────────────────┴────────────────────────────────┴────────────────────────────────┘"
      ]
     },
     "execution_count": 8,
     "metadata": {},
     "output_type": "execute_result"
    }
   ],
   "source": [
    "df = pl.read_csv(\"raw-dataset.csv\")\n",
    "df\n"
   ]
  },
  {
   "cell_type": "code",
   "execution_count": null,
   "id": "41cd95a9-6ccc-4f38-ba40-5233fc532f84",
   "metadata": {},
   "outputs": [],
   "source": [
    "def _mfe(s: str):\n",
    "    if len(s) > 7500:\n",
    "        return None\n",
    "    try:\n",
    "        return Sequence.create(s).minimum_free_energy\n",
    "    except:\n",
    "        return None\n",
    "\n",
    "def _pseudo_mfe(s: str):\n",
    "    try:\n",
    "        return Sequence.create(s).pseudo_minimum_free_energy\n",
    "    except:\n",
    "        return None\n",
    "\n",
    "def _windowed_mfe(s: str):\n",
    "    try:\n",
    "        return Sequence.create(s).windowed_minimum_free_energy()\n",
    "    except Exception as e:\n",
    "        return None\n",
    "\n",
    "with concurrent.futures.ProcessPoolExecutor() as executor:\n",
    "    mfes = list(executor.map(_mfe, df[\"sequence\"].to_list()))\n",
    "    pseudo_mfes = list(executor.map(_pseudo_mfe, df[\"sequence\"].to_list()))\n",
    "    windowed_mfes = list(executor.map(_windowed_mfe, df[\"sequence\"].to_list()))\n",
    "\n",
    "df = df.with_columns(\n",
    "    pl.Series(\"MFE\", [it.energy if it else None for it in mfes]),\n",
    "    pl.Series(\"Average MFE\", [it.average_energy if it else None for it in mfes]),\n",
    "    pl.Series(\"MFE Structure\", [it.structure if it else None for it in mfes]),\n",
    "    pl.Series(\"Pseudo-MFE\", pseudo_mfes),\n",
    "    pl.Series(\"Windowed MFE - Mean\", [it.mean_energy if it else None for it in windowed_mfes]),\n",
    "    pl.Series(\"Windowed MFE - Standard Deviation\", [it.standard_deviation if it else None for it in windowed_mfes]),\n",
    ")\n",
    "df"
   ]
  },
  {
   "cell_type": "code",
   "execution_count": 4,
   "id": "6c399b17-a4c3-43be-8095-bbad760a05fd",
   "metadata": {},
   "outputs": [],
   "source": [
    "df.write_csv(\"sequences-with-mfe.csv\")"
   ]
  },
  {
   "cell_type": "code",
   "execution_count": null,
   "id": "ba51f14f-6e82-4011-83c3-ad3b6d5cd39a",
   "metadata": {},
   "outputs": [],
   "source": []
  }
 ],
 "metadata": {
  "kernelspec": {
   "display_name": "Python 3 (ipykernel)",
   "language": "python",
   "name": "python3"
  },
  "language_info": {
   "codemirror_mode": {
    "name": "ipython",
    "version": 3
   },
   "file_extension": ".py",
   "mimetype": "text/x-python",
   "name": "python",
   "nbconvert_exporter": "python",
   "pygments_lexer": "ipython3",
   "version": "3.13.7"
  }
 },
 "nbformat": 4,
 "nbformat_minor": 5
}
