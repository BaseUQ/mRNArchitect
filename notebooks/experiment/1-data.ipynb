{
 "cells": [
  {
   "cell_type": "code",
   "execution_count": 12,
   "id": "058b2154-4fa2-4212-bfc4-646360177e1d",
   "metadata": {},
   "outputs": [],
   "source": [
    "import pathlib\n",
    "\n",
    "import polars as pl\n",
    "\n",
    "from tools.sequence.sequence import Sequence\n",
    "from tools.utils.fasta import parse_fasta_file"
   ]
  },
  {
   "cell_type": "code",
   "execution_count": 13,
   "id": "64ce9b90-a4c3-4dd4-b06d-4227a2320399",
   "metadata": {},
   "outputs": [
    {
     "data": {
      "text/html": [
       "<div><style>\n",
       ".dataframe > thead > tr,\n",
       ".dataframe > tbody > tr {\n",
       "  text-align: right;\n",
       "  white-space: pre-wrap;\n",
       "}\n",
       "</style>\n",
       "<small>shape: (50_542, 3)</small><table border=\"1\" class=\"dataframe\"><thead><tr><th>source</th><th>name</th><th>sequence</th></tr><tr><td>str</td><td>str</td><td>str</td></tr></thead><tbody><tr><td>&quot;antibody_monoclonal_aa_seqs.fa…</td><td>&quot;RituximabTargetAnti-CD20v_heav…</td><td>&quot;CAGGTGCAGCTGCAGCAGCCCGGCGCCGAG…</td></tr><tr><td>&quot;antibody_monoclonal_aa_seqs.fa…</td><td>&quot;RituximabTargetAnti-CD20v_ligh…</td><td>&quot;CAGATCGTGCTGAGCCAGAGCCCCGCCATC…</td></tr><tr><td>&quot;antibody_monoclonal_aa_seqs.fa…</td><td>&quot;TrastuzumabTargetAnti-HER2_Lig…</td><td>&quot;GACATCCAGATGACCCAGAGCCCCAGCAGC…</td></tr><tr><td>&quot;antibody_monoclonal_aa_seqs.fa…</td><td>&quot;TrastuzumabTargetAnti-HER2_Hea…</td><td>&quot;GAGGTGCAGCTGGTGGAGAGCGGCGGCGGC…</td></tr><tr><td>&quot;antibody_monoclonal_aa_seqs.fa…</td><td>&quot;Bevacizumab_light_chain&quot;</td><td>&quot;GACATCCAGATGACCCAGAGCCCCAGCAGC…</td></tr><tr><td>&hellip;</td><td>&hellip;</td><td>&hellip;</td></tr><tr><td>&quot;iedb_antigen_aa_seqs.fa&quot;</td><td>&quot;sp|Q8IX19|MCEM1_HUMAN Mast cel…</td><td>&quot;ATGGAGGTGGAGGAGATCTACAAGCACCAG…</td></tr><tr><td>&quot;iedb_antigen_aa_seqs.fa&quot;</td><td>&quot;sp|Q9D287|SPF27_MOUSE Pre-mRNA…</td><td>&quot;ATGGCCGGCACCGGCCTGGTGGCCGGCGAG…</td></tr><tr><td>&quot;iedb_antigen_aa_seqs.fa&quot;</td><td>&quot;tr|Q4CN05|Q4CN05_TRYCC Trans-s…</td><td>&quot;ATGAGCAGACACCTGTTCTACAGCGCCGTG…</td></tr><tr><td>&quot;iedb_antigen_aa_seqs.fa&quot;</td><td>&quot;tr|Q5NG75|Q5NG75_FRATT Amino-a…</td><td>&quot;ATGGACAACAACCAGGACAAGCTGAAGAGA…</td></tr><tr><td>&quot;iedb_antigen_aa_seqs.fa&quot;</td><td>&quot;sp|P14902|I23O1_HUMAN Indoleam…</td><td>&quot;ATGGCCCACGCCATGGAGAACAGCTGGACC…</td></tr></tbody></table></div>"
      ],
      "text/plain": [
       "shape: (50_542, 3)\n",
       "┌────────────────────────────────┬────────────────────────────────┬────────────────────────────────┐\n",
       "│ source                         ┆ name                           ┆ sequence                       │\n",
       "│ ---                            ┆ ---                            ┆ ---                            │\n",
       "│ str                            ┆ str                            ┆ str                            │\n",
       "╞════════════════════════════════╪════════════════════════════════╪════════════════════════════════╡\n",
       "│ antibody_monoclonal_aa_seqs.fa ┆ RituximabTargetAnti-CD20v_heav ┆ CAGGTGCAGCTGCAGCAGCCCGGCGCCGAG │\n",
       "│ …                              ┆ …                              ┆ …                              │\n",
       "│ antibody_monoclonal_aa_seqs.fa ┆ RituximabTargetAnti-CD20v_ligh ┆ CAGATCGTGCTGAGCCAGAGCCCCGCCATC │\n",
       "│ …                              ┆ …                              ┆ …                              │\n",
       "│ antibody_monoclonal_aa_seqs.fa ┆ TrastuzumabTargetAnti-HER2_Lig ┆ GACATCCAGATGACCCAGAGCCCCAGCAGC │\n",
       "│ …                              ┆ …                              ┆ …                              │\n",
       "│ antibody_monoclonal_aa_seqs.fa ┆ TrastuzumabTargetAnti-HER2_Hea ┆ GAGGTGCAGCTGGTGGAGAGCGGCGGCGGC │\n",
       "│ …                              ┆ …                              ┆ …                              │\n",
       "│ antibody_monoclonal_aa_seqs.fa ┆ Bevacizumab_light_chain        ┆ GACATCCAGATGACCCAGAGCCCCAGCAGC │\n",
       "│ …                              ┆                                ┆ …                              │\n",
       "│ …                              ┆ …                              ┆ …                              │\n",
       "│ iedb_antigen_aa_seqs.fa        ┆ sp|Q8IX19|MCEM1_HUMAN Mast     ┆ ATGGAGGTGGAGGAGATCTACAAGCACCAG │\n",
       "│                                ┆ cel…                           ┆ …                              │\n",
       "│ iedb_antigen_aa_seqs.fa        ┆ sp|Q9D287|SPF27_MOUSE          ┆ ATGGCCGGCACCGGCCTGGTGGCCGGCGAG │\n",
       "│                                ┆ Pre-mRNA…                      ┆ …                              │\n",
       "│ iedb_antigen_aa_seqs.fa        ┆ tr|Q4CN05|Q4CN05_TRYCC         ┆ ATGAGCAGACACCTGTTCTACAGCGCCGTG │\n",
       "│                                ┆ Trans-s…                       ┆ …                              │\n",
       "│ iedb_antigen_aa_seqs.fa        ┆ tr|Q5NG75|Q5NG75_FRATT         ┆ ATGGACAACAACCAGGACAAGCTGAAGAGA │\n",
       "│                                ┆ Amino-a…                       ┆ …                              │\n",
       "│ iedb_antigen_aa_seqs.fa        ┆ sp|P14902|I23O1_HUMAN          ┆ ATGGCCCACGCCATGGAGAACAGCTGGACC │\n",
       "│                                ┆ Indoleam…                      ┆ …                              │\n",
       "└────────────────────────────────┴────────────────────────────────┴────────────────────────────────┘"
      ]
     },
     "execution_count": 13,
     "metadata": {},
     "output_type": "execute_result"
    }
   ],
   "source": [
    "SOURCES = [\n",
    "    \"antibody_monoclonal_aa_seqs.fasta\",\n",
    "    \"ensembl_ccds_tx_nt_seq.fa\",\n",
    "    \"ena_cancer_vaccine_seq.fa\",\n",
    "    \"ena_car-t_nt_seq.fa\",\n",
    "    \"hrt_hk_nt_seq_pulled_from_ensembl.fa\",\n",
    "    \"iedb_antigen_aa_seqs.fa\",\n",
    "]\n",
    "\n",
    "sequences = []\n",
    "for source in SOURCES:\n",
    "    sequences.extend([\n",
    "        {\n",
    "        \"source\": source,\n",
    "        \"name\": it[0],\n",
    "        \"sequence\": str(it[1])\n",
    "        }\n",
    "            for it in parse_fasta_file(pathlib.Path(source))\n",
    "            if it[1] and it[1].is_amino_acid_sequence\n",
    "        ])\n",
    "\n",
    "df = pl.DataFrame(sequences)\n",
    "df"
   ]
  },
  {
   "cell_type": "code",
   "execution_count": 14,
   "id": "df1604d6-9124-4c2f-be85-113c2b50f768",
   "metadata": {},
   "outputs": [],
   "source": [
    "df.write_csv(\"raw-dataset.csv\")"
   ]
  },
  {
   "cell_type": "code",
   "execution_count": null,
   "id": "f59211a4-620e-4d8a-a5a6-7d6fdd764ce1",
   "metadata": {},
   "outputs": [],
   "source": []
  }
 ],
 "metadata": {
  "kernelspec": {
   "display_name": "Python 3 (ipykernel)",
   "language": "python",
   "name": "python3"
  },
  "language_info": {
   "codemirror_mode": {
    "name": "ipython",
    "version": 3
   },
   "file_extension": ".py",
   "mimetype": "text/x-python",
   "name": "python",
   "nbconvert_exporter": "python",
   "pygments_lexer": "ipython3",
   "version": "3.13.7"
  }
 },
 "nbformat": 4,
 "nbformat_minor": 5
}
