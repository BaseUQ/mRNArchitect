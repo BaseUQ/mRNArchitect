{
 "cells": [
  {
   "cell_type": "code",
   "execution_count": 2,
   "id": "262431af-beef-4188-9e57-2db9f9340d4b",
   "metadata": {},
   "outputs": [],
   "source": [
    "import polars as pl\n",
    "\n",
    "from tools.sequence.sequence import Sequence"
   ]
  },
  {
   "cell_type": "code",
   "execution_count": null,
   "id": "0be2d151-d7a9-4548-83b8-3f2772ac7c25",
   "metadata": {},
   "outputs": [],
   "source": []
  }
 ],
 "metadata": {
  "kernelspec": {
   "display_name": "Python 3 (ipykernel)",
   "language": "python",
   "name": "python3"
  },
  "language_info": {
   "codemirror_mode": {
    "name": "ipython",
    "version": 3
   },
   "file_extension": ".py",
   "mimetype": "text/x-python",
   "name": "python",
   "nbconvert_exporter": "python",
   "pygments_lexer": "ipython3",
   "version": "3.13.7"
  }
 },
 "nbformat": 4,
 "nbformat_minor": 5
}
