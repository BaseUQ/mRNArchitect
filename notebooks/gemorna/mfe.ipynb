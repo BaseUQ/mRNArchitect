{
 "cells": [
  {
   "cell_type": "code",
   "execution_count": 5,
   "id": "797702e4-d13a-40f9-bcd4-86e6962615dc",
   "metadata": {},
   "outputs": [],
   "source": [
    "import concurrent.futures\n",
    "import csv\n",
    "import os\n",
    "import pathlib\n",
    "\n",
    "import polars as pl\n",
    "import plotnine as p9\n",
    "\n",
    "from tools.sequence import Sequence"
   ]
  },
  {
   "cell_type": "code",
   "execution_count": 8,
   "id": "8927d52a-ba5f-4860-8eda-38f18c3d317e",
   "metadata": {},
   "outputs": [],
   "source": [
    "def _mfe(s: str) -> float | None:\n",
    "    try:\n",
    "        seq = Sequence.from_string(s)\n",
    "        return seq.minimum_free_energy.energy\n",
    "    except:\n",
    "        return None\n",
    "    \n",
    "\n",
    "with open(pathlib.Path(os.getcwd()) / \"sequences.csv\", \"r\") as f:\n",
    "    sequences =  pl.DataFrame(list(csv.DictReader(f)))\n",
    "\n",
    "with concurrent.futures.ProcessPoolExecutor() as executor:\n",
    "    sequences = sequences.with_columns(\n",
    "        natural_mfe=pl.Series(list(executor.map(_mfe, sequences[\"Natural\"].to_list()))),\n",
    "        gemorna_mfe=pl.Series(list(executor.map(_mfe, sequences[\"GEMORNA\"].to_list()))),\n",
    "        cai_mfe=pl.Series(list(executor.map(_mfe, sequences[\"CAI-optimized\"].to_list()))),\n",
    "        lineardesign_mfe=pl.Series(list(executor.map(_mfe, sequences[\"LinearDesign (lambda=1)\"].to_list()))),\n",
    "        random_mfe=pl.Series(list(executor.map(_mfe, sequences[\"Random\"].to_list()))),\n",
    "    )\n"
   ]
  },
  {
   "cell_type": "code",
   "execution_count": 18,
   "id": "900d8c0f-ac64-4de0-8c3f-5055c65467c8",
   "metadata": {},
   "outputs": [],
   "source": [
    "normalized_sequences = sequences.with_columns(\n",
    "    gemorna_mfe=pl.col(\"genorma_mfe\")\n",
    ").with_columns(\n",
    "    natural_mfe_normalized=pl.col(\"natural_mfe\") / pl.col(\"Natural\").str.len_bytes(),\n",
    "    gemorna_mfe_normalized=pl.col(\"gemorna_mfe\") / pl.col(\"GEMORNA\").str.len_bytes(),\n",
    "    cai_mfe_normalized=pl.col(\"cai_mfe\") / pl.col(\"CAI-optimized\").str.len_bytes(),\n",
    "    lineardesign_mfe_normalized=pl.col(\"lineardesign_mfe\") / pl.col(\"LinearDesign (lambda=1)\").str.len_bytes(),\n",
    "    random_mfe_normalized=pl.col(\"random_mfe\") / pl.col(\"Random\").str.len_bytes(),\n",
    ")\n",
    "normalized_sequences.write_csv(\"mfe.csv\")"
   ]
  },
  {
   "cell_type": "code",
   "execution_count": null,
   "id": "530b8820-bcc2-4eb1-afb6-912369024700",
   "metadata": {},
   "outputs": [],
   "source": []
  }
 ],
 "metadata": {
  "kernelspec": {
   "display_name": "Python 3 (ipykernel)",
   "language": "python",
   "name": "python3"
  },
  "language_info": {
   "codemirror_mode": {
    "name": "ipython",
    "version": 3
   },
   "file_extension": ".py",
   "mimetype": "text/x-python",
   "name": "python",
   "nbconvert_exporter": "python",
   "pygments_lexer": "ipython3",
   "version": "3.13.7"
  }
 },
 "nbformat": 4,
 "nbformat_minor": 5
}
