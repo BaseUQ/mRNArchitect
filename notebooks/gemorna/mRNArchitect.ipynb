{
 "cells": [
  {
   "cell_type": "code",
   "execution_count": 1,
   "id": "def529ab-8df2-4111-b268-ca4e6cfbf3fa",
   "metadata": {},
   "outputs": [],
   "source": [
    "import concurrent.futures\n",
    "\n",
    "import polars as pl\n",
    "\n",
    "from tools.sequence.sequence import Sequence"
   ]
  },
  {
   "cell_type": "code",
   "execution_count": 2,
   "id": "fb194cc8-28cf-4b23-9ed3-ae0ffcbb8319",
   "metadata": {},
   "outputs": [
    {
     "data": {
      "text/html": [
       "<div><style>\n",
       ".dataframe > thead > tr,\n",
       ".dataframe > tbody > tr {\n",
       "  text-align: right;\n",
       "  white-space: pre-wrap;\n",
       "}\n",
       "</style>\n",
       "<small>shape: (3_765, 6)</small><table border=\"1\" class=\"dataframe\"><thead><tr><th>Protein</th><th>Natural</th><th>GEMORNA</th><th>CAI-optimized</th><th>LinearDesign (lambda=1)</th><th>Random</th></tr><tr><td>str</td><td>str</td><td>str</td><td>str</td><td>str</td><td>str</td></tr></thead><tbody><tr><td>&quot;EVVMTQTPVSLPVTLGEPASISCKASQSLL…</td><td>&quot;GAGGUUGUGAUGACGCAGACCCCAGUGUCC…</td><td>&quot;GAGGUGGUGAUGACCCAGACCCCCGUGUCC…</td><td>&quot;GAAGUGGUGAUGACCCAGACCCCAGUGUCU…</td><td>&quot;GAGGUGGUGAUGACCCAGACCCCGGUGAGC…</td><td>&quot;GAAGUGGUCAUGACGCAGACUCCAGUCUCA…</td></tr><tr><td>&quot;MRLSCPRAPGHGWMGLFLPHLPPSHNSSSG…</td><td>&quot;AUGAGGCUAAGUUGCCCCAGAGCCCCAGGA…</td><td>&quot;AUGAGGCUGAGCUGCCCCAGGGCCCCCGGC…</td><td>&quot;AUGAGGCUGUCCUGCCCCCGGGCCCCCGGG…</td><td>&quot;AUGCGGCUGAGCUGCCCCCGGGCACCCGGG…</td><td>&quot;AUGCGUCUAUCGUGCCCCCGAGCACCAGGA…</td></tr><tr><td>&quot;MSNFYEERATMIAAGDLQEFVPFGRDHCKH…</td><td>&quot;AUGUCGAACUUCUAUGAAGAAAGGGCAACG…</td><td>&quot;AUGAGCAACUUCUACGAGGAGCGGGCCACC…</td><td>&quot;AUGAGUAACUUCUACGAGGAAAGGGCCACC…</td><td>&quot;AUGUCCAACUUUUAUGAGGAGCGCGCCACA…</td><td>&quot;AUGAGCAAUUUUUACGAAGAGCGCGCCACG…</td></tr><tr><td>&quot;MPLAGLHLLAAKQAQFLSGPLPLVCSMGDG…</td><td>&quot;AUGCCGCUGGCUGGACUGCACCUUCUGGCA…</td><td>&quot;AUGCCCCUGGCCGGCCUGCACCUGCUGGCC…</td><td>&quot;AUGCCUCUGGCCGGCCUGCACCUGCUGGCC…</td><td>&quot;AUGCCCCUGGCAGGACUGCACCUGCUUGCC…</td><td>&quot;AUGCCAUUGGCCGGACUACAUCUCCUAGCA…</td></tr><tr><td>&quot;MSSKMAISSDIGQARRAVEQLRMEAGIDRV…</td><td>&quot;AUGUCCAGCAAGAUGGCCAUCAGCAGCGAC…</td><td>&quot;AUGUCCAGCAAGAUGGCCAUCAGCAGCGAC…</td><td>&quot;AUGAGCUCCAAGAUGGCCAUCUCCUCAGAC…</td><td>&quot;AUGAGCAGCAAGAUGGCGAUCAGCUCCGAC…</td><td>&quot;AUGUCCAGUAAAAUGGCAAUUUCGAGCGAC…</td></tr><tr><td>&hellip;</td><td>&hellip;</td><td>&hellip;</td><td>&hellip;</td><td>&hellip;</td><td>&hellip;</td></tr><tr><td>&quot;MRVLRVSQPLVRSFSSTGRSRFENRVAEKQ…</td><td>&quot;AUGAGGGUCCUGCGGGUCUCCCAGCCCUUG…</td><td>&quot;AUGAGGGUGCUGAGGGUGAGCCAGCCCCUG…</td><td>&quot;AUGAGAGUGCUGAGGGUUUCCCAGCCCCUG…</td><td>&quot;AUGCGGGUGCUGAGGGUGUCCCAGCCACUG…</td><td>&quot;AUGCGAGUUUUACGAGUGUCCCAACCGCUG…</td></tr><tr><td>&quot;MARTKQTARKSTGGKAPRKQLATKAARKSA…</td><td>&quot;AUGGCUCGUACUAAGCAGACCGCCCGCAAG…</td><td>&quot;AUGGCGCGCACCAAGCAGACCGCCCGCAAG…</td><td>&quot;AUGGCCCGGACCAAGCAGACAGCCAGAAAG…</td><td>&quot;AUGGCGCGGACUAAGCAGACGGCCCGCAAG…</td><td>&quot;AUGGCGAGAACUAAGCAGACAGCUAGAAAA…</td></tr><tr><td>&quot;MKIFYHFFHFLCCVTFILSATCSFVEPDRC…</td><td>&quot;AUGAAGAUCUUUUACCACUUCUUCCAUUUU…</td><td>&quot;AUGAAGAUCUUCUACCACUUCUUCCACUUC…</td><td>&quot;AUGAAGAUCUUUUACCACUUCUUUCACUUC…</td><td>&quot;AUGAAGAUCUUCUAUCAUUUCUUCCACUUC…</td><td>&quot;AUGAAGAUCUUCUAUCAUUUCUUCCAUUUC…</td></tr><tr><td>&quot;MAPSTVAVELLSPKEKNRLRKPVVEKMRRD…</td><td>&quot;AUGGCCCCUAGCACCGUGGCCGUGGAGCUG…</td><td>&quot;AUGGCGCCCAGCACCGUGGCCGUGGAGCUG…</td><td>&quot;AUGGCCCCAAGCACCGUGGCCGUGGAGCUG…</td><td>&quot;AUGGCGCCUUCUACUGUGGCCGUGGAGCUC…</td><td>&quot;AUGGCACCAUCGACUGUGGCCGUAGAAUUA…</td></tr><tr><td>&quot;ISYDPTRYPKYLPEAYCLCRGCLTGPFGEE…</td><td>&quot;AUCUCCUACGACCCCACCAGAUACCCCAAG…</td><td>&quot;AUCUCCUACGACCCCACCCGCUACCCCAAG…</td><td>&quot;AUCUCCUACGACCCUACACGCUACCCCAAG…</td><td>&quot;AUCAGCUACGACCCCACUCGGUAUCCCAAG…</td><td>&quot;AUCUCUUACGACCCGACGCGCUAUCCCAAG…</td></tr></tbody></table></div>"
      ],
      "text/plain": [
       "shape: (3_765, 6)\n",
       "┌────────────────┬────────────────┬────────────────┬───────────────┬───────────────┬───────────────┐\n",
       "│ Protein        ┆ Natural        ┆ GEMORNA        ┆ CAI-optimized ┆ LinearDesign  ┆ Random        │\n",
       "│ ---            ┆ ---            ┆ ---            ┆ ---           ┆ (lambda=1)    ┆ ---           │\n",
       "│ str            ┆ str            ┆ str            ┆ str           ┆ ---           ┆ str           │\n",
       "│                ┆                ┆                ┆               ┆ str           ┆               │\n",
       "╞════════════════╪════════════════╪════════════════╪═══════════════╪═══════════════╪═══════════════╡\n",
       "│ EVVMTQTPVSLPVT ┆ GAGGUUGUGAUGAC ┆ GAGGUGGUGAUGAC ┆ GAAGUGGUGAUGA ┆ GAGGUGGUGAUGA ┆ GAAGUGGUCAUGA │\n",
       "│ LGEPASISCKASQS ┆ GCAGACCCCAGUGU ┆ CCAGACCCCCGUGU ┆ CCCAGACCCCAGU ┆ CCCAGACCCCGGU ┆ CGCAGACUCCAGU │\n",
       "│ LL…            ┆ CC…            ┆ CC…            ┆ GUCU…         ┆ GAGC…         ┆ CUCA…         │\n",
       "│ MRLSCPRAPGHGWM ┆ AUGAGGCUAAGUUG ┆ AUGAGGCUGAGCUG ┆ AUGAGGCUGUCCU ┆ AUGCGGCUGAGCU ┆ AUGCGUCUAUCGU │\n",
       "│ GLFLPHLPPSHNSS ┆ CCCCAGAGCCCCAG ┆ CCCCAGGGCCCCCG ┆ GCCCCCGGGCCCC ┆ GCCCCCGGGCACC ┆ GCCCCCGAGCACC │\n",
       "│ SG…            ┆ GA…            ┆ GC…            ┆ CGGG…         ┆ CGGG…         ┆ AGGA…         │\n",
       "│ MSNFYEERATMIAA ┆ AUGUCGAACUUCUA ┆ AUGAGCAACUUCUA ┆ AUGAGUAACUUCU ┆ AUGUCCAACUUUU ┆ AUGAGCAAUUUUU │\n",
       "│ GDLQEFVPFGRDHC ┆ UGAAGAAAGGGCAA ┆ CGAGGAGCGGGCCA ┆ ACGAGGAAAGGGC ┆ AUGAGGAGCGCGC ┆ ACGAAGAGCGCGC │\n",
       "│ KH…            ┆ CG…            ┆ CC…            ┆ CACC…         ┆ CACA…         ┆ CACG…         │\n",
       "│ MPLAGLHLLAAKQA ┆ AUGCCGCUGGCUGG ┆ AUGCCCCUGGCCGG ┆ AUGCCUCUGGCCG ┆ AUGCCCCUGGCAG ┆ AUGCCAUUGGCCG │\n",
       "│ QFLSGPLPLVCSMG ┆ ACUGCACCUUCUGG ┆ CCUGCACCUGCUGG ┆ GCCUGCACCUGCU ┆ GACUGCACCUGCU ┆ GACUACAUCUCCU │\n",
       "│ DG…            ┆ CA…            ┆ CC…            ┆ GGCC…         ┆ UGCC…         ┆ AGCA…         │\n",
       "│ MSSKMAISSDIGQA ┆ AUGUCCAGCAAGAU ┆ AUGUCCAGCAAGAU ┆ AUGAGCUCCAAGA ┆ AUGAGCAGCAAGA ┆ AUGUCCAGUAAAA │\n",
       "│ RRAVEQLRMEAGID ┆ GGCCAUCAGCAGCG ┆ GGCCAUCAGCAGCG ┆ UGGCCAUCUCCUC ┆ UGGCGAUCAGCUC ┆ UGGCAAUUUCGAG │\n",
       "│ RV…            ┆ AC…            ┆ AC…            ┆ AGAC…         ┆ CGAC…         ┆ CGAC…         │\n",
       "│ …              ┆ …              ┆ …              ┆ …             ┆ …             ┆ …             │\n",
       "│ MRVLRVSQPLVRSF ┆ AUGAGGGUCCUGCG ┆ AUGAGGGUGCUGAG ┆ AUGAGAGUGCUGA ┆ AUGCGGGUGCUGA ┆ AUGCGAGUUUUAC │\n",
       "│ SSTGRSRFENRVAE ┆ GGUCUCCCAGCCCU ┆ GGUGAGCCAGCCCC ┆ GGGUUUCCCAGCC ┆ GGGUGUCCCAGCC ┆ GAGUGUCCCAACC │\n",
       "│ KQ…            ┆ UG…            ┆ UG…            ┆ CCUG…         ┆ ACUG…         ┆ GCUG…         │\n",
       "│ MARTKQTARKSTGG ┆ AUGGCUCGUACUAA ┆ AUGGCGCGCACCAA ┆ AUGGCCCGGACCA ┆ AUGGCGCGGACUA ┆ AUGGCGAGAACUA │\n",
       "│ KAPRKQLATKAARK ┆ GCAGACCGCCCGCA ┆ GCAGACCGCCCGCA ┆ AGCAGACAGCCAG ┆ AGCAGACGGCCCG ┆ AGCAGACAGCUAG │\n",
       "│ SA…            ┆ AG…            ┆ AG…            ┆ AAAG…         ┆ CAAG…         ┆ AAAA…         │\n",
       "│ MKIFYHFFHFLCCV ┆ AUGAAGAUCUUUUA ┆ AUGAAGAUCUUCUA ┆ AUGAAGAUCUUUU ┆ AUGAAGAUCUUCU ┆ AUGAAGAUCUUCU │\n",
       "│ TFILSATCSFVEPD ┆ CCACUUCUUCCAUU ┆ CCACUUCUUCCACU ┆ ACCACUUCUUUCA ┆ AUCAUUUCUUCCA ┆ AUCAUUUCUUCCA │\n",
       "│ RC…            ┆ UU…            ┆ UC…            ┆ CUUC…         ┆ CUUC…         ┆ UUUC…         │\n",
       "│ MAPSTVAVELLSPK ┆ AUGGCCCCUAGCAC ┆ AUGGCGCCCAGCAC ┆ AUGGCCCCAAGCA ┆ AUGGCGCCUUCUA ┆ AUGGCACCAUCGA │\n",
       "│ EKNRLRKPVVEKMR ┆ CGUGGCCGUGGAGC ┆ CGUGGCCGUGGAGC ┆ CCGUGGCCGUGGA ┆ CUGUGGCCGUGGA ┆ CUGUGGCCGUAGA │\n",
       "│ RD…            ┆ UG…            ┆ UG…            ┆ GCUG…         ┆ GCUC…         ┆ AUUA…         │\n",
       "│ ISYDPTRYPKYLPE ┆ AUCUCCUACGACCC ┆ AUCUCCUACGACCC ┆ AUCUCCUACGACC ┆ AUCAGCUACGACC ┆ AUCUCUUACGACC │\n",
       "│ AYCLCRGCLTGPFG ┆ CACCAGAUACCCCA ┆ CACCCGCUACCCCA ┆ CUACACGCUACCC ┆ CCACUCGGUAUCC ┆ CGACGCGCUAUCC │\n",
       "│ EE…            ┆ AG…            ┆ AG…            ┆ CAAG…         ┆ CAAG…         ┆ CAAG…         │\n",
       "└────────────────┴────────────────┴────────────────┴───────────────┴───────────────┴───────────────┘"
      ]
     },
     "execution_count": 2,
     "metadata": {},
     "output_type": "execute_result"
    }
   ],
   "source": [
    "sequences = pl.read_excel(\"./adr8470_Suppl. Excel_seq2_v1.xlsx\", sheet_name=\"Sequences\")\n",
    "sequences"
   ]
  },
  {
   "cell_type": "code",
   "execution_count": 5,
   "id": "9b5fe851-0a2e-4339-9791-d0b501bbdb8f",
   "metadata": {},
   "outputs": [],
   "source": [
    "def _process(protein: str) -> tuple[str | None, float | None]:\n",
    "    optimized_sequence, mfe = None, None\n",
    "    try:\n",
    "        s = Sequence.from_string(protein)\n",
    "        optimize_result = s.optimize()\n",
    "        if optimize_result.success:\n",
    "            optimized_sequence = str(optimize_result.result.sequence)\n",
    "            mfe = optimize_result.result.sequence.minimum_free_energy.energy\n",
    "    except Exception as e:\n",
    "        print(e)\n",
    "    return optimized_sequence, mfe\n",
    "\n",
    "with concurrent.futures.ProcessPoolExecutor() as executor:\n",
    "    results = list(executor.map(_process, sequences[\"Protein\"].to_list()))"
   ]
  },
  {
   "cell_type": "code",
   "execution_count": 10,
   "id": "05267b2d-6ba4-4ab3-adce-ab0306d51b82",
   "metadata": {},
   "outputs": [
    {
     "data": {
      "text/html": [
       "<div><style>\n",
       ".dataframe > thead > tr,\n",
       ".dataframe > tbody > tr {\n",
       "  text-align: right;\n",
       "  white-space: pre-wrap;\n",
       "}\n",
       "</style>\n",
       "<small>shape: (3_765, 2)</small><table border=\"1\" class=\"dataframe\"><thead><tr><th>mRNArchitect</th><th>MFE</th></tr><tr><td>str</td><td>f64</td></tr></thead><tbody><tr><td>&quot;GAGGTGGTGATGACCCAGACCCCCGTGAGC…</td><td>-107.199997</td></tr><tr><td>&quot;ATGAGACTGAGCTGCCCTAGAGCCCCCGGC…</td><td>-117.800003</td></tr><tr><td>&quot;ATGAGCAACTTCTACGAGGAGAGAGCCACC…</td><td>-179.699997</td></tr><tr><td>&quot;ATGCCCCTGGCCGGCCTGCACCTGCTGGCT…</td><td>-139.899994</td></tr><tr><td>&quot;ATGAGCAGCAAGATGGCCATCAGCAGCGAC…</td><td>-72.900002</td></tr><tr><td>&hellip;</td><td>&hellip;</td></tr><tr><td>&quot;ATGAGAGTGCTGAGAGTGAGCCAGCCCCTG…</td><td>-86.099998</td></tr><tr><td>&quot;ATGGCCAGAACCAAGCAGACCGCCAGGAAG…</td><td>-137.199997</td></tr><tr><td>&quot;ATGAAGATCTTCTACCACTTCTTCCACTTC…</td><td>-58.299999</td></tr><tr><td>&quot;ATGGCCCCCAGCACCGTGGCCGTGGAGCTG…</td><td>-181.100006</td></tr><tr><td>&quot;ATCAGCTACGACCCCACCAGATACCCCAAG…</td><td>-121.800003</td></tr></tbody></table></div>"
      ],
      "text/plain": [
       "shape: (3_765, 2)\n",
       "┌─────────────────────────────────┬─────────────┐\n",
       "│ mRNArchitect                    ┆ MFE         │\n",
       "│ ---                             ┆ ---         │\n",
       "│ str                             ┆ f64         │\n",
       "╞═════════════════════════════════╪═════════════╡\n",
       "│ GAGGTGGTGATGACCCAGACCCCCGTGAGC… ┆ -107.199997 │\n",
       "│ ATGAGACTGAGCTGCCCTAGAGCCCCCGGC… ┆ -117.800003 │\n",
       "│ ATGAGCAACTTCTACGAGGAGAGAGCCACC… ┆ -179.699997 │\n",
       "│ ATGCCCCTGGCCGGCCTGCACCTGCTGGCT… ┆ -139.899994 │\n",
       "│ ATGAGCAGCAAGATGGCCATCAGCAGCGAC… ┆ -72.900002  │\n",
       "│ …                               ┆ …           │\n",
       "│ ATGAGAGTGCTGAGAGTGAGCCAGCCCCTG… ┆ -86.099998  │\n",
       "│ ATGGCCAGAACCAAGCAGACCGCCAGGAAG… ┆ -137.199997 │\n",
       "│ ATGAAGATCTTCTACCACTTCTTCCACTTC… ┆ -58.299999  │\n",
       "│ ATGGCCCCCAGCACCGTGGCCGTGGAGCTG… ┆ -181.100006 │\n",
       "│ ATCAGCTACGACCCCACCAGATACCCCAAG… ┆ -121.800003 │\n",
       "└─────────────────────────────────┴─────────────┘"
      ]
     },
     "execution_count": 10,
     "metadata": {},
     "output_type": "execute_result"
    }
   ],
   "source": [
    "df = pl.DataFrame({\n",
    "    \"mRNArchitect\": [it[0] for it in results],\n",
    "    \"MFE\": [it[1] for it in results],\n",
    "})\n",
    "df"
   ]
  },
  {
   "cell_type": "code",
   "execution_count": 17,
   "id": "b8af4baf-eaa9-45db-b38f-4b815064c27e",
   "metadata": {},
   "outputs": [
    {
     "data": {
      "text/html": [
       "<div><style>\n",
       ".dataframe > thead > tr,\n",
       ".dataframe > tbody > tr {\n",
       "  text-align: right;\n",
       "  white-space: pre-wrap;\n",
       "}\n",
       "</style>\n",
       "<small>shape: (3_765, 9)</small><table border=\"1\" class=\"dataframe\"><thead><tr><th>mRNArchitect</th><th>mRNArchitect - CAI</th><th>mRNArchitect - GC content</th><th>mRNArchitect - Rare codon per nt</th><th>mRNArchitect - U percentage</th><th>mRNArchitect - Normalized MFE</th><th>mRNArchitect - Unwanted codon pair per nt</th><th>mRNArchitect - Slippery site per nt</th><th>mRNArchitect - Naturalness</th></tr><tr><td>str</td><td>f64</td><td>f64</td><td>f64</td><td>f64</td><td>f64</td><td>f64</td><td>f64</td><td>f64</td></tr></thead><tbody><tr><td>&quot;GAGGTGGTGATGACCCAGACCCCCGTGAGC…</td><td>0.995524</td><td>0.647975</td><td>0.0</td><td>0.130841</td><td>-0.333956</td><td>0.0</td><td>0.0</td><td>0.0</td></tr><tr><td>&quot;ATGAGACTGAGCTGCCCTAGAGCCCCCGGC…</td><td>0.977057</td><td>0.661247</td><td>0.0</td><td>0.165312</td><td>-0.319241</td><td>0.0</td><td>0.0</td><td>0.0</td></tr><tr><td>&quot;ATGAGCAACTTCTACGAGGAGAGAGCCACC…</td><td>0.98165</td><td>0.626068</td><td>0.0</td><td>0.132479</td><td>-0.383974</td><td>0.0</td><td>0.0</td><td>0.0</td></tr><tr><td>&quot;ATGCCCCTGGCCGGCCTGCACCTGCTGGCT…</td><td>0.985818</td><td>0.649123</td><td>0.0</td><td>0.140351</td><td>-0.409064</td><td>0.0</td><td>0.0</td><td>0.0</td></tr><tr><td>&quot;ATGAGCAGCAAGATGGCCATCAGCAGCGAC…</td><td>1.0</td><td>0.639269</td><td>0.0</td><td>0.118721</td><td>-0.332877</td><td>0.0</td><td>0.0</td><td>0.0</td></tr><tr><td>&hellip;</td><td>&hellip;</td><td>&hellip;</td><td>&hellip;</td><td>&hellip;</td><td>&hellip;</td><td>&hellip;</td><td>&hellip;</td><td>&hellip;</td></tr><tr><td>&quot;ATGAGAGTGCTGAGAGTGAGCCAGCCCCTG…</td><td>1.0</td><td>0.609053</td><td>0.0</td><td>0.148148</td><td>-0.354321</td><td>0.0</td><td>0.0</td><td>0.0</td></tr><tr><td>&quot;ATGGCCAGAACCAAGCAGACCGCCAGGAAG…</td><td>0.988222</td><td>0.618005</td><td>0.0</td><td>0.111922</td><td>-0.33382</td><td>0.0</td><td>0.0</td><td>0.0</td></tr><tr><td>&quot;ATGAAGATCTTCTACCACTTCTTCCACTTC…</td><td>0.998628</td><td>0.557143</td><td>0.0</td><td>0.190476</td><td>-0.277619</td><td>0.0</td><td>0.0</td><td>0.0</td></tr><tr><td>&quot;ATGGCCCCCAGCACCGTGGCCGTGGAGCTG…</td><td>0.958454</td><td>0.638211</td><td>0.0</td><td>0.128049</td><td>-0.368089</td><td>0.0</td><td>0.0</td><td>0.0</td></tr><tr><td>&quot;ATCAGCTACGACCCCACCAGATACCCCAAG…</td><td>0.992894</td><td>0.657233</td><td>0.0</td><td>0.13522</td><td>-0.383019</td><td>0.0</td><td>0.0</td><td>0.0</td></tr></tbody></table></div>"
      ],
      "text/plain": [
       "shape: (3_765, 9)\n",
       "┌───────────┬───────────┬───────────┬───────────┬───┬───────────┬───────────┬───────────┬──────────┐\n",
       "│ mRNArchit ┆ mRNArchit ┆ mRNArchit ┆ mRNArchit ┆ … ┆ mRNArchit ┆ mRNArchit ┆ mRNArchit ┆ mRNArchi │\n",
       "│ ect       ┆ ect - CAI ┆ ect - GC  ┆ ect -     ┆   ┆ ect - Nor ┆ ect -     ┆ ect -     ┆ tect -   │\n",
       "│ ---       ┆ ---       ┆ content   ┆ Rare      ┆   ┆ malized   ┆ Unwanted  ┆ Slippery  ┆ Naturaln │\n",
       "│ str       ┆ f64       ┆ ---       ┆ codon per ┆   ┆ MFE       ┆ codon …   ┆ site p…   ┆ ess      │\n",
       "│           ┆           ┆ f64       ┆ …         ┆   ┆ ---       ┆ ---       ┆ ---       ┆ ---      │\n",
       "│           ┆           ┆           ┆ ---       ┆   ┆ f64       ┆ f64       ┆ f64       ┆ f64      │\n",
       "│           ┆           ┆           ┆ f64       ┆   ┆           ┆           ┆           ┆          │\n",
       "╞═══════════╪═══════════╪═══════════╪═══════════╪═══╪═══════════╪═══════════╪═══════════╪══════════╡\n",
       "│ GAGGTGGTG ┆ 0.995524  ┆ 0.647975  ┆ 0.0       ┆ … ┆ -0.333956 ┆ 0.0       ┆ 0.0       ┆ 0.0      │\n",
       "│ ATGACCCAG ┆           ┆           ┆           ┆   ┆           ┆           ┆           ┆          │\n",
       "│ ACCCCCGTG ┆           ┆           ┆           ┆   ┆           ┆           ┆           ┆          │\n",
       "│ AGC…      ┆           ┆           ┆           ┆   ┆           ┆           ┆           ┆          │\n",
       "│ ATGAGACTG ┆ 0.977057  ┆ 0.661247  ┆ 0.0       ┆ … ┆ -0.319241 ┆ 0.0       ┆ 0.0       ┆ 0.0      │\n",
       "│ AGCTGCCCT ┆           ┆           ┆           ┆   ┆           ┆           ┆           ┆          │\n",
       "│ AGAGCCCCC ┆           ┆           ┆           ┆   ┆           ┆           ┆           ┆          │\n",
       "│ GGC…      ┆           ┆           ┆           ┆   ┆           ┆           ┆           ┆          │\n",
       "│ ATGAGCAAC ┆ 0.98165   ┆ 0.626068  ┆ 0.0       ┆ … ┆ -0.383974 ┆ 0.0       ┆ 0.0       ┆ 0.0      │\n",
       "│ TTCTACGAG ┆           ┆           ┆           ┆   ┆           ┆           ┆           ┆          │\n",
       "│ GAGAGAGCC ┆           ┆           ┆           ┆   ┆           ┆           ┆           ┆          │\n",
       "│ ACC…      ┆           ┆           ┆           ┆   ┆           ┆           ┆           ┆          │\n",
       "│ ATGCCCCTG ┆ 0.985818  ┆ 0.649123  ┆ 0.0       ┆ … ┆ -0.409064 ┆ 0.0       ┆ 0.0       ┆ 0.0      │\n",
       "│ GCCGGCCTG ┆           ┆           ┆           ┆   ┆           ┆           ┆           ┆          │\n",
       "│ CACCTGCTG ┆           ┆           ┆           ┆   ┆           ┆           ┆           ┆          │\n",
       "│ GCT…      ┆           ┆           ┆           ┆   ┆           ┆           ┆           ┆          │\n",
       "│ ATGAGCAGC ┆ 1.0       ┆ 0.639269  ┆ 0.0       ┆ … ┆ -0.332877 ┆ 0.0       ┆ 0.0       ┆ 0.0      │\n",
       "│ AAGATGGCC ┆           ┆           ┆           ┆   ┆           ┆           ┆           ┆          │\n",
       "│ ATCAGCAGC ┆           ┆           ┆           ┆   ┆           ┆           ┆           ┆          │\n",
       "│ GAC…      ┆           ┆           ┆           ┆   ┆           ┆           ┆           ┆          │\n",
       "│ …         ┆ …         ┆ …         ┆ …         ┆ … ┆ …         ┆ …         ┆ …         ┆ …        │\n",
       "│ ATGAGAGTG ┆ 1.0       ┆ 0.609053  ┆ 0.0       ┆ … ┆ -0.354321 ┆ 0.0       ┆ 0.0       ┆ 0.0      │\n",
       "│ CTGAGAGTG ┆           ┆           ┆           ┆   ┆           ┆           ┆           ┆          │\n",
       "│ AGCCAGCCC ┆           ┆           ┆           ┆   ┆           ┆           ┆           ┆          │\n",
       "│ CTG…      ┆           ┆           ┆           ┆   ┆           ┆           ┆           ┆          │\n",
       "│ ATGGCCAGA ┆ 0.988222  ┆ 0.618005  ┆ 0.0       ┆ … ┆ -0.33382  ┆ 0.0       ┆ 0.0       ┆ 0.0      │\n",
       "│ ACCAAGCAG ┆           ┆           ┆           ┆   ┆           ┆           ┆           ┆          │\n",
       "│ ACCGCCAGG ┆           ┆           ┆           ┆   ┆           ┆           ┆           ┆          │\n",
       "│ AAG…      ┆           ┆           ┆           ┆   ┆           ┆           ┆           ┆          │\n",
       "│ ATGAAGATC ┆ 0.998628  ┆ 0.557143  ┆ 0.0       ┆ … ┆ -0.277619 ┆ 0.0       ┆ 0.0       ┆ 0.0      │\n",
       "│ TTCTACCAC ┆           ┆           ┆           ┆   ┆           ┆           ┆           ┆          │\n",
       "│ TTCTTCCAC ┆           ┆           ┆           ┆   ┆           ┆           ┆           ┆          │\n",
       "│ TTC…      ┆           ┆           ┆           ┆   ┆           ┆           ┆           ┆          │\n",
       "│ ATGGCCCCC ┆ 0.958454  ┆ 0.638211  ┆ 0.0       ┆ … ┆ -0.368089 ┆ 0.0       ┆ 0.0       ┆ 0.0      │\n",
       "│ AGCACCGTG ┆           ┆           ┆           ┆   ┆           ┆           ┆           ┆          │\n",
       "│ GCCGTGGAG ┆           ┆           ┆           ┆   ┆           ┆           ┆           ┆          │\n",
       "│ CTG…      ┆           ┆           ┆           ┆   ┆           ┆           ┆           ┆          │\n",
       "│ ATCAGCTAC ┆ 0.992894  ┆ 0.657233  ┆ 0.0       ┆ … ┆ -0.383019 ┆ 0.0       ┆ 0.0       ┆ 0.0      │\n",
       "│ GACCCCACC ┆           ┆           ┆           ┆   ┆           ┆           ┆           ┆          │\n",
       "│ AGATACCCC ┆           ┆           ┆           ┆   ┆           ┆           ┆           ┆          │\n",
       "│ AAG…      ┆           ┆           ┆           ┆   ┆           ┆           ┆           ┆          │\n",
       "└───────────┴───────────┴───────────┴───────────┴───┴───────────┴───────────┴───────────┴──────────┘"
      ]
     },
     "execution_count": 17,
     "metadata": {},
     "output_type": "execute_result"
    }
   ],
   "source": [
    "METRICS = {\n",
    "    \"CAI\": pl.col(\"mRNArchitect\").map_elements(lambda x: Sequence.from_string(x).codon_adaptation_index(), return_dtype=pl.Float64),\n",
    "    \"GC content\": pl.col(\"mRNArchitect\").map_elements(lambda x: Sequence.from_string(x).gc_ratio, return_dtype=pl.Float64),\n",
    "    \"Rare codon per nt\": pl.lit(0.0),\n",
    "    \"U percentage\":pl.col(\"mRNArchitect\").map_elements(lambda x: Sequence.from_string(x).t_ratio, return_dtype=pl.Float64),\n",
    "    \"Normalized MFE\":    (pl.col(\"MFE\") / pl.col(\"mRNArchitect\").str.len_bytes()),\n",
    "    \"Unwanted codon pair per nt\": pl.lit(0.0),\n",
    "    \"Slippery site per nt\": pl.lit(0.0),\n",
    "    \"Naturalness\": pl.lit(0.0),\n",
    "}\n",
    "\n",
    "def _column_name(source, metric):\n",
    "    return f\"{source} - {metric}\"\n",
    "\n",
    "df2 = df.with_columns(\n",
    "    *[\n",
    "        column.alias(_column_name(\"mRNArchitect\", name))\n",
    "        for name, column in METRICS.items()\n",
    "    ]\n",
    ").drop(\"MFE\")\n",
    "df2"
   ]
  },
  {
   "cell_type": "code",
   "execution_count": 18,
   "id": "b7b6f1dd-3cc3-485e-8f8f-6582753b1661",
   "metadata": {},
   "outputs": [],
   "source": [
    "df2.write_csv(\"mRNArchitect.csv\")"
   ]
  },
  {
   "cell_type": "code",
   "execution_count": null,
   "id": "aac3aea3-3e44-4454-bf8c-da7889c9e5c7",
   "metadata": {},
   "outputs": [],
   "source": []
  }
 ],
 "metadata": {
  "kernelspec": {
   "display_name": "Python 3 (ipykernel)",
   "language": "python",
   "name": "python3"
  },
  "language_info": {
   "codemirror_mode": {
    "name": "ipython",
    "version": 3
   },
   "file_extension": ".py",
   "mimetype": "text/x-python",
   "name": "python",
   "nbconvert_exporter": "python",
   "pygments_lexer": "ipython3",
   "version": "3.13.7"
  }
 },
 "nbformat": 4,
 "nbformat_minor": 5
}
