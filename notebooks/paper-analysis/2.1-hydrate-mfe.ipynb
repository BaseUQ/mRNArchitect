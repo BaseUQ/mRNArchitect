{
 "cells": [
  {
   "cell_type": "code",
   "execution_count": 10,
   "id": "7f1c3f53-fa42-453b-8f52-2d9cef436201",
   "metadata": {},
   "outputs": [],
   "source": [
    "import concurrent.futures\n",
    "import pathlib\n",
    "import os\n",
    "\n",
    "import polars as pl\n",
    "import plotnine as p9\n",
    "\n",
    "from tools.sequence.sequence import Sequence\n",
    "\n",
    "DATA_DIR = pathlib.Path(os.getcwd()) / \"..\" / \"_analysis\"\n",
    "OUTPUT_DIR = DATA_DIR / \"output\""
   ]
  },
  {
   "cell_type": "code",
   "execution_count": 11,
   "id": "b8baf748-07bd-4f20-9537-1a6339a90a93",
   "metadata": {},
   "outputs": [
    {
     "data": {
      "text/html": [
       "<div><style>\n",
       ".dataframe > thead > tr,\n",
       ".dataframe > tbody > tr {\n",
       "  text-align: right;\n",
       "  white-space: pre-wrap;\n",
       "}\n",
       "</style>\n",
       "<small>shape: (5_536, 5)</small><table border=\"1\" class=\"dataframe\"><thead><tr><th>source</th><th>name</th><th>input_sequence</th><th>output_sequence</th><th>failed_reason</th></tr><tr><td>str</td><td>str</td><td>str</td><td>str</td><td>str</td></tr></thead><tbody><tr><td>&quot;hrt_hk_nt_seq_pulled_from_ense…</td><td>&quot;ENSG00000100387|ENSG0000010038…</td><td>&quot;ATGGCGGCAGCGATGGATGTGGATACCCCG…</td><td>&quot;ATGGCCGCCGCCATGGACGTGGACACCCCC…</td><td>&quot;&quot;</td></tr><tr><td>&quot;hrt_hk_nt_seq_pulled_from_ense…</td><td>&quot;ENSG00000111639|ENSG0000011163…</td><td>&quot;ATGGCAGGGAACCTCTTATCCGGGGCAGGT…</td><td>&quot;ATGGCCGGCAACCTGCTGAGCGGCGCCGGC…</td><td>&quot;&quot;</td></tr><tr><td>&quot;hrt_hk_nt_seq_pulled_from_ense…</td><td>&quot;ENSG00000239789|ENSG0000023978…</td><td>&quot;ATGTCCGTAGTTCGCTCATCCGTCCATGCC…</td><td>&quot;ATGAGCGTGGTGAGAAGCAGCGTGCACGCC…</td><td>&quot;&quot;</td></tr><tr><td>&quot;hrt_hk_nt_seq_pulled_from_ense…</td><td>&quot;ENSG00000171148|ENSG0000017114…</td><td>&quot;ATGAGTGAGTTGAAAGACTGCCCCTTGCAG…</td><td>&quot;ATGAGCGAGCTGAAGGACTGCCCCCTGCAG…</td><td>&quot;&quot;</td></tr><tr><td>&quot;hrt_hk_nt_seq_pulled_from_ense…</td><td>&quot;ENSG00000169020|ENSG0000016902…</td><td>&quot;ATGGTGCCACCGGTGCAGGTCTCTCCGCTC…</td><td>&quot;ATGGTGCCCCCCGTGCAGGTGAGCCCCCTG…</td><td>&quot;&quot;</td></tr><tr><td>&hellip;</td><td>&hellip;</td><td>&hellip;</td><td>&hellip;</td><td>&hellip;</td></tr><tr><td>&quot;ensembl_ccds_tx_nt_seq.fa&quot;</td><td>&quot;ENSG00000198300|ENSG0000019830…</td><td>&quot;ATGTACCAACCAGAAGACGACAACAACAGT…</td><td>&quot;ATGTACCAGCCCGAGGACGACAACAACAGC…</td><td>&quot;&quot;</td></tr><tr><td>&quot;ensembl_ccds_tx_nt_seq.fa&quot;</td><td>&quot;ENSG00000162727|ENSG0000016272…</td><td>&quot;ATGGCATGGGAGAATCAGACCTTCAACTCT…</td><td>&quot;ATGGCCTGGGAGAACCAGACCTTCAACAGC…</td><td>&quot;&quot;</td></tr><tr><td>&quot;ensembl_ccds_tx_nt_seq.fa&quot;</td><td>&quot;ENSG00000187514|ENSG0000018751…</td><td>&quot;ATGTCAGACGCAGCCGTAGACACCAGCTCC…</td><td>&quot;ATGAGCGACGCCGCCGTGGACACCAGCAGC…</td><td>&quot;&quot;</td></tr><tr><td>&quot;ensembl_ccds_tx_nt_seq.fa&quot;</td><td>&quot;ENSG00000145016|ENSG0000014501…</td><td>&quot;ATGCAGAGCATCCTCTATCACGGGCTTATC…</td><td>&quot;ATGCAGAGCATCCTGTACCACGGCCTGATC…</td><td>&quot;&quot;</td></tr><tr><td>&quot;ensembl_ccds_tx_nt_seq.fa&quot;</td><td>&quot;ENSG00000188674|ENSG0000018867…</td><td>&quot;ATGGAAAGAAGGCTCATAAAGAAGGAAATG…</td><td>&quot;ATGGAGAGAAGACTGATCAAGAAGGAGATG…</td><td>&quot;&quot;</td></tr></tbody></table></div>"
      ],
      "text/plain": [
       "shape: (5_536, 5)\n",
       "┌────────────────────┬────────────────────┬────────────────────┬───────────────────┬───────────────┐\n",
       "│ source             ┆ name               ┆ input_sequence     ┆ output_sequence   ┆ failed_reason │\n",
       "│ ---                ┆ ---                ┆ ---                ┆ ---               ┆ ---           │\n",
       "│ str                ┆ str                ┆ str                ┆ str               ┆ str           │\n",
       "╞════════════════════╪════════════════════╪════════════════════╪═══════════════════╪═══════════════╡\n",
       "│ hrt_hk_nt_seq_pull ┆ ENSG00000100387|EN ┆ ATGGCGGCAGCGATGGAT ┆ ATGGCCGCCGCCATGGA ┆               │\n",
       "│ ed_from_ense…      ┆ SG0000010038…      ┆ GTGGATACCCCG…      ┆ CGTGGACACCCCC…    ┆               │\n",
       "│ hrt_hk_nt_seq_pull ┆ ENSG00000111639|EN ┆ ATGGCAGGGAACCTCTTA ┆ ATGGCCGGCAACCTGCT ┆               │\n",
       "│ ed_from_ense…      ┆ SG0000011163…      ┆ TCCGGGGCAGGT…      ┆ GAGCGGCGCCGGC…    ┆               │\n",
       "│ hrt_hk_nt_seq_pull ┆ ENSG00000239789|EN ┆ ATGTCCGTAGTTCGCTCA ┆ ATGAGCGTGGTGAGAAG ┆               │\n",
       "│ ed_from_ense…      ┆ SG0000023978…      ┆ TCCGTCCATGCC…      ┆ CAGCGTGCACGCC…    ┆               │\n",
       "│ hrt_hk_nt_seq_pull ┆ ENSG00000171148|EN ┆ ATGAGTGAGTTGAAAGAC ┆ ATGAGCGAGCTGAAGGA ┆               │\n",
       "│ ed_from_ense…      ┆ SG0000017114…      ┆ TGCCCCTTGCAG…      ┆ CTGCCCCCTGCAG…    ┆               │\n",
       "│ hrt_hk_nt_seq_pull ┆ ENSG00000169020|EN ┆ ATGGTGCCACCGGTGCAG ┆ ATGGTGCCCCCCGTGCA ┆               │\n",
       "│ ed_from_ense…      ┆ SG0000016902…      ┆ GTCTCTCCGCTC…      ┆ GGTGAGCCCCCTG…    ┆               │\n",
       "│ …                  ┆ …                  ┆ …                  ┆ …                 ┆ …             │\n",
       "│ ensembl_ccds_tx_nt ┆ ENSG00000198300|EN ┆ ATGTACCAACCAGAAGAC ┆ ATGTACCAGCCCGAGGA ┆               │\n",
       "│ _seq.fa            ┆ SG0000019830…      ┆ GACAACAACAGT…      ┆ CGACAACAACAGC…    ┆               │\n",
       "│ ensembl_ccds_tx_nt ┆ ENSG00000162727|EN ┆ ATGGCATGGGAGAATCAG ┆ ATGGCCTGGGAGAACCA ┆               │\n",
       "│ _seq.fa            ┆ SG0000016272…      ┆ ACCTTCAACTCT…      ┆ GACCTTCAACAGC…    ┆               │\n",
       "│ ensembl_ccds_tx_nt ┆ ENSG00000187514|EN ┆ ATGTCAGACGCAGCCGTA ┆ ATGAGCGACGCCGCCGT ┆               │\n",
       "│ _seq.fa            ┆ SG0000018751…      ┆ GACACCAGCTCC…      ┆ GGACACCAGCAGC…    ┆               │\n",
       "│ ensembl_ccds_tx_nt ┆ ENSG00000145016|EN ┆ ATGCAGAGCATCCTCTAT ┆ ATGCAGAGCATCCTGTA ┆               │\n",
       "│ _seq.fa            ┆ SG0000014501…      ┆ CACGGGCTTATC…      ┆ CCACGGCCTGATC…    ┆               │\n",
       "│ ensembl_ccds_tx_nt ┆ ENSG00000188674|EN ┆ ATGGAAAGAAGGCTCATA ┆ ATGGAGAGAAGACTGAT ┆               │\n",
       "│ _seq.fa            ┆ SG0000018867…      ┆ AAGAAGGAAATG…      ┆ CAAGAAGGAGATG…    ┆               │\n",
       "└────────────────────┴────────────────────┴────────────────────┴───────────────────┴───────────────┘"
      ]
     },
     "execution_count": 11,
     "metadata": {},
     "output_type": "execute_result"
    }
   ],
   "source": [
    "df = pl.read_csv(OUTPUT_DIR / \"1-optimise.csv\")\n",
    "df"
   ]
  },
  {
   "cell_type": "code",
   "execution_count": 12,
   "id": "4f9987af-daf7-42f5-a25b-b464ad1a01f3",
   "metadata": {},
   "outputs": [
    {
     "ename": "NameError",
     "evalue": "name 'output_dir' is not defined",
     "output_type": "error",
     "traceback": [
      "\u001b[31m---------------------------------------------------------------------------\u001b[39m",
      "\u001b[31mNameError\u001b[39m                                 Traceback (most recent call last)",
      "\u001b[36mCell\u001b[39m\u001b[36m \u001b[39m\u001b[32mIn[12]\u001b[39m\u001b[32m, line 17\u001b[39m\n\u001b[32m      7\u001b[39m \u001b[38;5;28;01mwith\u001b[39;00m concurrent.futures.ProcessPoolExecutor() \u001b[38;5;28;01mas\u001b[39;00m executor:\n\u001b[32m      8\u001b[39m     df = df.with_columns(\n\u001b[32m      9\u001b[39m         input_mfe=pl.Series(\n\u001b[32m     10\u001b[39m             \u001b[38;5;28mlist\u001b[39m(executor.map(_mfe, df[\u001b[33m\"\u001b[39m\u001b[33minput_sequence\u001b[39m\u001b[33m\"\u001b[39m].to_list()))\n\u001b[32m   (...)\u001b[39m\u001b[32m     14\u001b[39m         ),\n\u001b[32m     15\u001b[39m     )\n\u001b[32m---> \u001b[39m\u001b[32m17\u001b[39m df.write_csv(\u001b[43moutput_dir\u001b[49m / \u001b[33m\"\u001b[39m\u001b[33m2.1-hydrate-mfe.csv\u001b[39m\u001b[33m\"\u001b[39m)\n",
      "\u001b[31mNameError\u001b[39m: name 'output_dir' is not defined"
     ]
    }
   ],
   "source": [
    "def _mfe(sequence: str) -> float | None:\n",
    "    if not sequence:\n",
    "        return None\n",
    "\n",
    "    return Sequence.from_string(sequence).minimum_free_energy.energy\n",
    "\n",
    "\n",
    "with concurrent.futures.ProcessPoolExecutor() as executor:\n",
    "    df = df.with_columns(\n",
    "        input_mfe=pl.Series(list(executor.map(_mfe, df[\"input_sequence\"].to_list()))),\n",
    "        output_mfe=pl.Series(list(executor.map(_mfe, df[\"output_sequence\"].to_list()))),\n",
    "    )\n",
    "\n",
    "df.write_csv(output_dir / \"2.1-hydrate-mfe.csv\")"
   ]
  },
  {
   "cell_type": "code",
   "execution_count": 13,
   "id": "286115a5-7d47-441d-9382-7fc272e152bb",
   "metadata": {},
   "outputs": [],
   "source": [
    "df.write_csv(OUTPUT_DIR / \"2.1-hydrate-mfe.csv\")"
   ]
  },
  {
   "cell_type": "code",
   "execution_count": null,
   "id": "77cfd4c9-af84-4d09-8558-53aa86e648ef",
   "metadata": {},
   "outputs": [],
   "source": []
  }
 ],
 "metadata": {
  "kernelspec": {
   "display_name": "Python 3 (ipykernel)",
   "language": "python",
   "name": "python3"
  },
  "language_info": {
   "codemirror_mode": {
    "name": "ipython",
    "version": 3
   },
   "file_extension": ".py",
   "mimetype": "text/x-python",
   "name": "python",
   "nbconvert_exporter": "python",
   "pygments_lexer": "ipython3",
   "version": "3.13.7"
  }
 },
 "nbformat": 4,
 "nbformat_minor": 5
}
