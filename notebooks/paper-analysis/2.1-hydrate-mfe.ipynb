{
 "cells": [
  {
   "cell_type": "code",
   "execution_count": 1,
   "id": "7f1c3f53-fa42-453b-8f52-2d9cef436201",
   "metadata": {},
   "outputs": [],
   "source": [
    "import concurrent.futures\n",
    "import pathlib\n",
    "import os\n",
    "\n",
    "import polars as pl\n",
    "import plotnine as p9\n",
    "\n",
    "from tools.sequence.sequence import Sequence"
   ]
  },
  {
   "cell_type": "code",
   "execution_count": 2,
   "id": "b8baf748-07bd-4f20-9537-1a6339a90a93",
   "metadata": {},
   "outputs": [
    {
     "data": {
      "text/html": [
       "<div><style>\n",
       ".dataframe > thead > tr,\n",
       ".dataframe > tbody > tr {\n",
       "  text-align: right;\n",
       "  white-space: pre-wrap;\n",
       "}\n",
       "</style>\n",
       "<small>shape: (50_713, 5)</small><table border=\"1\" class=\"dataframe\"><thead><tr><th>source</th><th>name</th><th>input_sequence</th><th>output_sequence</th><th>failed_reason</th></tr><tr><td>str</td><td>str</td><td>str</td><td>str</td><td>str</td></tr></thead><tbody><tr><td>&quot;hrt_hk_nt_seq_pulled_from_ense…</td><td>&quot;ENSG00000004059|ENSG0000000405…</td><td>&quot;ATGGGCCTCACCGTGTCCGCGCTCTTTTCG…</td><td>&quot;ATGGGCCTGACCGTGAGCGCCCTGTTCAGC…</td><td>&quot;&quot;</td></tr><tr><td>&quot;hrt_hk_nt_seq_pulled_from_ense…</td><td>&quot;ENSG00000003056|ENSG0000000305…</td><td>&quot;ATGTTCCCTTTCTACAGCTGCTGGAGGACT…</td><td>&quot;ATGTTCCCCTTCTACAGCTGCTGGAGAACC…</td><td>&quot;&quot;</td></tr><tr><td>&quot;hrt_hk_nt_seq_pulled_from_ense…</td><td>&quot;ENSG00000006451|ENSG0000000645…</td><td>&quot;ATGGCTGCAAATAAGCCCAAGGGTCAGAAT…</td><td>&quot;ATGGCCGCCAACAAGCCCAAGGGCCAGAAC…</td><td>&quot;&quot;</td></tr><tr><td>&quot;hrt_hk_nt_seq_pulled_from_ense…</td><td>&quot;ENSG00000007520|ENSG0000000752…</td><td>&quot;ATGGGCCGCAGGAGGGCAGCGCGCGGGCCG…</td><td>&quot;ATGGGAAGAAGAAGAGCCGCCAGAGGCCCC…</td><td>&quot;CAI &lt; 0.9&quot;</td></tr><tr><td>&quot;hrt_hk_nt_seq_pulled_from_ense…</td><td>&quot;ENSG00000004975|ENSG0000000497…</td><td>&quot;ATGGCGGGTAGCAGCACTGGGGGCGGTGGG…</td><td>&quot;ATGGCCGGATCTAGCACAGGCGGCGGAGGC…</td><td>&quot;&quot;</td></tr><tr><td>&hellip;</td><td>&hellip;</td><td>&hellip;</td><td>&hellip;</td><td>&hellip;</td></tr><tr><td>&quot;ensembl_ccds_tx_nt_seq.fa&quot;</td><td>&quot;ENSG00000173846|ENSG0000017384…</td><td>&quot;ATGGAGCCTGCCGCCGGTTTCCTGTCTCCG…</td><td>&quot;&quot;</td><td>&quot;GC content constraint not reso…</td></tr><tr><td>&quot;ensembl_ccds_tx_nt_seq.fa&quot;</td><td>&quot;ENSG00000142166|ENSG0000014216…</td><td>&quot;ATGGATAATTGGATAAAATTGTCTGGGTGT…</td><td>&quot;ATGGACAACTGGATCAAGCTGAGCGGCTGC…</td><td>&quot;&quot;</td></tr><tr><td>&quot;ensembl_ccds_tx_nt_seq.fa&quot;</td><td>&quot;ENSG00000180488|ENSG0000018048…</td><td>&quot;ATGTCAGACTGCTGCTCAGCGCCAGGCATC…</td><td>&quot;ATGAGCGACTGCTGCTCTGCCCCTGGCATT…</td><td>&quot;&quot;</td></tr><tr><td>&quot;ensembl_ccds_tx_nt_seq.fa&quot;</td><td>&quot;ENSG00000145216|ENSG0000014521…</td><td>&quot;ATGTCGGCCGGCGAGGTCGAGCGCCTAGTG…</td><td>&quot;ATGAGCGCTGGCGAAGTGGAAAGACTGGTG…</td><td>&quot;&quot;</td></tr><tr><td>&quot;ensembl_ccds_tx_nt_seq.fa&quot;</td><td>&quot;ENSG00000244414|ENSG0000024441…</td><td>&quot;ATGTGGCTCCTGGTCAGTGTAATTCTAATC…</td><td>&quot;ATGTGGCTGCTGGTGAGCGTGATCCTGATC…</td><td>&quot;&quot;</td></tr></tbody></table></div>"
      ],
      "text/plain": [
       "shape: (50_713, 5)\n",
       "┌───────────────────┬───────────────────┬───────────────────┬───────────────────┬──────────────────┐\n",
       "│ source            ┆ name              ┆ input_sequence    ┆ output_sequence   ┆ failed_reason    │\n",
       "│ ---               ┆ ---               ┆ ---               ┆ ---               ┆ ---              │\n",
       "│ str               ┆ str               ┆ str               ┆ str               ┆ str              │\n",
       "╞═══════════════════╪═══════════════════╪═══════════════════╪═══════════════════╪══════════════════╡\n",
       "│ hrt_hk_nt_seq_pul ┆ ENSG00000004059|E ┆ ATGGGCCTCACCGTGTC ┆ ATGGGCCTGACCGTGAG ┆                  │\n",
       "│ led_from_ense…    ┆ NSG0000000405…    ┆ CGCGCTCTTTTCG…    ┆ CGCCCTGTTCAGC…    ┆                  │\n",
       "│ hrt_hk_nt_seq_pul ┆ ENSG00000003056|E ┆ ATGTTCCCTTTCTACAG ┆ ATGTTCCCCTTCTACAG ┆                  │\n",
       "│ led_from_ense…    ┆ NSG0000000305…    ┆ CTGCTGGAGGACT…    ┆ CTGCTGGAGAACC…    ┆                  │\n",
       "│ hrt_hk_nt_seq_pul ┆ ENSG00000006451|E ┆ ATGGCTGCAAATAAGCC ┆ ATGGCCGCCAACAAGCC ┆                  │\n",
       "│ led_from_ense…    ┆ NSG0000000645…    ┆ CAAGGGTCAGAAT…    ┆ CAAGGGCCAGAAC…    ┆                  │\n",
       "│ hrt_hk_nt_seq_pul ┆ ENSG00000007520|E ┆ ATGGGCCGCAGGAGGGC ┆ ATGGGAAGAAGAAGAGC ┆ CAI < 0.9        │\n",
       "│ led_from_ense…    ┆ NSG0000000752…    ┆ AGCGCGCGGGCCG…    ┆ CGCCAGAGGCCCC…    ┆                  │\n",
       "│ hrt_hk_nt_seq_pul ┆ ENSG00000004975|E ┆ ATGGCGGGTAGCAGCAC ┆ ATGGCCGGATCTAGCAC ┆                  │\n",
       "│ led_from_ense…    ┆ NSG0000000497…    ┆ TGGGGGCGGTGGG…    ┆ AGGCGGCGGAGGC…    ┆                  │\n",
       "│ …                 ┆ …                 ┆ …                 ┆ …                 ┆ …                │\n",
       "│ ensembl_ccds_tx_n ┆ ENSG00000173846|E ┆ ATGGAGCCTGCCGCCGG ┆                   ┆ GC content       │\n",
       "│ t_seq.fa          ┆ NSG0000017384…    ┆ TTTCCTGTCTCCG…    ┆                   ┆ constraint not   │\n",
       "│                   ┆                   ┆                   ┆                   ┆ reso…            │\n",
       "│ ensembl_ccds_tx_n ┆ ENSG00000142166|E ┆ ATGGATAATTGGATAAA ┆ ATGGACAACTGGATCAA ┆                  │\n",
       "│ t_seq.fa          ┆ NSG0000014216…    ┆ ATTGTCTGGGTGT…    ┆ GCTGAGCGGCTGC…    ┆                  │\n",
       "│ ensembl_ccds_tx_n ┆ ENSG00000180488|E ┆ ATGTCAGACTGCTGCTC ┆ ATGAGCGACTGCTGCTC ┆                  │\n",
       "│ t_seq.fa          ┆ NSG0000018048…    ┆ AGCGCCAGGCATC…    ┆ TGCCCCTGGCATT…    ┆                  │\n",
       "│ ensembl_ccds_tx_n ┆ ENSG00000145216|E ┆ ATGTCGGCCGGCGAGGT ┆ ATGAGCGCTGGCGAAGT ┆                  │\n",
       "│ t_seq.fa          ┆ NSG0000014521…    ┆ CGAGCGCCTAGTG…    ┆ GGAAAGACTGGTG…    ┆                  │\n",
       "│ ensembl_ccds_tx_n ┆ ENSG00000244414|E ┆ ATGTGGCTCCTGGTCAG ┆ ATGTGGCTGCTGGTGAG ┆                  │\n",
       "│ t_seq.fa          ┆ NSG0000024441…    ┆ TGTAATTCTAATC…    ┆ CGTGATCCTGATC…    ┆                  │\n",
       "└───────────────────┴───────────────────┴───────────────────┴───────────────────┴──────────────────┘"
      ]
     },
     "execution_count": 2,
     "metadata": {},
     "output_type": "execute_result"
    }
   ],
   "source": [
    "df = pl.read_csv(pathlib.Path(os.getcwd()) / \"..\" / \"_analysis_data\" / \"output\" / \"1-optimised.csv\")\n",
    "df"
   ]
  },
  {
   "cell_type": "code",
   "execution_count": 4,
   "id": "4f9987af-daf7-42f5-a25b-b464ad1a01f3",
   "metadata": {},
   "outputs": [
    {
     "ename": "TypeError",
     "evalue": "'MinimumFreeEnergy' object is not callable",
     "output_type": "error",
     "traceback": [
      "\u001b[31m---------------------------------------------------------------------------\u001b[39m",
      "\u001b[31m_RemoteTraceback\u001b[39m                          Traceback (most recent call last)",
      "\u001b[31m_RemoteTraceback\u001b[39m: \n\"\"\"\nTraceback (most recent call last):\n  File \"/usr/lib/python3.13/concurrent/futures/process.py\", line 254, in _process_worker\n    r = call_item.fn(*call_item.args, **call_item.kwargs)\n  File \"/usr/lib/python3.13/concurrent/futures/process.py\", line 203, in _process_chunk\n    return [fn(*args) for args in chunk]\n            ~~^^^^^^^\n  File \"/tmp/ipykernel_1673177/748455557.py\", line 5, in _mfe\n    return Sequence.from_string(sequence).minimum_free_energy()\n           ~~~~~~~~~~~~~~~~~~~~~~~~~~~~~~~~~~~~~~~~~~~~~~~~~~^^\nTypeError: 'MinimumFreeEnergy' object is not callable\n\"\"\"",
      "\nThe above exception was the direct cause of the following exception:\n",
      "\u001b[31mTypeError\u001b[39m                                 Traceback (most recent call last)",
      "\u001b[36mCell\u001b[39m\u001b[36m \u001b[39m\u001b[32mIn[4]\u001b[39m\u001b[32m, line 9\u001b[39m\n\u001b[32m      7\u001b[39m \u001b[38;5;28;01mwith\u001b[39;00m concurrent.futures.ProcessPoolExecutor() \u001b[38;5;28;01mas\u001b[39;00m executor:\n\u001b[32m      8\u001b[39m     results = executor.map(_mfe, df[\u001b[33m\"\u001b[39m\u001b[33minput_sequence\u001b[39m\u001b[33m\"\u001b[39m].to_list())\n\u001b[32m----> \u001b[39m\u001b[32m9\u001b[39m     df[\u001b[33m\"\u001b[39m\u001b[33minput_mfe\u001b[39m\u001b[33m\"\u001b[39m] = \u001b[43mpl\u001b[49m\u001b[43m.\u001b[49m\u001b[43mSeries\u001b[49m\u001b[43m(\u001b[49m\u001b[43mresults\u001b[49m\u001b[43m)\u001b[49m\n\u001b[32m     11\u001b[39m \u001b[38;5;28;01mwith\u001b[39;00m concurrent.futures.ProcessPoolExecutor() \u001b[38;5;28;01mas\u001b[39;00m executor:\n\u001b[32m     12\u001b[39m     results = executor.map(_mfe, df[\u001b[33m\"\u001b[39m\u001b[33moutput_sequence\u001b[39m\u001b[33m\"\u001b[39m].to_list())\n",
      "\u001b[36mFile \u001b[39m\u001b[32m~/dev/base/mRNArchitect/.venv/lib/python3.13/site-packages/polars/series/series.py:352\u001b[39m, in \u001b[36mSeries.__init__\u001b[39m\u001b[34m(self, name, values, dtype, strict, nan_to_null)\u001b[39m\n\u001b[32m    349\u001b[39m     \u001b[38;5;28mself\u001b[39m._s = pandas_to_pyseries(name, values, dtype=dtype, strict=strict)\n\u001b[32m    351\u001b[39m \u001b[38;5;28;01melif\u001b[39;00m \u001b[38;5;129;01mnot\u001b[39;00m \u001b[38;5;28mhasattr\u001b[39m(values, \u001b[33m\"\u001b[39m\u001b[33m__arrow_c_stream__\u001b[39m\u001b[33m\"\u001b[39m) \u001b[38;5;129;01mand\u001b[39;00m _is_generator(values):\n\u001b[32m--> \u001b[39m\u001b[32m352\u001b[39m     \u001b[38;5;28mself\u001b[39m._s = \u001b[43miterable_to_pyseries\u001b[49m\u001b[43m(\u001b[49m\u001b[43mname\u001b[49m\u001b[43m,\u001b[49m\u001b[43m \u001b[49m\u001b[43mvalues\u001b[49m\u001b[43m,\u001b[49m\u001b[43m \u001b[49m\u001b[43mdtype\u001b[49m\u001b[43m=\u001b[49m\u001b[43mdtype\u001b[49m\u001b[43m,\u001b[49m\u001b[43m \u001b[49m\u001b[43mstrict\u001b[49m\u001b[43m=\u001b[49m\u001b[43mstrict\u001b[49m\u001b[43m)\u001b[49m\n\u001b[32m    354\u001b[39m \u001b[38;5;28;01melif\u001b[39;00m \u001b[38;5;28misinstance\u001b[39m(values, Series):\n\u001b[32m    355\u001b[39m     \u001b[38;5;28mself\u001b[39m._s = series_to_pyseries(\n\u001b[32m    356\u001b[39m         original_name, values, dtype=dtype, strict=strict\n\u001b[32m    357\u001b[39m     )\n",
      "\u001b[36mFile \u001b[39m\u001b[32m~/dev/base/mRNArchitect/.venv/lib/python3.13/site-packages/polars/_utils/construction/series.py:371\u001b[39m, in \u001b[36miterable_to_pyseries\u001b[39m\u001b[34m(name, values, dtype, chunk_size, strict)\u001b[39m\n\u001b[32m    369\u001b[39m series: Series = \u001b[38;5;28;01mNone\u001b[39;00m  \u001b[38;5;66;03m# type: ignore[assignment]\u001b[39;00m\n\u001b[32m    370\u001b[39m \u001b[38;5;28;01mwhile\u001b[39;00m \u001b[38;5;28;01mTrue\u001b[39;00m:\n\u001b[32m--> \u001b[39m\u001b[32m371\u001b[39m     slice_values = \u001b[38;5;28;43mlist\u001b[39;49m\u001b[43m(\u001b[49m\u001b[43mislice\u001b[49m\u001b[43m(\u001b[49m\u001b[43mvalues\u001b[49m\u001b[43m,\u001b[49m\u001b[43m \u001b[49m\u001b[43mchunk_size\u001b[49m\u001b[43m)\u001b[49m\u001b[43m)\u001b[49m\n\u001b[32m    372\u001b[39m     \u001b[38;5;28;01mif\u001b[39;00m \u001b[38;5;129;01mnot\u001b[39;00m slice_values:\n\u001b[32m    373\u001b[39m         \u001b[38;5;28;01mbreak\u001b[39;00m\n",
      "\u001b[36mFile \u001b[39m\u001b[32m/usr/lib/python3.13/concurrent/futures/process.py:617\u001b[39m, in \u001b[36m_chain_from_iterable_of_lists\u001b[39m\u001b[34m(iterable)\u001b[39m\n\u001b[32m    611\u001b[39m \u001b[38;5;28;01mdef\u001b[39;00m\u001b[38;5;250m \u001b[39m\u001b[34m_chain_from_iterable_of_lists\u001b[39m(iterable):\n\u001b[32m    612\u001b[39m \u001b[38;5;250m    \u001b[39m\u001b[33;03m\"\"\"\u001b[39;00m\n\u001b[32m    613\u001b[39m \u001b[33;03m    Specialized implementation of itertools.chain.from_iterable.\u001b[39;00m\n\u001b[32m    614\u001b[39m \u001b[33;03m    Each item in *iterable* should be a list.  This function is\u001b[39;00m\n\u001b[32m    615\u001b[39m \u001b[33;03m    careful not to keep references to yielded objects.\u001b[39;00m\n\u001b[32m    616\u001b[39m \u001b[33;03m    \"\"\"\u001b[39;00m\n\u001b[32m--> \u001b[39m\u001b[32m617\u001b[39m \u001b[43m    \u001b[49m\u001b[38;5;28;43;01mfor\u001b[39;49;00m\u001b[43m \u001b[49m\u001b[43melement\u001b[49m\u001b[43m \u001b[49m\u001b[38;5;129;43;01min\u001b[39;49;00m\u001b[43m \u001b[49m\u001b[43miterable\u001b[49m\u001b[43m:\u001b[49m\n\u001b[32m    618\u001b[39m \u001b[43m        \u001b[49m\u001b[43melement\u001b[49m\u001b[43m.\u001b[49m\u001b[43mreverse\u001b[49m\u001b[43m(\u001b[49m\u001b[43m)\u001b[49m\n\u001b[32m    619\u001b[39m \u001b[43m        \u001b[49m\u001b[38;5;28;43;01mwhile\u001b[39;49;00m\u001b[43m \u001b[49m\u001b[43melement\u001b[49m\u001b[43m:\u001b[49m\n",
      "\u001b[36mFile \u001b[39m\u001b[32m/usr/lib/python3.13/concurrent/futures/_base.py:619\u001b[39m, in \u001b[36mExecutor.map.<locals>.result_iterator\u001b[39m\u001b[34m()\u001b[39m\n\u001b[32m    616\u001b[39m \u001b[38;5;28;01mwhile\u001b[39;00m fs:\n\u001b[32m    617\u001b[39m     \u001b[38;5;66;03m# Careful not to keep a reference to the popped future\u001b[39;00m\n\u001b[32m    618\u001b[39m     \u001b[38;5;28;01mif\u001b[39;00m timeout \u001b[38;5;129;01mis\u001b[39;00m \u001b[38;5;28;01mNone\u001b[39;00m:\n\u001b[32m--> \u001b[39m\u001b[32m619\u001b[39m         \u001b[38;5;28;01myield\u001b[39;00m \u001b[43m_result_or_cancel\u001b[49m\u001b[43m(\u001b[49m\u001b[43mfs\u001b[49m\u001b[43m.\u001b[49m\u001b[43mpop\u001b[49m\u001b[43m(\u001b[49m\u001b[43m)\u001b[49m\u001b[43m)\u001b[49m\n\u001b[32m    620\u001b[39m     \u001b[38;5;28;01melse\u001b[39;00m:\n\u001b[32m    621\u001b[39m         \u001b[38;5;28;01myield\u001b[39;00m _result_or_cancel(fs.pop(), end_time - time.monotonic())\n",
      "\u001b[36mFile \u001b[39m\u001b[32m/usr/lib/python3.13/concurrent/futures/_base.py:317\u001b[39m, in \u001b[36m_result_or_cancel\u001b[39m\u001b[34m(***failed resolving arguments***)\u001b[39m\n\u001b[32m    315\u001b[39m \u001b[38;5;28;01mtry\u001b[39;00m:\n\u001b[32m    316\u001b[39m     \u001b[38;5;28;01mtry\u001b[39;00m:\n\u001b[32m--> \u001b[39m\u001b[32m317\u001b[39m         \u001b[38;5;28;01mreturn\u001b[39;00m \u001b[43mfut\u001b[49m\u001b[43m.\u001b[49m\u001b[43mresult\u001b[49m\u001b[43m(\u001b[49m\u001b[43mtimeout\u001b[49m\u001b[43m)\u001b[49m\n\u001b[32m    318\u001b[39m     \u001b[38;5;28;01mfinally\u001b[39;00m:\n\u001b[32m    319\u001b[39m         fut.cancel()\n",
      "\u001b[36mFile \u001b[39m\u001b[32m/usr/lib/python3.13/concurrent/futures/_base.py:449\u001b[39m, in \u001b[36mFuture.result\u001b[39m\u001b[34m(self, timeout)\u001b[39m\n\u001b[32m    447\u001b[39m     \u001b[38;5;28;01mraise\u001b[39;00m CancelledError()\n\u001b[32m    448\u001b[39m \u001b[38;5;28;01melif\u001b[39;00m \u001b[38;5;28mself\u001b[39m._state == FINISHED:\n\u001b[32m--> \u001b[39m\u001b[32m449\u001b[39m     \u001b[38;5;28;01mreturn\u001b[39;00m \u001b[38;5;28;43mself\u001b[39;49m\u001b[43m.\u001b[49m\u001b[43m__get_result\u001b[49m\u001b[43m(\u001b[49m\u001b[43m)\u001b[49m\n\u001b[32m    451\u001b[39m \u001b[38;5;28mself\u001b[39m._condition.wait(timeout)\n\u001b[32m    453\u001b[39m \u001b[38;5;28;01mif\u001b[39;00m \u001b[38;5;28mself\u001b[39m._state \u001b[38;5;129;01min\u001b[39;00m [CANCELLED, CANCELLED_AND_NOTIFIED]:\n",
      "\u001b[36mFile \u001b[39m\u001b[32m/usr/lib/python3.13/concurrent/futures/_base.py:401\u001b[39m, in \u001b[36mFuture.__get_result\u001b[39m\u001b[34m(self)\u001b[39m\n\u001b[32m    399\u001b[39m \u001b[38;5;28;01mif\u001b[39;00m \u001b[38;5;28mself\u001b[39m._exception \u001b[38;5;129;01mis\u001b[39;00m \u001b[38;5;129;01mnot\u001b[39;00m \u001b[38;5;28;01mNone\u001b[39;00m:\n\u001b[32m    400\u001b[39m     \u001b[38;5;28;01mtry\u001b[39;00m:\n\u001b[32m--> \u001b[39m\u001b[32m401\u001b[39m         \u001b[38;5;28;01mraise\u001b[39;00m \u001b[38;5;28mself\u001b[39m._exception\n\u001b[32m    402\u001b[39m     \u001b[38;5;28;01mfinally\u001b[39;00m:\n\u001b[32m    403\u001b[39m         \u001b[38;5;66;03m# Break a reference cycle with the exception in self._exception\u001b[39;00m\n\u001b[32m    404\u001b[39m         \u001b[38;5;28mself\u001b[39m = \u001b[38;5;28;01mNone\u001b[39;00m\n",
      "\u001b[31mTypeError\u001b[39m: 'MinimumFreeEnergy' object is not callable"
     ]
    }
   ],
   "source": [
    "def _mfe(sequence: str) -> float | None:\n",
    "    if not sequence:\n",
    "        return None\n",
    "\n",
    "    return Sequence.from_string(sequence).minimum_free_energy()\n",
    "\n",
    "with concurrent.futures.ProcessPoolExecutor() as executor:\n",
    "    results = executor.map(_mfe, df[\"input_sequence\"].to_list())\n",
    "    df[\"input_mfe\"] = pl.Series(results)\n",
    "\n",
    "with concurrent.futures.ProcessPoolExecutor() as executor:\n",
    "    results = executor.map(_mfe, df[\"output_sequence\"].to_list())\n",
    "    df[\"output_mfe\"] = pl.Series(results)\n",
    "\n",
    "df.write_csv(output_dir / \"2.1-hydrated-mfe.csv\")"
   ]
  },
  {
   "cell_type": "code",
   "execution_count": null,
   "id": "286115a5-7d47-441d-9382-7fc272e152bb",
   "metadata": {},
   "outputs": [],
   "source": []
  }
 ],
 "metadata": {
  "kernelspec": {
   "display_name": "Python 3 (ipykernel)",
   "language": "python",
   "name": "python3"
  },
  "language_info": {
   "codemirror_mode": {
    "name": "ipython",
    "version": 3
   },
   "file_extension": ".py",
   "mimetype": "text/x-python",
   "name": "python",
   "nbconvert_exporter": "python",
   "pygments_lexer": "ipython3",
   "version": "3.13.7"
  }
 },
 "nbformat": 4,
 "nbformat_minor": 5
}
