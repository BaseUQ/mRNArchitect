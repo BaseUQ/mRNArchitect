{
 "cells": [
  {
   "cell_type": "code",
   "execution_count": 5,
   "id": "7f1c3f53-fa42-453b-8f52-2d9cef436201",
   "metadata": {},
   "outputs": [],
   "source": [
    "import concurrent.futures\n",
    "import dataclasses\n",
    "import os\n",
    "import pathlib\n",
    "import random\n",
    "\n",
    "from dnachisel.builtin_specifications import EnforceGCContent, EnforceTranslation\n",
    "from dnachisel.builtin_specifications.codon_optimization import CodonOptimize\n",
    "from dnachisel.DnaOptimizationProblem import DnaOptimizationProblem, NoSolutionError\n",
    "import plotnine as p9\n",
    "import polars as pl\n",
    "\n",
    "from tools.organism import KAZUSA_HOMO_SAPIENS, load_organism_from_web\n",
    "from tools.sequence import Sequence\n",
    "from tools.utils.fasta import parse_fasta_file\n",
    "\n",
    "DATA_DIR = pathlib.Path(os.getcwd()) / \"..\" / \"..\" /\"_analysis\"\n",
    "OUTPUT_DIR = DATA_DIR / \"output\""
   ]
  },
  {
   "cell_type": "code",
   "execution_count": 13,
   "id": "b8baf748-07bd-4f20-9537-1a6339a90a93",
   "metadata": {},
   "outputs": [
    {
     "name": "stdout",
     "output_type": "stream",
     "text": [
      "5536\n"
     ]
    }
   ],
   "source": [
    "SUBSAMPLE_LIMIT = 2000\n",
    "\n",
    "@dataclasses.dataclass\n",
    "class InputSequence:\n",
    "    source: str\n",
    "    name: str\n",
    "    sequence: Sequence | None\n",
    "\n",
    "input_files = [path for path in DATA_DIR.iterdir() if path.is_file()]\n",
    "sequences: list[InputSequence] = []\n",
    "for file in input_files:\n",
    "    next_sequences = [\n",
    "        InputSequence(source=file.name, name=it[0], sequence=it[1])\n",
    "        for it in parse_fasta_file(file)\n",
    "    ]\n",
    "    if SUBSAMPLE_LIMIT and SUBSAMPLE_LIMIT < len(next_sequences):\n",
    "        next_sequences = random.sample(next_sequences, SUBSAMPLE_LIMIT)\n",
    "    sequences.extend(next_sequences)\n",
    "print(len(sequences))"
   ]
  },
  {
   "cell_type": "code",
   "execution_count": 17,
   "id": "27b7bf63-9d3e-42e1-b306-964b4d685678",
   "metadata": {},
   "outputs": [],
   "source": [
    "GC_MIN = 0.0\n",
    "GC_MAX = 0.70\n",
    "GC_WINDOW = 50\n",
    "MIN_CAI = 0.9\n",
    "ORGANISM = \"kazusa-9606\"  # human\n",
    "\n",
    "def _optimize(input_sequence: InputSequence, organism):\n",
    "    if not input_sequence.sequence:\n",
    "        return input_sequence, None, \"Invalid sequence.\"\n",
    "\n",
    "    if len(input_sequence.sequence) % 3 != 0:\n",
    "        return input_sequence, None, \"Sequence out of frame (length not multiple of 3).\"\n",
    "    \n",
    "    problem = DnaOptimizationProblem(\n",
    "        sequence=input_sequence.sequence.nucleic_acid_sequence,\n",
    "        constraints=[\n",
    "            EnforceGCContent(mini=GC_MIN, maxi=GC_MAX, window=GC_WINDOW),\n",
    "            EnforceTranslation(),\n",
    "        ],\n",
    "        objectives=[\n",
    "            CodonOptimize(\n",
    "                codon_usage_table=organism.to_dnachisel_dict(),\n",
    "                method=\"use_best_codon\"\n",
    "            )\n",
    "        ],\n",
    "        logger=None,\n",
    "    )\n",
    "    problem.max_random_iters = 20_000\n",
    "\n",
    "    output_sequence = None\n",
    "    failed_reason = None\n",
    "    try:\n",
    "        problem.resolve_constraints()\n",
    "        problem.optimize()\n",
    "        output_sequence = Sequence.from_string(problem.sequence, \"nucleic-acid\")\n",
    "        if output_sequence.codon_adaptation_index(organism) < MIN_CAI:\n",
    "            failed_reason = f\"CAI < {MIN_CAI}\"\n",
    "    except NoSolutionError:\n",
    "        failed_reason = \"GC content constraint not resolvable.\"\n",
    "\n",
    "    return input_sequence, output_sequence, failed_reason\n",
    "\n",
    "organism = load_organism_from_web(ORGANISM)\n",
    "with concurrent.futures.ProcessPoolExecutor() as executor:\n",
    "    results = list(\n",
    "        executor.map(\n",
    "            _optimize,\n",
    "            sequences,\n",
    "            [organism for _ in sequences],\n",
    "        )\n",
    "    )"
   ]
  },
  {
   "cell_type": "code",
   "execution_count": 18,
   "id": "67615a88-f878-41c4-a9ac-89cef999e344",
   "metadata": {},
   "outputs": [
    {
     "data": {
      "text/html": [
       "<div><style>\n",
       ".dataframe > thead > tr,\n",
       ".dataframe > tbody > tr {\n",
       "  text-align: right;\n",
       "  white-space: pre-wrap;\n",
       "}\n",
       "</style>\n",
       "<small>shape: (5_536, 5)</small><table border=\"1\" class=\"dataframe\"><thead><tr><th>source</th><th>name</th><th>input_sequence</th><th>output_sequence</th><th>failed_reason</th></tr><tr><td>str</td><td>str</td><td>str</td><td>str</td><td>str</td></tr></thead><tbody><tr><td>&quot;ena_cancer_vaccine_seq.fa&quot;</td><td>&quot;ENA|DD349577|DD349577.1&quot;</td><td>&quot;ATGGACTGGACCTGGAGGGTCTTCTTCTTG…</td><td>&quot;&quot;</td><td>&quot;Sequence out of frame (length …</td></tr><tr><td>&quot;ena_cancer_vaccine_seq.fa&quot;</td><td>&quot;ENA|DD349576|DD349576.1&quot;</td><td>&quot;ATGGGATGGAGCTGTATCATCCTCTCCTTG…</td><td>&quot;&quot;</td><td>&quot;Sequence out of frame (length …</td></tr><tr><td>&quot;ena_cancer_vaccine_seq.fa&quot;</td><td>&quot;ENA|DD349575|DD349575.1&quot;</td><td>&quot;TACCCATACGACGTCCCAGACTACGCTGGT…</td><td>&quot;TACCCCTACGACGTGCCTGACTACGCTGGA…</td><td>&quot;&quot;</td></tr><tr><td>&quot;ena_cancer_vaccine_seq.fa&quot;</td><td>&quot;ENA|DD349578|DD349578.1&quot;</td><td>&quot;ATGGACTGGACCTGGAGGGTCTTCTTCTTG…</td><td>&quot;&quot;</td><td>&quot;Sequence out of frame (length …</td></tr><tr><td>&quot;ena_cancer_vaccine_seq.fa&quot;</td><td>&quot;ENA|DD349569|DD349569.1&quot;</td><td>&quot;AACAGCGAGGCCTGCCGGGACGGCCTTCGG…</td><td>&quot;AACAGCGAGGCCTGCAGAGACGGCCTGAGA…</td><td>&quot;&quot;</td></tr><tr><td>&hellip;</td><td>&hellip;</td><td>&hellip;</td><td>&hellip;</td><td>&hellip;</td></tr><tr><td>&quot;iedb_antigen_aa_seqs.fa&quot;</td><td>&quot;sp|Q8IX19|MCEM1_HUMAN Mast cel…</td><td>&quot;ATGGAGGTGGAGGAGATCTACAAGCACCAG…</td><td>&quot;ATGGAGGTGGAGGAGATCTACAAGCACCAG…</td><td>&quot;&quot;</td></tr><tr><td>&quot;iedb_antigen_aa_seqs.fa&quot;</td><td>&quot;sp|Q9D287|SPF27_MOUSE Pre-mRNA…</td><td>&quot;ATGGCCGGCACCGGCCTGGTGGCCGGCGAG…</td><td>&quot;ATGGCCGGAACAGGCCTGGTGGCTGGCGAG…</td><td>&quot;&quot;</td></tr><tr><td>&quot;iedb_antigen_aa_seqs.fa&quot;</td><td>&quot;tr|Q4CN05|Q4CN05_TRYCC Trans-s…</td><td>&quot;ATGAGCAGACACCTGTTCTACAGCGCCGTG…</td><td>&quot;ATGAGCAGACACCTGTTCTACAGCGCCGTG…</td><td>&quot;&quot;</td></tr><tr><td>&quot;iedb_antigen_aa_seqs.fa&quot;</td><td>&quot;tr|Q5NG75|Q5NG75_FRATT Amino-a…</td><td>&quot;ATGGACAACAACCAGGACAAGCTGAAGAGA…</td><td>&quot;ATGGACAACAACCAGGACAAGCTGAAGAGA…</td><td>&quot;&quot;</td></tr><tr><td>&quot;iedb_antigen_aa_seqs.fa&quot;</td><td>&quot;sp|P14902|I23O1_HUMAN Indoleam…</td><td>&quot;ATGGCCCACGCCATGGAGAACAGCTGGACC…</td><td>&quot;ATGGCCCACGCCATGGAGAACAGCTGGACC…</td><td>&quot;&quot;</td></tr></tbody></table></div>"
      ],
      "text/plain": [
       "shape: (5_536, 5)\n",
       "┌───────────────────┬───────────────────┬───────────────────┬───────────────────┬──────────────────┐\n",
       "│ source            ┆ name              ┆ input_sequence    ┆ output_sequence   ┆ failed_reason    │\n",
       "│ ---               ┆ ---               ┆ ---               ┆ ---               ┆ ---              │\n",
       "│ str               ┆ str               ┆ str               ┆ str               ┆ str              │\n",
       "╞═══════════════════╪═══════════════════╪═══════════════════╪═══════════════════╪══════════════════╡\n",
       "│ ena_cancer_vaccin ┆ ENA|DD349577|DD34 ┆ ATGGACTGGACCTGGAG ┆                   ┆ Sequence out of  │\n",
       "│ e_seq.fa          ┆ 9577.1            ┆ GGTCTTCTTCTTG…    ┆                   ┆ frame (length …  │\n",
       "│ ena_cancer_vaccin ┆ ENA|DD349576|DD34 ┆ ATGGGATGGAGCTGTAT ┆                   ┆ Sequence out of  │\n",
       "│ e_seq.fa          ┆ 9576.1            ┆ CATCCTCTCCTTG…    ┆                   ┆ frame (length …  │\n",
       "│ ena_cancer_vaccin ┆ ENA|DD349575|DD34 ┆ TACCCATACGACGTCCC ┆ TACCCCTACGACGTGCC ┆                  │\n",
       "│ e_seq.fa          ┆ 9575.1            ┆ AGACTACGCTGGT…    ┆ TGACTACGCTGGA…    ┆                  │\n",
       "│ ena_cancer_vaccin ┆ ENA|DD349578|DD34 ┆ ATGGACTGGACCTGGAG ┆                   ┆ Sequence out of  │\n",
       "│ e_seq.fa          ┆ 9578.1            ┆ GGTCTTCTTCTTG…    ┆                   ┆ frame (length …  │\n",
       "│ ena_cancer_vaccin ┆ ENA|DD349569|DD34 ┆ AACAGCGAGGCCTGCCG ┆ AACAGCGAGGCCTGCAG ┆                  │\n",
       "│ e_seq.fa          ┆ 9569.1            ┆ GGACGGCCTTCGG…    ┆ AGACGGCCTGAGA…    ┆                  │\n",
       "│ …                 ┆ …                 ┆ …                 ┆ …                 ┆ …                │\n",
       "│ iedb_antigen_aa_s ┆ sp|Q8IX19|MCEM1_H ┆ ATGGAGGTGGAGGAGAT ┆ ATGGAGGTGGAGGAGAT ┆                  │\n",
       "│ eqs.fa            ┆ UMAN Mast cel…    ┆ CTACAAGCACCAG…    ┆ CTACAAGCACCAG…    ┆                  │\n",
       "│ iedb_antigen_aa_s ┆ sp|Q9D287|SPF27_M ┆ ATGGCCGGCACCGGCCT ┆ ATGGCCGGAACAGGCCT ┆                  │\n",
       "│ eqs.fa            ┆ OUSE Pre-mRNA…    ┆ GGTGGCCGGCGAG…    ┆ GGTGGCTGGCGAG…    ┆                  │\n",
       "│ iedb_antigen_aa_s ┆ tr|Q4CN05|Q4CN05_ ┆ ATGAGCAGACACCTGTT ┆ ATGAGCAGACACCTGTT ┆                  │\n",
       "│ eqs.fa            ┆ TRYCC Trans-s…    ┆ CTACAGCGCCGTG…    ┆ CTACAGCGCCGTG…    ┆                  │\n",
       "│ iedb_antigen_aa_s ┆ tr|Q5NG75|Q5NG75_ ┆ ATGGACAACAACCAGGA ┆ ATGGACAACAACCAGGA ┆                  │\n",
       "│ eqs.fa            ┆ FRATT Amino-a…    ┆ CAAGCTGAAGAGA…    ┆ CAAGCTGAAGAGA…    ┆                  │\n",
       "│ iedb_antigen_aa_s ┆ sp|P14902|I23O1_H ┆ ATGGCCCACGCCATGGA ┆ ATGGCCCACGCCATGGA ┆                  │\n",
       "│ eqs.fa            ┆ UMAN Indoleam…    ┆ GAACAGCTGGACC…    ┆ GAACAGCTGGACC…    ┆                  │\n",
       "└───────────────────┴───────────────────┴───────────────────┴───────────────────┴──────────────────┘"
      ]
     },
     "execution_count": 18,
     "metadata": {},
     "output_type": "execute_result"
    }
   ],
   "source": [
    "df = pl.DataFrame([\n",
    "    {\n",
    "        \"source\": it[0].source,\n",
    "        \"name\": it[0].name,\n",
    "        \"input_sequence\": str(it[0].sequence) if it[0].sequence else \"\",\n",
    "        \"output_sequence\": str(it[1]) if it[1] else \"\",\n",
    "        \"failed_reason\": it[2] if it[2] else \"\",\n",
    "    }\n",
    "    for it in results\n",
    "])\n",
    "df.write_csv(OUTPUT_DIR / \"1-optimise.csv\")\n",
    "df"
   ]
  }
 ],
 "metadata": {
  "kernelspec": {
   "display_name": "Python 3 (ipykernel)",
   "language": "python",
   "name": "python3"
  },
  "language_info": {
   "codemirror_mode": {
    "name": "ipython",
    "version": 3
   },
   "file_extension": ".py",
   "mimetype": "text/x-python",
   "name": "python",
   "nbconvert_exporter": "python",
   "pygments_lexer": "ipython3",
   "version": "3.13.7"
  }
 },
 "nbformat": 4,
 "nbformat_minor": 5
}
