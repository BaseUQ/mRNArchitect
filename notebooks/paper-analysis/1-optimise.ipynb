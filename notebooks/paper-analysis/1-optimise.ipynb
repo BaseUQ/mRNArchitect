{
 "cells": [
  {
   "cell_type": "code",
   "execution_count": 20,
   "id": "7f1c3f53-fa42-453b-8f52-2d9cef436201",
   "metadata": {},
   "outputs": [],
   "source": [
    "import concurrent.futures\n",
    "import dataclasses\n",
    "import os\n",
    "import pathlib\n",
    "import random\n",
    "\n",
    "from dnachisel.builtin_specifications import EnforceGCContent, EnforceTranslation\n",
    "from dnachisel.builtin_specifications.codon_optimization import CodonOptimize\n",
    "from dnachisel.DnaOptimizationProblem import DnaOptimizationProblem, NoSolutionError\n",
    "import plotnine as p9\n",
    "import polars as pl\n",
    "\n",
    "from tools.organism import KAZUSA_HOMO_SAPIENS, load_organism_from_web\n",
    "from tools.sequence import Sequence\n",
    "from tools.utils.fasta import parse_fasta_file\n",
    "\n",
    "DATA_DIR = pathlib.Path(os.getcwd()) / \"..\" /\"_analysis\"\n",
    "OUTPUT_DIR = DATA_DIR / \"output\""
   ]
  },
  {
   "cell_type": "code",
   "execution_count": 21,
   "id": "b8baf748-07bd-4f20-9537-1a6339a90a93",
   "metadata": {},
   "outputs": [
    {
     "name": "stdout",
     "output_type": "stream",
     "text": [
      "5536\n"
     ]
    }
   ],
   "source": [
    "SUBSAMPLE_LIMIT = 2000\n",
    "\n",
    "@dataclasses.dataclass\n",
    "class InputSequence:\n",
    "    source: str\n",
    "    name: str\n",
    "    sequence: Sequence | None\n",
    "\n",
    "input_files = [path for path in DATA_DIR.iterdir() if path.is_file()]\n",
    "sequences: list[InputSequence] = []\n",
    "for file in input_files:\n",
    "    next_sequences = [\n",
    "        InputSequence(source=file.name, name=it[0], sequence=it[1])\n",
    "        for it in parse_fasta_file(file)\n",
    "    ]\n",
    "    if SUBSAMPLE_LIMIT and SUBSAMPLE_LIMIT < len(next_sequences):\n",
    "        next_sequences = random.sample(next_sequences, SUBSAMPLE_LIMIT)\n",
    "    sequences.extend(next_sequences)\n",
    "print(len(sequences))"
   ]
  },
  {
   "cell_type": "code",
   "execution_count": 22,
   "id": "27b7bf63-9d3e-42e1-b306-964b4d685678",
   "metadata": {},
   "outputs": [],
   "source": [
    "GC_MIN = 0.0\n",
    "GC_MAX = 0.70\n",
    "GC_WINDOW = 100\n",
    "MIN_CAI = 0.9\n",
    "ORGANISM = \"kazusa-9606\"  # human\n",
    "\n",
    "def _optimize(input_sequence: InputSequence, organism):\n",
    "    if not input_sequence.sequence:\n",
    "        return input_sequence, None, \"Invalid sequence.\"\n",
    "\n",
    "    if len(input_sequence.sequence) % 3 != 0:\n",
    "        return input_sequence, None, \"Sequence out of frame (length not multiple of 3).\"\n",
    "    \n",
    "    problem = DnaOptimizationProblem(\n",
    "        sequence=input_sequence.sequence.nucleic_acid_sequence,\n",
    "        constraints=[\n",
    "            EnforceGCContent(mini=GC_MIN, maxi=GC_MAX, window=GC_WINDOW),\n",
    "            EnforceTranslation(),\n",
    "        ],\n",
    "        objectives=[\n",
    "            CodonOptimize(\n",
    "                codon_usage_table=organism.to_dnachisel_dict(),\n",
    "                method=\"use_best_codon\"\n",
    "            )\n",
    "        ],\n",
    "        logger=None,\n",
    "    )\n",
    "    problem.max_random_iters = 20_000\n",
    "\n",
    "    output_sequence = None\n",
    "    failed_reason = None\n",
    "    try:\n",
    "        problem.resolve_constraints()\n",
    "        problem.optimize()\n",
    "        output_sequence = Sequence.from_string(problem.sequence, \"nucleic-acid\")\n",
    "        if output_sequence.codon_adaptation_index(organism) < MIN_CAI:\n",
    "            failed_reason = f\"CAI < {MIN_CAI}\"\n",
    "    except NoSolutionError:\n",
    "        failed_reason = \"GC content constraint not resolvable.\"\n",
    "\n",
    "    return input_sequence, output_sequence, failed_reason\n",
    "\n",
    "organism = load_organism_from_web(ORGANISM)\n",
    "with concurrent.futures.ProcessPoolExecutor() as executor:\n",
    "    results = list(\n",
    "        executor.map(\n",
    "            _optimize,\n",
    "            sequences,\n",
    "            [organism for _ in sequences],\n",
    "        )\n",
    "    )"
   ]
  },
  {
   "cell_type": "code",
   "execution_count": 23,
   "id": "67615a88-f878-41c4-a9ac-89cef999e344",
   "metadata": {},
   "outputs": [
    {
     "data": {
      "text/html": [
       "<div><style>\n",
       ".dataframe > thead > tr,\n",
       ".dataframe > tbody > tr {\n",
       "  text-align: right;\n",
       "  white-space: pre-wrap;\n",
       "}\n",
       "</style>\n",
       "<small>shape: (5_536, 5)</small><table border=\"1\" class=\"dataframe\"><thead><tr><th>source</th><th>name</th><th>input_sequence</th><th>output_sequence</th><th>failed_reason</th></tr><tr><td>str</td><td>str</td><td>str</td><td>str</td><td>str</td></tr></thead><tbody><tr><td>&quot;hrt_hk_nt_seq_pulled_from_ense…</td><td>&quot;ENSG00000100387|ENSG0000010038…</td><td>&quot;ATGGCGGCAGCGATGGATGTGGATACCCCG…</td><td>&quot;ATGGCCGCCGCCATGGACGTGGACACCCCC…</td><td>&quot;&quot;</td></tr><tr><td>&quot;hrt_hk_nt_seq_pulled_from_ense…</td><td>&quot;ENSG00000111639|ENSG0000011163…</td><td>&quot;ATGGCAGGGAACCTCTTATCCGGGGCAGGT…</td><td>&quot;ATGGCCGGCAACCTGCTGAGCGGCGCCGGC…</td><td>&quot;&quot;</td></tr><tr><td>&quot;hrt_hk_nt_seq_pulled_from_ense…</td><td>&quot;ENSG00000239789|ENSG0000023978…</td><td>&quot;ATGTCCGTAGTTCGCTCATCCGTCCATGCC…</td><td>&quot;ATGAGCGTGGTGAGAAGCAGCGTGCACGCC…</td><td>&quot;&quot;</td></tr><tr><td>&quot;hrt_hk_nt_seq_pulled_from_ense…</td><td>&quot;ENSG00000171148|ENSG0000017114…</td><td>&quot;ATGAGTGAGTTGAAAGACTGCCCCTTGCAG…</td><td>&quot;ATGAGCGAGCTGAAGGACTGCCCCCTGCAG…</td><td>&quot;&quot;</td></tr><tr><td>&quot;hrt_hk_nt_seq_pulled_from_ense…</td><td>&quot;ENSG00000169020|ENSG0000016902…</td><td>&quot;ATGGTGCCACCGGTGCAGGTCTCTCCGCTC…</td><td>&quot;ATGGTGCCCCCCGTGCAGGTGAGCCCCCTG…</td><td>&quot;&quot;</td></tr><tr><td>&hellip;</td><td>&hellip;</td><td>&hellip;</td><td>&hellip;</td><td>&hellip;</td></tr><tr><td>&quot;ensembl_ccds_tx_nt_seq.fa&quot;</td><td>&quot;ENSG00000198300|ENSG0000019830…</td><td>&quot;ATGTACCAACCAGAAGACGACAACAACAGT…</td><td>&quot;ATGTACCAGCCCGAGGACGACAACAACAGC…</td><td>&quot;&quot;</td></tr><tr><td>&quot;ensembl_ccds_tx_nt_seq.fa&quot;</td><td>&quot;ENSG00000162727|ENSG0000016272…</td><td>&quot;ATGGCATGGGAGAATCAGACCTTCAACTCT…</td><td>&quot;ATGGCCTGGGAGAACCAGACCTTCAACAGC…</td><td>&quot;&quot;</td></tr><tr><td>&quot;ensembl_ccds_tx_nt_seq.fa&quot;</td><td>&quot;ENSG00000187514|ENSG0000018751…</td><td>&quot;ATGTCAGACGCAGCCGTAGACACCAGCTCC…</td><td>&quot;ATGAGCGACGCCGCCGTGGACACCAGCAGC…</td><td>&quot;&quot;</td></tr><tr><td>&quot;ensembl_ccds_tx_nt_seq.fa&quot;</td><td>&quot;ENSG00000145016|ENSG0000014501…</td><td>&quot;ATGCAGAGCATCCTCTATCACGGGCTTATC…</td><td>&quot;ATGCAGAGCATCCTGTACCACGGCCTGATC…</td><td>&quot;&quot;</td></tr><tr><td>&quot;ensembl_ccds_tx_nt_seq.fa&quot;</td><td>&quot;ENSG00000188674|ENSG0000018867…</td><td>&quot;ATGGAAAGAAGGCTCATAAAGAAGGAAATG…</td><td>&quot;ATGGAGAGAAGACTGATCAAGAAGGAGATG…</td><td>&quot;&quot;</td></tr></tbody></table></div>"
      ],
      "text/plain": [
       "shape: (5_536, 5)\n",
       "┌────────────────────┬────────────────────┬────────────────────┬───────────────────┬───────────────┐\n",
       "│ source             ┆ name               ┆ input_sequence     ┆ output_sequence   ┆ failed_reason │\n",
       "│ ---                ┆ ---                ┆ ---                ┆ ---               ┆ ---           │\n",
       "│ str                ┆ str                ┆ str                ┆ str               ┆ str           │\n",
       "╞════════════════════╪════════════════════╪════════════════════╪═══════════════════╪═══════════════╡\n",
       "│ hrt_hk_nt_seq_pull ┆ ENSG00000100387|EN ┆ ATGGCGGCAGCGATGGAT ┆ ATGGCCGCCGCCATGGA ┆               │\n",
       "│ ed_from_ense…      ┆ SG0000010038…      ┆ GTGGATACCCCG…      ┆ CGTGGACACCCCC…    ┆               │\n",
       "│ hrt_hk_nt_seq_pull ┆ ENSG00000111639|EN ┆ ATGGCAGGGAACCTCTTA ┆ ATGGCCGGCAACCTGCT ┆               │\n",
       "│ ed_from_ense…      ┆ SG0000011163…      ┆ TCCGGGGCAGGT…      ┆ GAGCGGCGCCGGC…    ┆               │\n",
       "│ hrt_hk_nt_seq_pull ┆ ENSG00000239789|EN ┆ ATGTCCGTAGTTCGCTCA ┆ ATGAGCGTGGTGAGAAG ┆               │\n",
       "│ ed_from_ense…      ┆ SG0000023978…      ┆ TCCGTCCATGCC…      ┆ CAGCGTGCACGCC…    ┆               │\n",
       "│ hrt_hk_nt_seq_pull ┆ ENSG00000171148|EN ┆ ATGAGTGAGTTGAAAGAC ┆ ATGAGCGAGCTGAAGGA ┆               │\n",
       "│ ed_from_ense…      ┆ SG0000017114…      ┆ TGCCCCTTGCAG…      ┆ CTGCCCCCTGCAG…    ┆               │\n",
       "│ hrt_hk_nt_seq_pull ┆ ENSG00000169020|EN ┆ ATGGTGCCACCGGTGCAG ┆ ATGGTGCCCCCCGTGCA ┆               │\n",
       "│ ed_from_ense…      ┆ SG0000016902…      ┆ GTCTCTCCGCTC…      ┆ GGTGAGCCCCCTG…    ┆               │\n",
       "│ …                  ┆ …                  ┆ …                  ┆ …                 ┆ …             │\n",
       "│ ensembl_ccds_tx_nt ┆ ENSG00000198300|EN ┆ ATGTACCAACCAGAAGAC ┆ ATGTACCAGCCCGAGGA ┆               │\n",
       "│ _seq.fa            ┆ SG0000019830…      ┆ GACAACAACAGT…      ┆ CGACAACAACAGC…    ┆               │\n",
       "│ ensembl_ccds_tx_nt ┆ ENSG00000162727|EN ┆ ATGGCATGGGAGAATCAG ┆ ATGGCCTGGGAGAACCA ┆               │\n",
       "│ _seq.fa            ┆ SG0000016272…      ┆ ACCTTCAACTCT…      ┆ GACCTTCAACAGC…    ┆               │\n",
       "│ ensembl_ccds_tx_nt ┆ ENSG00000187514|EN ┆ ATGTCAGACGCAGCCGTA ┆ ATGAGCGACGCCGCCGT ┆               │\n",
       "│ _seq.fa            ┆ SG0000018751…      ┆ GACACCAGCTCC…      ┆ GGACACCAGCAGC…    ┆               │\n",
       "│ ensembl_ccds_tx_nt ┆ ENSG00000145016|EN ┆ ATGCAGAGCATCCTCTAT ┆ ATGCAGAGCATCCTGTA ┆               │\n",
       "│ _seq.fa            ┆ SG0000014501…      ┆ CACGGGCTTATC…      ┆ CCACGGCCTGATC…    ┆               │\n",
       "│ ensembl_ccds_tx_nt ┆ ENSG00000188674|EN ┆ ATGGAAAGAAGGCTCATA ┆ ATGGAGAGAAGACTGAT ┆               │\n",
       "│ _seq.fa            ┆ SG0000018867…      ┆ AAGAAGGAAATG…      ┆ CAAGAAGGAGATG…    ┆               │\n",
       "└────────────────────┴────────────────────┴────────────────────┴───────────────────┴───────────────┘"
      ]
     },
     "execution_count": 23,
     "metadata": {},
     "output_type": "execute_result"
    }
   ],
   "source": [
    "df = pl.DataFrame([\n",
    "    {\n",
    "        \"source\": it[0].source,\n",
    "        \"name\": it[0].name,\n",
    "        \"input_sequence\": str(it[0].sequence) if it[0].sequence else \"\",\n",
    "        \"output_sequence\": str(it[1]) if it[1] else \"\",\n",
    "        \"failed_reason\": it[2] if it[2] else \"\",\n",
    "    }\n",
    "    for it in results\n",
    "])\n",
    "df.write_csv(OUTPUT_DIR / \"1-optimise.csv\")\n",
    "df"
   ]
  },
  {
   "cell_type": "code",
   "execution_count": null,
   "id": "a3e736a9-cd88-45ab-9975-9d91ce574c20",
   "metadata": {},
   "outputs": [],
   "source": []
  }
 ],
 "metadata": {
  "kernelspec": {
   "display_name": "Python 3 (ipykernel)",
   "language": "python",
   "name": "python3"
  },
  "language_info": {
   "codemirror_mode": {
    "name": "ipython",
    "version": 3
   },
   "file_extension": ".py",
   "mimetype": "text/x-python",
   "name": "python",
   "nbconvert_exporter": "python",
   "pygments_lexer": "ipython3",
   "version": "3.13.7"
  }
 },
 "nbformat": 4,
 "nbformat_minor": 5
}
