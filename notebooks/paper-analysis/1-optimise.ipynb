{
 "cells": [
  {
   "cell_type": "code",
   "execution_count": 1,
   "id": "7f1c3f53-fa42-453b-8f52-2d9cef436201",
   "metadata": {},
   "outputs": [],
   "source": [
    "import concurrent.futures\n",
    "import os\n",
    "\n",
    "from dnachisel.builtin_specifications import EnforceGCContent, EnforceTranslation\n",
    "from dnachisel.builtin_specifications.codon_optimization import CodonOptimize\n",
    "from dnachisel.DnaOptimizationProblem import DnaOptimizationProblem, NoSolutionError\n",
    "import plotnine as p9\n",
    "import polars as pl\n",
    "\n",
    "from tools.organism import KAZUSA_HOMO_SAPIENS, load_organism_from_web\n",
    "from tools.sequence import Sequence\n",
    "from tools.utils.fasta import parse_fasta_file"
   ]
  },
  {
   "cell_type": "code",
   "execution_count": 4,
   "id": "b8baf748-07bd-4f20-9537-1a6339a90a93",
   "metadata": {},
   "outputs": [
    {
     "name": "stdout",
     "output_type": "stream",
     "text": [
      "50713\n"
     ]
    }
   ],
   "source": [
    "import dataclasses\n",
    "import pathlib\n",
    "\n",
    "@dataclasses.dataclass\n",
    "class InputSequence:\n",
    "    source: str\n",
    "    name: str\n",
    "    sequence: Sequence | None\n",
    "\n",
    "data_dir = pathlib.Path(os.getcwd()) / \"..\" / \"_analysis_data\"\n",
    "output_dir = data_dir / \"output\"\n",
    "input_files = [path for path in data_dir.iterdir() if path.is_file()]\n",
    "sequences: list[InputSequence] = []\n",
    "for file in input_files:\n",
    "    for name, sequence in parse_fasta_file(file):\n",
    "        sequences.append(InputSequence(source=file.name, name=name, sequence=sequence))\n",
    "print(len(sequences))"
   ]
  },
  {
   "cell_type": "code",
   "execution_count": 8,
   "id": "27b7bf63-9d3e-42e1-b306-964b4d685678",
   "metadata": {},
   "outputs": [],
   "source": [
    "GC_MIN = 0.0\n",
    "GC_MAX = 0.65\n",
    "GC_WINDOW = 50\n",
    "MIN_CAI = 0.9\n",
    "ORGANISM = \"kazusa-9606\"  # human\n",
    "\n",
    "def _optimize(input_sequence: InputSequence, organism):\n",
    "    if not input_sequence.sequence:\n",
    "        return input_sequence, None, \"Invalid sequence.\"\n",
    "\n",
    "    if len(input_sequence.sequence) % 3 != 0:\n",
    "        return input_sequence, None, \"Sequence out of frame (length not multiple of 3).\"\n",
    "    \n",
    "    problem = DnaOptimizationProblem(\n",
    "        sequence=input_sequence.sequence.nucleic_acid_sequence,\n",
    "        constraints=[\n",
    "            EnforceGCContent(mini=GC_MIN, maxi=GC_MAX, window=GC_WINDOW),\n",
    "            EnforceTranslation(),\n",
    "        ],\n",
    "        objectives=[\n",
    "            CodonOptimize(\n",
    "                codon_usage_table=organism.to_dnachisel_dict(),\n",
    "                method=\"use_best_codon\"\n",
    "            )\n",
    "        ],\n",
    "        logger=None,\n",
    "    )\n",
    "    problem.max_random_iters = 20_000\n",
    "\n",
    "    output_sequence = None\n",
    "    failed_reason = None\n",
    "    try:\n",
    "        problem.resolve_constraints()\n",
    "        problem.optimize()\n",
    "        output_sequence = Sequence.from_string(problem.sequence, \"nucleic-acid\")\n",
    "        if output_sequence.codon_adaptation_index(organism) < MIN_CAI:\n",
    "            failed_reason = f\"CAI < {MIN_CAI}\"\n",
    "    except NoSolutionError:\n",
    "        failed_reason = \"GC content constraint not resolvable.\"\n",
    "\n",
    "    return input_sequence, output_sequence, failed_reason\n",
    "\n",
    "organism = load_organism_from_web(ORGANISM)\n",
    "with concurrent.futures.ProcessPoolExecutor() as executor:\n",
    "    results = list(\n",
    "        executor.map(\n",
    "            _optimize,\n",
    "            sequences,\n",
    "            [organism for _ in sequences],\n",
    "        )\n",
    "    )"
   ]
  },
  {
   "cell_type": "code",
   "execution_count": 13,
   "id": "67615a88-f878-41c4-a9ac-89cef999e344",
   "metadata": {},
   "outputs": [
    {
     "data": {
      "text/html": [
       "<div><style>\n",
       ".dataframe > thead > tr,\n",
       ".dataframe > tbody > tr {\n",
       "  text-align: right;\n",
       "  white-space: pre-wrap;\n",
       "}\n",
       "</style>\n",
       "<small>shape: (50_713, 5)</small><table border=\"1\" class=\"dataframe\"><thead><tr><th>source</th><th>name</th><th>input_sequence</th><th>output_sequence</th><th>failed_reason</th></tr><tr><td>str</td><td>str</td><td>str</td><td>str</td><td>str</td></tr></thead><tbody><tr><td>&quot;hrt_hk_nt_seq_pulled_from_ense…</td><td>&quot;ENSG00000004059|ENSG0000000405…</td><td>&quot;ATGGGCCTCACCGTGTCCGCGCTCTTTTCG…</td><td>&quot;ATGGGCCTGACCGTGAGCGCCCTGTTCAGC…</td><td>&quot;&quot;</td></tr><tr><td>&quot;hrt_hk_nt_seq_pulled_from_ense…</td><td>&quot;ENSG00000003056|ENSG0000000305…</td><td>&quot;ATGTTCCCTTTCTACAGCTGCTGGAGGACT…</td><td>&quot;ATGTTCCCCTTCTACAGCTGCTGGAGAACC…</td><td>&quot;&quot;</td></tr><tr><td>&quot;hrt_hk_nt_seq_pulled_from_ense…</td><td>&quot;ENSG00000006451|ENSG0000000645…</td><td>&quot;ATGGCTGCAAATAAGCCCAAGGGTCAGAAT…</td><td>&quot;ATGGCCGCCAACAAGCCCAAGGGCCAGAAC…</td><td>&quot;&quot;</td></tr><tr><td>&quot;hrt_hk_nt_seq_pulled_from_ense…</td><td>&quot;ENSG00000007520|ENSG0000000752…</td><td>&quot;ATGGGCCGCAGGAGGGCAGCGCGCGGGCCG…</td><td>&quot;ATGGGAAGAAGAAGAGCCGCCAGAGGCCCC…</td><td>&quot;CAI &lt; 0.9&quot;</td></tr><tr><td>&quot;hrt_hk_nt_seq_pulled_from_ense…</td><td>&quot;ENSG00000004975|ENSG0000000497…</td><td>&quot;ATGGCGGGTAGCAGCACTGGGGGCGGTGGG…</td><td>&quot;ATGGCCGGATCTAGCACAGGCGGCGGAGGC…</td><td>&quot;&quot;</td></tr><tr><td>&hellip;</td><td>&hellip;</td><td>&hellip;</td><td>&hellip;</td><td>&hellip;</td></tr><tr><td>&quot;ensembl_ccds_tx_nt_seq.fa&quot;</td><td>&quot;ENSG00000173846|ENSG0000017384…</td><td>&quot;ATGGAGCCTGCCGCCGGTTTCCTGTCTCCG…</td><td>&quot;&quot;</td><td>&quot;GC content constraint not reso…</td></tr><tr><td>&quot;ensembl_ccds_tx_nt_seq.fa&quot;</td><td>&quot;ENSG00000142166|ENSG0000014216…</td><td>&quot;ATGGATAATTGGATAAAATTGTCTGGGTGT…</td><td>&quot;ATGGACAACTGGATCAAGCTGAGCGGCTGC…</td><td>&quot;&quot;</td></tr><tr><td>&quot;ensembl_ccds_tx_nt_seq.fa&quot;</td><td>&quot;ENSG00000180488|ENSG0000018048…</td><td>&quot;ATGTCAGACTGCTGCTCAGCGCCAGGCATC…</td><td>&quot;ATGAGCGACTGCTGCTCTGCCCCTGGCATT…</td><td>&quot;&quot;</td></tr><tr><td>&quot;ensembl_ccds_tx_nt_seq.fa&quot;</td><td>&quot;ENSG00000145216|ENSG0000014521…</td><td>&quot;ATGTCGGCCGGCGAGGTCGAGCGCCTAGTG…</td><td>&quot;ATGAGCGCTGGCGAAGTGGAAAGACTGGTG…</td><td>&quot;&quot;</td></tr><tr><td>&quot;ensembl_ccds_tx_nt_seq.fa&quot;</td><td>&quot;ENSG00000244414|ENSG0000024441…</td><td>&quot;ATGTGGCTCCTGGTCAGTGTAATTCTAATC…</td><td>&quot;ATGTGGCTGCTGGTGAGCGTGATCCTGATC…</td><td>&quot;&quot;</td></tr></tbody></table></div>"
      ],
      "text/plain": [
       "shape: (50_713, 5)\n",
       "┌───────────────────┬───────────────────┬───────────────────┬───────────────────┬──────────────────┐\n",
       "│ source            ┆ name              ┆ input_sequence    ┆ output_sequence   ┆ failed_reason    │\n",
       "│ ---               ┆ ---               ┆ ---               ┆ ---               ┆ ---              │\n",
       "│ str               ┆ str               ┆ str               ┆ str               ┆ str              │\n",
       "╞═══════════════════╪═══════════════════╪═══════════════════╪═══════════════════╪══════════════════╡\n",
       "│ hrt_hk_nt_seq_pul ┆ ENSG00000004059|E ┆ ATGGGCCTCACCGTGTC ┆ ATGGGCCTGACCGTGAG ┆                  │\n",
       "│ led_from_ense…    ┆ NSG0000000405…    ┆ CGCGCTCTTTTCG…    ┆ CGCCCTGTTCAGC…    ┆                  │\n",
       "│ hrt_hk_nt_seq_pul ┆ ENSG00000003056|E ┆ ATGTTCCCTTTCTACAG ┆ ATGTTCCCCTTCTACAG ┆                  │\n",
       "│ led_from_ense…    ┆ NSG0000000305…    ┆ CTGCTGGAGGACT…    ┆ CTGCTGGAGAACC…    ┆                  │\n",
       "│ hrt_hk_nt_seq_pul ┆ ENSG00000006451|E ┆ ATGGCTGCAAATAAGCC ┆ ATGGCCGCCAACAAGCC ┆                  │\n",
       "│ led_from_ense…    ┆ NSG0000000645…    ┆ CAAGGGTCAGAAT…    ┆ CAAGGGCCAGAAC…    ┆                  │\n",
       "│ hrt_hk_nt_seq_pul ┆ ENSG00000007520|E ┆ ATGGGCCGCAGGAGGGC ┆ ATGGGAAGAAGAAGAGC ┆ CAI < 0.9        │\n",
       "│ led_from_ense…    ┆ NSG0000000752…    ┆ AGCGCGCGGGCCG…    ┆ CGCCAGAGGCCCC…    ┆                  │\n",
       "│ hrt_hk_nt_seq_pul ┆ ENSG00000004975|E ┆ ATGGCGGGTAGCAGCAC ┆ ATGGCCGGATCTAGCAC ┆                  │\n",
       "│ led_from_ense…    ┆ NSG0000000497…    ┆ TGGGGGCGGTGGG…    ┆ AGGCGGCGGAGGC…    ┆                  │\n",
       "│ …                 ┆ …                 ┆ …                 ┆ …                 ┆ …                │\n",
       "│ ensembl_ccds_tx_n ┆ ENSG00000173846|E ┆ ATGGAGCCTGCCGCCGG ┆                   ┆ GC content       │\n",
       "│ t_seq.fa          ┆ NSG0000017384…    ┆ TTTCCTGTCTCCG…    ┆                   ┆ constraint not   │\n",
       "│                   ┆                   ┆                   ┆                   ┆ reso…            │\n",
       "│ ensembl_ccds_tx_n ┆ ENSG00000142166|E ┆ ATGGATAATTGGATAAA ┆ ATGGACAACTGGATCAA ┆                  │\n",
       "│ t_seq.fa          ┆ NSG0000014216…    ┆ ATTGTCTGGGTGT…    ┆ GCTGAGCGGCTGC…    ┆                  │\n",
       "│ ensembl_ccds_tx_n ┆ ENSG00000180488|E ┆ ATGTCAGACTGCTGCTC ┆ ATGAGCGACTGCTGCTC ┆                  │\n",
       "│ t_seq.fa          ┆ NSG0000018048…    ┆ AGCGCCAGGCATC…    ┆ TGCCCCTGGCATT…    ┆                  │\n",
       "│ ensembl_ccds_tx_n ┆ ENSG00000145216|E ┆ ATGTCGGCCGGCGAGGT ┆ ATGAGCGCTGGCGAAGT ┆                  │\n",
       "│ t_seq.fa          ┆ NSG0000014521…    ┆ CGAGCGCCTAGTG…    ┆ GGAAAGACTGGTG…    ┆                  │\n",
       "│ ensembl_ccds_tx_n ┆ ENSG00000244414|E ┆ ATGTGGCTCCTGGTCAG ┆ ATGTGGCTGCTGGTGAG ┆                  │\n",
       "│ t_seq.fa          ┆ NSG0000024441…    ┆ TGTAATTCTAATC…    ┆ CGTGATCCTGATC…    ┆                  │\n",
       "└───────────────────┴───────────────────┴───────────────────┴───────────────────┴──────────────────┘"
      ]
     },
     "execution_count": 13,
     "metadata": {},
     "output_type": "execute_result"
    }
   ],
   "source": [
    "df = pl.DataFrame([\n",
    "    {\n",
    "        \"source\": it[0].source,\n",
    "        \"name\": it[0].name,\n",
    "        \"input_sequence\": str(it[0].sequence) if it[0].sequence else \"\",\n",
    "        \"output_sequence\": str(it[1]) if it[1] else \"\",\n",
    "        \"failed_reason\": it[2] if it[2] else \"\",\n",
    "    }\n",
    "    for it in results\n",
    "])\n",
    "df.write_csv(output_dir / \"1-optimised.csv\")\n",
    "df"
   ]
  }
 ],
 "metadata": {
  "kernelspec": {
   "display_name": "Python 3 (ipykernel)",
   "language": "python",
   "name": "python3"
  },
  "language_info": {
   "codemirror_mode": {
    "name": "ipython",
    "version": 3
   },
   "file_extension": ".py",
   "mimetype": "text/x-python",
   "name": "python",
   "nbconvert_exporter": "python",
   "pygments_lexer": "ipython3",
   "version": "3.13.7"
  }
 },
 "nbformat": 4,
 "nbformat_minor": 5
}
