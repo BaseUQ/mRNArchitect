{
 "cells": [
  {
   "cell_type": "code",
   "execution_count": 1,
   "id": "7f1c3f53-fa42-453b-8f52-2d9cef436201",
   "metadata": {},
   "outputs": [],
   "source": [
    "import concurrent.futures\n",
    "import pathlib\n",
    "import os\n",
    "\n",
    "import polars as pl\n",
    "import plotnine as p9\n",
    "\n",
    "from tools.sequence.sequence import Sequence\n",
    "\n",
    "DATA_DIR = pathlib.Path(os.getcwd()) / \"..\" / \"..\" /\"_analysis\"\n",
    "OUTPUT_DIR = DATA_DIR / \"output\""
   ]
  },
  {
   "cell_type": "code",
   "execution_count": 2,
   "id": "b8baf748-07bd-4f20-9537-1a6339a90a93",
   "metadata": {},
   "outputs": [
    {
     "data": {
      "text/html": [
       "<div><style>\n",
       ".dataframe > thead > tr,\n",
       ".dataframe > tbody > tr {\n",
       "  text-align: right;\n",
       "  white-space: pre-wrap;\n",
       "}\n",
       "</style>\n",
       "<small>shape: (5_536, 5)</small><table border=\"1\" class=\"dataframe\"><thead><tr><th>source</th><th>name</th><th>input_sequence</th><th>output_sequence</th><th>failed_reason</th></tr><tr><td>str</td><td>str</td><td>str</td><td>str</td><td>str</td></tr></thead><tbody><tr><td>&quot;ena_cancer_vaccine_seq.fa&quot;</td><td>&quot;ENA|DD349577|DD349577.1&quot;</td><td>&quot;ATGGACTGGACCTGGAGGGTCTTCTTCTTG…</td><td>&quot;&quot;</td><td>&quot;Sequence out of frame (length …</td></tr><tr><td>&quot;ena_cancer_vaccine_seq.fa&quot;</td><td>&quot;ENA|DD349576|DD349576.1&quot;</td><td>&quot;ATGGGATGGAGCTGTATCATCCTCTCCTTG…</td><td>&quot;&quot;</td><td>&quot;Sequence out of frame (length …</td></tr><tr><td>&quot;ena_cancer_vaccine_seq.fa&quot;</td><td>&quot;ENA|DD349575|DD349575.1&quot;</td><td>&quot;TACCCATACGACGTCCCAGACTACGCTGGT…</td><td>&quot;TACCCCTACGACGTGCCTGACTACGCTGGA…</td><td>&quot;&quot;</td></tr><tr><td>&quot;ena_cancer_vaccine_seq.fa&quot;</td><td>&quot;ENA|DD349578|DD349578.1&quot;</td><td>&quot;ATGGACTGGACCTGGAGGGTCTTCTTCTTG…</td><td>&quot;&quot;</td><td>&quot;Sequence out of frame (length …</td></tr><tr><td>&quot;ena_cancer_vaccine_seq.fa&quot;</td><td>&quot;ENA|DD349569|DD349569.1&quot;</td><td>&quot;AACAGCGAGGCCTGCCGGGACGGCCTTCGG…</td><td>&quot;AACAGCGAGGCCTGCAGAGACGGCCTGAGA…</td><td>&quot;&quot;</td></tr><tr><td>&hellip;</td><td>&hellip;</td><td>&hellip;</td><td>&hellip;</td><td>&hellip;</td></tr><tr><td>&quot;iedb_antigen_aa_seqs.fa&quot;</td><td>&quot;sp|Q8IX19|MCEM1_HUMAN Mast cel…</td><td>&quot;ATGGAGGTGGAGGAGATCTACAAGCACCAG…</td><td>&quot;ATGGAGGTGGAGGAGATCTACAAGCACCAG…</td><td>&quot;&quot;</td></tr><tr><td>&quot;iedb_antigen_aa_seqs.fa&quot;</td><td>&quot;sp|Q9D287|SPF27_MOUSE Pre-mRNA…</td><td>&quot;ATGGCCGGCACCGGCCTGGTGGCCGGCGAG…</td><td>&quot;ATGGCCGGAACAGGCCTGGTGGCTGGCGAG…</td><td>&quot;&quot;</td></tr><tr><td>&quot;iedb_antigen_aa_seqs.fa&quot;</td><td>&quot;tr|Q4CN05|Q4CN05_TRYCC Trans-s…</td><td>&quot;ATGAGCAGACACCTGTTCTACAGCGCCGTG…</td><td>&quot;ATGAGCAGACACCTGTTCTACAGCGCCGTG…</td><td>&quot;&quot;</td></tr><tr><td>&quot;iedb_antigen_aa_seqs.fa&quot;</td><td>&quot;tr|Q5NG75|Q5NG75_FRATT Amino-a…</td><td>&quot;ATGGACAACAACCAGGACAAGCTGAAGAGA…</td><td>&quot;ATGGACAACAACCAGGACAAGCTGAAGAGA…</td><td>&quot;&quot;</td></tr><tr><td>&quot;iedb_antigen_aa_seqs.fa&quot;</td><td>&quot;sp|P14902|I23O1_HUMAN Indoleam…</td><td>&quot;ATGGCCCACGCCATGGAGAACAGCTGGACC…</td><td>&quot;ATGGCCCACGCCATGGAGAACAGCTGGACC…</td><td>&quot;&quot;</td></tr></tbody></table></div>"
      ],
      "text/plain": [
       "shape: (5_536, 5)\n",
       "┌───────────────────┬───────────────────┬───────────────────┬───────────────────┬──────────────────┐\n",
       "│ source            ┆ name              ┆ input_sequence    ┆ output_sequence   ┆ failed_reason    │\n",
       "│ ---               ┆ ---               ┆ ---               ┆ ---               ┆ ---              │\n",
       "│ str               ┆ str               ┆ str               ┆ str               ┆ str              │\n",
       "╞═══════════════════╪═══════════════════╪═══════════════════╪═══════════════════╪══════════════════╡\n",
       "│ ena_cancer_vaccin ┆ ENA|DD349577|DD34 ┆ ATGGACTGGACCTGGAG ┆                   ┆ Sequence out of  │\n",
       "│ e_seq.fa          ┆ 9577.1            ┆ GGTCTTCTTCTTG…    ┆                   ┆ frame (length …  │\n",
       "│ ena_cancer_vaccin ┆ ENA|DD349576|DD34 ┆ ATGGGATGGAGCTGTAT ┆                   ┆ Sequence out of  │\n",
       "│ e_seq.fa          ┆ 9576.1            ┆ CATCCTCTCCTTG…    ┆                   ┆ frame (length …  │\n",
       "│ ena_cancer_vaccin ┆ ENA|DD349575|DD34 ┆ TACCCATACGACGTCCC ┆ TACCCCTACGACGTGCC ┆                  │\n",
       "│ e_seq.fa          ┆ 9575.1            ┆ AGACTACGCTGGT…    ┆ TGACTACGCTGGA…    ┆                  │\n",
       "│ ena_cancer_vaccin ┆ ENA|DD349578|DD34 ┆ ATGGACTGGACCTGGAG ┆                   ┆ Sequence out of  │\n",
       "│ e_seq.fa          ┆ 9578.1            ┆ GGTCTTCTTCTTG…    ┆                   ┆ frame (length …  │\n",
       "│ ena_cancer_vaccin ┆ ENA|DD349569|DD34 ┆ AACAGCGAGGCCTGCCG ┆ AACAGCGAGGCCTGCAG ┆                  │\n",
       "│ e_seq.fa          ┆ 9569.1            ┆ GGACGGCCTTCGG…    ┆ AGACGGCCTGAGA…    ┆                  │\n",
       "│ …                 ┆ …                 ┆ …                 ┆ …                 ┆ …                │\n",
       "│ iedb_antigen_aa_s ┆ sp|Q8IX19|MCEM1_H ┆ ATGGAGGTGGAGGAGAT ┆ ATGGAGGTGGAGGAGAT ┆                  │\n",
       "│ eqs.fa            ┆ UMAN Mast cel…    ┆ CTACAAGCACCAG…    ┆ CTACAAGCACCAG…    ┆                  │\n",
       "│ iedb_antigen_aa_s ┆ sp|Q9D287|SPF27_M ┆ ATGGCCGGCACCGGCCT ┆ ATGGCCGGAACAGGCCT ┆                  │\n",
       "│ eqs.fa            ┆ OUSE Pre-mRNA…    ┆ GGTGGCCGGCGAG…    ┆ GGTGGCTGGCGAG…    ┆                  │\n",
       "│ iedb_antigen_aa_s ┆ tr|Q4CN05|Q4CN05_ ┆ ATGAGCAGACACCTGTT ┆ ATGAGCAGACACCTGTT ┆                  │\n",
       "│ eqs.fa            ┆ TRYCC Trans-s…    ┆ CTACAGCGCCGTG…    ┆ CTACAGCGCCGTG…    ┆                  │\n",
       "│ iedb_antigen_aa_s ┆ tr|Q5NG75|Q5NG75_ ┆ ATGGACAACAACCAGGA ┆ ATGGACAACAACCAGGA ┆                  │\n",
       "│ eqs.fa            ┆ FRATT Amino-a…    ┆ CAAGCTGAAGAGA…    ┆ CAAGCTGAAGAGA…    ┆                  │\n",
       "│ iedb_antigen_aa_s ┆ sp|P14902|I23O1_H ┆ ATGGCCCACGCCATGGA ┆ ATGGCCCACGCCATGGA ┆                  │\n",
       "│ eqs.fa            ┆ UMAN Indoleam…    ┆ GAACAGCTGGACC…    ┆ GAACAGCTGGACC…    ┆                  │\n",
       "└───────────────────┴───────────────────┴───────────────────┴───────────────────┴──────────────────┘"
      ]
     },
     "execution_count": 2,
     "metadata": {},
     "output_type": "execute_result"
    }
   ],
   "source": [
    "df = pl.read_csv(OUTPUT_DIR / \"1-optimise.csv\")\n",
    "df"
   ]
  },
  {
   "cell_type": "code",
   "execution_count": null,
   "id": "4f9987af-daf7-42f5-a25b-b464ad1a01f3",
   "metadata": {},
   "outputs": [],
   "source": [
    "def _mfe(sequence: str) -> float | None:\n",
    "    if not sequence:\n",
    "        return None\n",
    "\n",
    "    return Sequence.from_string(sequence).minimum_free_energy.energy\n",
    "\n",
    "with concurrent.futures.ProcessPoolExecutor() as executor:\n",
    "    df = df.with_columns(\n",
    "        input_mfe=pl.Series(\n",
    "            list(executor.map(_mfe, df[\"input_sequence\"].to_list()))\n",
    "        ),\n",
    "        output_mfe=pl.Series(\n",
    "            list(executor.map(_mfe, df[\"output_sequence\"].to_list()))\n",
    "        ),\n",
    "    )\n",
    "\n",
    "df.write_csv(output_dir / \"2.1-hydrate-mfe.csv\")"
   ]
  },
  {
   "cell_type": "code",
   "execution_count": null,
   "id": "286115a5-7d47-441d-9382-7fc272e152bb",
   "metadata": {},
   "outputs": [],
   "source": []
  }
 ],
 "metadata": {
  "kernelspec": {
   "display_name": "Python 3 (ipykernel)",
   "language": "python",
   "name": "python3"
  },
  "language_info": {
   "codemirror_mode": {
    "name": "ipython",
    "version": 3
   },
   "file_extension": ".py",
   "mimetype": "text/x-python",
   "name": "python",
   "nbconvert_exporter": "python",
   "pygments_lexer": "ipython3",
   "version": "3.13.7"
  }
 },
 "nbformat": 4,
 "nbformat_minor": 5
}
