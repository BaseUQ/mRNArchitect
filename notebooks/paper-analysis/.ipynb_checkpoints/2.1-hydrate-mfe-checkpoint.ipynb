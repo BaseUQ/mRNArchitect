{
 "cells": [
  {
   "cell_type": "code",
   "execution_count": 9,
   "id": "7f1c3f53-fa42-453b-8f52-2d9cef436201",
   "metadata": {},
   "outputs": [],
   "source": [
    "import concurrent.futures\n",
    "import pathlib\n",
    "import os\n",
    "\n",
    "import polars as pl\n",
    "import plotnine as p9\n",
    "\n",
    "from tools.sequence.sequence import Sequence"
   ]
  },
  {
   "cell_type": "code",
   "execution_count": 5,
   "id": "b8baf748-07bd-4f20-9537-1a6339a90a93",
   "metadata": {},
   "outputs": [
    {
     "data": {
      "text/html": [
       "<div><style>\n",
       ".dataframe > thead > tr,\n",
       ".dataframe > tbody > tr {\n",
       "  text-align: right;\n",
       "  white-space: pre-wrap;\n",
       "}\n",
       "</style>\n",
       "<small>shape: (50_713, 5)</small><table border=\"1\" class=\"dataframe\"><thead><tr><th>source</th><th>name</th><th>input_sequence</th><th>output_sequence</th><th>failed_reason</th></tr><tr><td>str</td><td>str</td><td>str</td><td>str</td><td>str</td></tr></thead><tbody><tr><td>&quot;hrt_hk_nt_seq_pulled_from_ense…</td><td>&quot;ENSG00000004059|ENSG0000000405…</td><td>&quot;ATGGGCCTCACCGTGTCCGCGCTCTTTTCG…</td><td>&quot;ATGGGCCTGACCGTGAGCGCCCTGTTCAGC…</td><td>&quot;&quot;</td></tr><tr><td>&quot;hrt_hk_nt_seq_pulled_from_ense…</td><td>&quot;ENSG00000003056|ENSG0000000305…</td><td>&quot;ATGTTCCCTTTCTACAGCTGCTGGAGGACT…</td><td>&quot;ATGTTCCCCTTCTACAGCTGCTGGAGAACC…</td><td>&quot;&quot;</td></tr><tr><td>&quot;hrt_hk_nt_seq_pulled_from_ense…</td><td>&quot;ENSG00000006451|ENSG0000000645…</td><td>&quot;ATGGCTGCAAATAAGCCCAAGGGTCAGAAT…</td><td>&quot;ATGGCCGCCAACAAGCCCAAGGGCCAGAAC…</td><td>&quot;&quot;</td></tr><tr><td>&quot;hrt_hk_nt_seq_pulled_from_ense…</td><td>&quot;ENSG00000007520|ENSG0000000752…</td><td>&quot;ATGGGCCGCAGGAGGGCAGCGCGCGGGCCG…</td><td>&quot;ATGGGAAGAAGAAGAGCCGCCAGAGGCCCC…</td><td>&quot;CAI &lt; 0.9&quot;</td></tr><tr><td>&quot;hrt_hk_nt_seq_pulled_from_ense…</td><td>&quot;ENSG00000004975|ENSG0000000497…</td><td>&quot;ATGGCGGGTAGCAGCACTGGGGGCGGTGGG…</td><td>&quot;ATGGCCGGATCTAGCACAGGCGGCGGAGGC…</td><td>&quot;&quot;</td></tr><tr><td>&hellip;</td><td>&hellip;</td><td>&hellip;</td><td>&hellip;</td><td>&hellip;</td></tr><tr><td>&quot;ensembl_ccds_tx_nt_seq.fa&quot;</td><td>&quot;ENSG00000173846|ENSG0000017384…</td><td>&quot;ATGGAGCCTGCCGCCGGTTTCCTGTCTCCG…</td><td>&quot;&quot;</td><td>&quot;GC content constraint not reso…</td></tr><tr><td>&quot;ensembl_ccds_tx_nt_seq.fa&quot;</td><td>&quot;ENSG00000142166|ENSG0000014216…</td><td>&quot;ATGGATAATTGGATAAAATTGTCTGGGTGT…</td><td>&quot;ATGGACAACTGGATCAAGCTGAGCGGCTGC…</td><td>&quot;&quot;</td></tr><tr><td>&quot;ensembl_ccds_tx_nt_seq.fa&quot;</td><td>&quot;ENSG00000180488|ENSG0000018048…</td><td>&quot;ATGTCAGACTGCTGCTCAGCGCCAGGCATC…</td><td>&quot;ATGAGCGACTGCTGCTCTGCCCCTGGCATT…</td><td>&quot;&quot;</td></tr><tr><td>&quot;ensembl_ccds_tx_nt_seq.fa&quot;</td><td>&quot;ENSG00000145216|ENSG0000014521…</td><td>&quot;ATGTCGGCCGGCGAGGTCGAGCGCCTAGTG…</td><td>&quot;ATGAGCGCTGGCGAAGTGGAAAGACTGGTG…</td><td>&quot;&quot;</td></tr><tr><td>&quot;ensembl_ccds_tx_nt_seq.fa&quot;</td><td>&quot;ENSG00000244414|ENSG0000024441…</td><td>&quot;ATGTGGCTCCTGGTCAGTGTAATTCTAATC…</td><td>&quot;ATGTGGCTGCTGGTGAGCGTGATCCTGATC…</td><td>&quot;&quot;</td></tr></tbody></table></div>"
      ],
      "text/plain": [
       "shape: (50_713, 5)\n",
       "┌───────────────────┬───────────────────┬───────────────────┬───────────────────┬──────────────────┐\n",
       "│ source            ┆ name              ┆ input_sequence    ┆ output_sequence   ┆ failed_reason    │\n",
       "│ ---               ┆ ---               ┆ ---               ┆ ---               ┆ ---              │\n",
       "│ str               ┆ str               ┆ str               ┆ str               ┆ str              │\n",
       "╞═══════════════════╪═══════════════════╪═══════════════════╪═══════════════════╪══════════════════╡\n",
       "│ hrt_hk_nt_seq_pul ┆ ENSG00000004059|E ┆ ATGGGCCTCACCGTGTC ┆ ATGGGCCTGACCGTGAG ┆                  │\n",
       "│ led_from_ense…    ┆ NSG0000000405…    ┆ CGCGCTCTTTTCG…    ┆ CGCCCTGTTCAGC…    ┆                  │\n",
       "│ hrt_hk_nt_seq_pul ┆ ENSG00000003056|E ┆ ATGTTCCCTTTCTACAG ┆ ATGTTCCCCTTCTACAG ┆                  │\n",
       "│ led_from_ense…    ┆ NSG0000000305…    ┆ CTGCTGGAGGACT…    ┆ CTGCTGGAGAACC…    ┆                  │\n",
       "│ hrt_hk_nt_seq_pul ┆ ENSG00000006451|E ┆ ATGGCTGCAAATAAGCC ┆ ATGGCCGCCAACAAGCC ┆                  │\n",
       "│ led_from_ense…    ┆ NSG0000000645…    ┆ CAAGGGTCAGAAT…    ┆ CAAGGGCCAGAAC…    ┆                  │\n",
       "│ hrt_hk_nt_seq_pul ┆ ENSG00000007520|E ┆ ATGGGCCGCAGGAGGGC ┆ ATGGGAAGAAGAAGAGC ┆ CAI < 0.9        │\n",
       "│ led_from_ense…    ┆ NSG0000000752…    ┆ AGCGCGCGGGCCG…    ┆ CGCCAGAGGCCCC…    ┆                  │\n",
       "│ hrt_hk_nt_seq_pul ┆ ENSG00000004975|E ┆ ATGGCGGGTAGCAGCAC ┆ ATGGCCGGATCTAGCAC ┆                  │\n",
       "│ led_from_ense…    ┆ NSG0000000497…    ┆ TGGGGGCGGTGGG…    ┆ AGGCGGCGGAGGC…    ┆                  │\n",
       "│ …                 ┆ …                 ┆ …                 ┆ …                 ┆ …                │\n",
       "│ ensembl_ccds_tx_n ┆ ENSG00000173846|E ┆ ATGGAGCCTGCCGCCGG ┆                   ┆ GC content       │\n",
       "│ t_seq.fa          ┆ NSG0000017384…    ┆ TTTCCTGTCTCCG…    ┆                   ┆ constraint not   │\n",
       "│                   ┆                   ┆                   ┆                   ┆ reso…            │\n",
       "│ ensembl_ccds_tx_n ┆ ENSG00000142166|E ┆ ATGGATAATTGGATAAA ┆ ATGGACAACTGGATCAA ┆                  │\n",
       "│ t_seq.fa          ┆ NSG0000014216…    ┆ ATTGTCTGGGTGT…    ┆ GCTGAGCGGCTGC…    ┆                  │\n",
       "│ ensembl_ccds_tx_n ┆ ENSG00000180488|E ┆ ATGTCAGACTGCTGCTC ┆ ATGAGCGACTGCTGCTC ┆                  │\n",
       "│ t_seq.fa          ┆ NSG0000018048…    ┆ AGCGCCAGGCATC…    ┆ TGCCCCTGGCATT…    ┆                  │\n",
       "│ ensembl_ccds_tx_n ┆ ENSG00000145216|E ┆ ATGTCGGCCGGCGAGGT ┆ ATGAGCGCTGGCGAAGT ┆                  │\n",
       "│ t_seq.fa          ┆ NSG0000014521…    ┆ CGAGCGCCTAGTG…    ┆ GGAAAGACTGGTG…    ┆                  │\n",
       "│ ensembl_ccds_tx_n ┆ ENSG00000244414|E ┆ ATGTGGCTCCTGGTCAG ┆ ATGTGGCTGCTGGTGAG ┆                  │\n",
       "│ t_seq.fa          ┆ NSG0000024441…    ┆ TGTAATTCTAATC…    ┆ CGTGATCCTGATC…    ┆                  │\n",
       "└───────────────────┴───────────────────┴───────────────────┴───────────────────┴──────────────────┘"
      ]
     },
     "execution_count": 5,
     "metadata": {},
     "output_type": "execute_result"
    }
   ],
   "source": [
    "df = pl.read_csv(pathlib.Path(os.getcwd()) / \"..\" / \"_analysis_data\" / \"output\" / \"1-optimised.csv\")\n",
    "df"
   ]
  },
  {
   "cell_type": "code",
   "execution_count": 10,
   "id": "4f9987af-daf7-42f5-a25b-b464ad1a01f3",
   "metadata": {},
   "outputs": [
    {
     "ename": "KeyboardInterrupt",
     "evalue": "",
     "output_type": "error",
     "traceback": [
      "\u001b[31m---------------------------------------------------------------------------\u001b[39m",
      "\u001b[31mKeyboardInterrupt\u001b[39m                         Traceback (most recent call last)",
      "\u001b[36mCell\u001b[39m\u001b[36m \u001b[39m\u001b[32mIn[10]\u001b[39m\u001b[32m, line 8\u001b[39m\n\u001b[32m      5\u001b[39m     \u001b[38;5;28;01mreturn\u001b[39;00m sequence, Sequence.from_string(sequence).minimum_free_energy()\n\u001b[32m      7\u001b[39m input_sequences = df[\u001b[33m\"\u001b[39m\u001b[33minput_sequence\u001b[39m\u001b[33m\"\u001b[39m].to_list()\n\u001b[32m----> \u001b[39m\u001b[32m8\u001b[39m \u001b[38;5;28;43;01mwith\u001b[39;49;00m\u001b[43m \u001b[49m\u001b[43mconcurrent\u001b[49m\u001b[43m.\u001b[49m\u001b[43mfutures\u001b[49m\u001b[43m.\u001b[49m\u001b[43mProcessPoolExecutor\u001b[49m\u001b[43m(\u001b[49m\u001b[43m)\u001b[49m\u001b[43m \u001b[49m\u001b[38;5;28;43;01mas\u001b[39;49;00m\u001b[43m \u001b[49m\u001b[43mexecutor\u001b[49m\u001b[43m:\u001b[49m\n\u001b[32m      9\u001b[39m \u001b[43m    \u001b[49m\u001b[43mresults\u001b[49m\u001b[43m \u001b[49m\u001b[43m=\u001b[49m\u001b[43m \u001b[49m\u001b[43mexecutor\u001b[49m\u001b[43m.\u001b[49m\u001b[43mmap\u001b[49m\u001b[43m(\u001b[49m\u001b[43m_mfe\u001b[49m\u001b[43m,\u001b[49m\u001b[43m \u001b[49m\u001b[43minput_sequences\u001b[49m\u001b[43m)\u001b[49m\n\u001b[32m     10\u001b[39m df[\u001b[33m\"\u001b[39m\u001b[33minput_mfe\u001b[39m\u001b[33m\"\u001b[39m] = pl.Series([it[\u001b[32m1\u001b[39m] \u001b[38;5;28;01mfor\u001b[39;00m it \u001b[38;5;129;01min\u001b[39;00m results])\n",
      "\u001b[36mFile \u001b[39m\u001b[32m/usr/lib/python3.13/concurrent/futures/_base.py:647\u001b[39m, in \u001b[36mExecutor.__exit__\u001b[39m\u001b[34m(self, exc_type, exc_val, exc_tb)\u001b[39m\n\u001b[32m    646\u001b[39m \u001b[38;5;28;01mdef\u001b[39;00m\u001b[38;5;250m \u001b[39m\u001b[34m__exit__\u001b[39m(\u001b[38;5;28mself\u001b[39m, exc_type, exc_val, exc_tb):\n\u001b[32m--> \u001b[39m\u001b[32m647\u001b[39m     \u001b[38;5;28;43mself\u001b[39;49m\u001b[43m.\u001b[49m\u001b[43mshutdown\u001b[49m\u001b[43m(\u001b[49m\u001b[43mwait\u001b[49m\u001b[43m=\u001b[49m\u001b[38;5;28;43;01mTrue\u001b[39;49;00m\u001b[43m)\u001b[49m\n\u001b[32m    648\u001b[39m     \u001b[38;5;28;01mreturn\u001b[39;00m \u001b[38;5;28;01mFalse\u001b[39;00m\n",
      "\u001b[36mFile \u001b[39m\u001b[32m/usr/lib/python3.13/concurrent/futures/process.py:851\u001b[39m, in \u001b[36mProcessPoolExecutor.shutdown\u001b[39m\u001b[34m(self, wait, cancel_futures)\u001b[39m\n\u001b[32m    848\u001b[39m         \u001b[38;5;28mself\u001b[39m._executor_manager_thread_wakeup.wakeup()\n\u001b[32m    850\u001b[39m \u001b[38;5;28;01mif\u001b[39;00m \u001b[38;5;28mself\u001b[39m._executor_manager_thread \u001b[38;5;129;01mis\u001b[39;00m \u001b[38;5;129;01mnot\u001b[39;00m \u001b[38;5;28;01mNone\u001b[39;00m \u001b[38;5;129;01mand\u001b[39;00m wait:\n\u001b[32m--> \u001b[39m\u001b[32m851\u001b[39m     \u001b[38;5;28;43mself\u001b[39;49m\u001b[43m.\u001b[49m\u001b[43m_executor_manager_thread\u001b[49m\u001b[43m.\u001b[49m\u001b[43mjoin\u001b[49m\u001b[43m(\u001b[49m\u001b[43m)\u001b[49m\n\u001b[32m    852\u001b[39m \u001b[38;5;66;03m# To reduce the risk of opening too many files, remove references to\u001b[39;00m\n\u001b[32m    853\u001b[39m \u001b[38;5;66;03m# objects that use file descriptors.\u001b[39;00m\n\u001b[32m    854\u001b[39m \u001b[38;5;28mself\u001b[39m._executor_manager_thread = \u001b[38;5;28;01mNone\u001b[39;00m\n",
      "\u001b[36mFile \u001b[39m\u001b[32m/usr/lib/python3.13/threading.py:1094\u001b[39m, in \u001b[36mThread.join\u001b[39m\u001b[34m(self, timeout)\u001b[39m\n\u001b[32m   1091\u001b[39m \u001b[38;5;28;01mif\u001b[39;00m timeout \u001b[38;5;129;01mis\u001b[39;00m \u001b[38;5;129;01mnot\u001b[39;00m \u001b[38;5;28;01mNone\u001b[39;00m:\n\u001b[32m   1092\u001b[39m     timeout = \u001b[38;5;28mmax\u001b[39m(timeout, \u001b[32m0\u001b[39m)\n\u001b[32m-> \u001b[39m\u001b[32m1094\u001b[39m \u001b[38;5;28;43mself\u001b[39;49m\u001b[43m.\u001b[49m\u001b[43m_handle\u001b[49m\u001b[43m.\u001b[49m\u001b[43mjoin\u001b[49m\u001b[43m(\u001b[49m\u001b[43mtimeout\u001b[49m\u001b[43m)\u001b[49m\n",
      "\u001b[31mKeyboardInterrupt\u001b[39m: "
     ]
    }
   ],
   "source": [
    "def _mfe(sequence: str) -> float | None:\n",
    "    if not sequence:\n",
    "        return None\n",
    "\n",
    "    return Sequence.from_string(sequence).minimum_free_energy()\n",
    "\n",
    "with concurrent.futures.ProcessPoolExecutor() as executor:\n",
    "    results = executor.map(_mfe, df[\"input_sequence\"].to_list())\n",
    "    df[\"input_mfe\"] = pl.Series(results)\n",
    "\n",
    "with concurrent.futures.ProcessPoolExecutor() as executor:\n",
    "    results = executor.map(_mfe, df[\"output_sequence\"].to_list()\n",
    "    df[\"output_mfe\"] = pl.Series(results)\n"
   ]
  },
  {
   "cell_type": "code",
   "execution_count": null,
   "id": "c973ff74-ce37-4d3e-b498-3eccbe4c37b4",
   "metadata": {},
   "outputs": [],
   "source": [
    "df.write_csv(output_dir / \"2.1-hydrated-mfe.csv\")"
   ]
  }
 ],
 "metadata": {
  "kernelspec": {
   "display_name": "Python 3 (ipykernel)",
   "language": "python",
   "name": "python3"
  },
  "language_info": {
   "codemirror_mode": {
    "name": "ipython",
    "version": 3
   },
   "file_extension": ".py",
   "mimetype": "text/x-python",
   "name": "python",
   "nbconvert_exporter": "python",
   "pygments_lexer": "ipython3",
   "version": "3.13.7"
  }
 },
 "nbformat": 4,
 "nbformat_minor": 5
}
