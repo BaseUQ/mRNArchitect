{
 "cells": [
  {
   "cell_type": "code",
   "execution_count": null,
   "id": "8d32aaa2-c94d-4dfe-b2a1-7170e4410086",
   "metadata": {},
   "outputs": [],
   "source": [
    "import concurrent.futures\n",
    "import pathlib\n",
    "import os\n",
    "\n",
    "import polars as pl\n",
    "import plotnine as p9\n",
    "\n",
    "from tools.sequence.sequence import Sequence\n",
    "\n",
    "DATA_DIR = pathlib.Path(os.getcwd()) / \"..\" / \"..\" /\"_analysis\"\n",
    "OUTPUT_DIR = DATA_DIR / \"output\""
   ]
  },
  {
   "cell_type": "code",
   "execution_count": null,
   "id": "478de987-65f8-4a25-8003-c7932ccd2976",
   "metadata": {},
   "outputs": [],
   "source": [
    "df = pl.read_csv(OUTPUT_DIR / \"2.1-hydrate-gc.csv\")\n",
    "df"
   ]
  },
  {
   "cell_type": "code",
   "execution_count": null,
   "id": "3096438b-edd4-4597-a28c-c2961fd7f173",
   "metadata": {},
   "outputs": [],
   "source": [
    "df = df.with_columns(\n",
    "    input_cai=pl.col(\"input_sequence\").map_elements(lambda x: Sequence(x).codon_adaptation_index(), return_dtype=pl.Float64),\n",
    "    input_gc=pl.col(\"input_sequence\").map_elements(lambda x: Sequence(x).gc_ratio, return_dtype=pl.Float64),\n",
    "    \n",
    "    output_cai=pl.col(\"output_sequence\").map_elements(lambda x: Sequence(x).codon_adaptation_index(), return_dtype=pl.Float64),\n",
    "    output_gc=pl.col(\"output_sequence\").map_elements(lambda x: Suquence(x).gc_ratio, return_dtype=pl.Float64),\n",
    ")\n",
    "df"
   ]
  }
 ],
 "metadata": {
  "kernelspec": {
   "display_name": "Python 3 (ipykernel)",
   "language": "python",
   "name": "python3"
  },
  "language_info": {
   "codemirror_mode": {
    "name": "ipython",
    "version": 3
   },
   "file_extension": ".py",
   "mimetype": "text/x-python",
   "name": "python",
   "nbconvert_exporter": "python",
   "pygments_lexer": "ipython3",
   "version": "3.13.7"
  }
 },
 "nbformat": 4,
 "nbformat_minor": 5
}
